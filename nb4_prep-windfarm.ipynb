{
 "cells": [
  {
   "cell_type": "markdown",
   "metadata": {},
   "source": [
    "# Notebook 4 - Preprocessing dataset #2: Predicting windfarm power output\n",
    "\n",
    "On to the second dataset. Here the task is to predict the power output of a windfarm in Chile. The farm consists of over 20 turbines with a hub height of 80 meters. \n",
    "\n",
    "The data we have available are NWP forecasts from three different global models and observation data taken from withing the wind farm.\n",
    "\n",
    "In this notebook, we will explore the data and prepare it for our machine learning models. This dataset requires a lot more work than our first post-processing dataset. Let's get started"
   ]
  },
  {
   "cell_type": "code",
   "execution_count": 120,
   "metadata": {},
   "outputs": [],
   "source": [
    "import os\n",
    "import xarray as xr\n",
    "import numpy as np\n",
    "import datetime as dt\n",
    "import pandas as pd\n",
    "import matplotlib.pyplot as plt\n",
    "%matplotlib inline\n",
    "from tqdm import tqdm_notebook as tqdm\n",
    "import pickle"
   ]
  },
  {
   "cell_type": "code",
   "execution_count": 2,
   "metadata": {},
   "outputs": [],
   "source": [
    "DATA_DIR = '/local/S.Rasp/ML-Workshop-Data/dataset2/'"
   ]
  },
  {
   "cell_type": "code",
   "execution_count": 3,
   "metadata": {},
   "outputs": [
    {
     "data": {
      "text/plain": [
       "['ml_workshop_data.7z',\n",
       " 'README.md',\n",
       " 'metobs.nc',\n",
       " 'nwp_ecmwf-ifs.nc',\n",
       " 'nwp_envca-gdps.nc',\n",
       " 'nwp_ncep-gfs4.nc',\n",
       " 'windpark.nc',\n",
       " 'forecast_errors.png',\n",
       " 'power_curve_single_turbine.png']"
      ]
     },
     "execution_count": 3,
     "metadata": {},
     "output_type": "execute_result"
    }
   ],
   "source": [
    "os.listdir(DATA_DIR)"
   ]
  },
  {
   "cell_type": "markdown",
   "metadata": {},
   "source": [
    "## Exploratory data analysis (EDA)\n",
    "\n",
    "First, let's understand the different files. The files are in netCDF format. We will use [xarray](http://xarray.pydata.org/en/stable/) to handle these files. xarray is designed to be the Pandas for multi-dimensional data.\n",
    "\n",
    "xarray has two basic objects: Datasets and DataArrays. Datasets contain multiple variables (e.g. temperature, humidity, etc.) while DataArrays just contain one variables. Datasets therefore are a combination of multiple DataArrays."
   ]
  },
  {
   "cell_type": "markdown",
   "metadata": {},
   "source": [
    "### NWP Data\n",
    "\n",
    "These three files contain global NWP forecast from three models: ECMWF, Environment Canada and NCEP.\n",
    "\n"
   ]
  },
  {
   "cell_type": "code",
   "execution_count": 4,
   "metadata": {},
   "outputs": [],
   "source": [
    "# Open all three\n",
    "nwp_ec = xr.open_dataset(DATA_DIR + 'nwp_ecmwf-ifs.nc')\n",
    "nwp_en = xr.open_dataset(DATA_DIR + 'nwp_envca-gdps.nc')\n",
    "nwp_nc = xr.open_dataset(DATA_DIR + 'nwp_ncep-gfs4.nc')"
   ]
  },
  {
   "cell_type": "code",
   "execution_count": 5,
   "metadata": {},
   "outputs": [],
   "source": [
    "nwps = {'ec': nwp_ec, 'en': nwp_en, 'nc': nwp_nc}"
   ]
  },
  {
   "cell_type": "code",
   "execution_count": 8,
   "metadata": {},
   "outputs": [
    {
     "data": {
      "text/plain": [
       "dict_items([('ec', <xarray.Dataset>\n",
       "Dimensions:   (epoch_s: 1463, offset_s: 49)\n",
       "Coordinates:\n",
       "  * epoch_s   (epoch_s) int32 1420070400 1420113600 1420156800 1420200000 ...\n",
       "  * offset_s  (offset_s) int32 0 10800 21600 32400 43200 54000 64800 75600 ...\n",
       "Data variables:\n",
       "    ws100m    (epoch_s, offset_s) float32 ...\n",
       "    wd100m    (epoch_s, offset_s) float32 ...\n",
       "    ws10m     (epoch_s, offset_s) float32 ...\n",
       "    wd10m     (epoch_s, offset_s) float32 ...\n",
       "    t2m       (epoch_s, offset_s) float32 ...\n",
       "    blh       (epoch_s, offset_s) float32 ...), ('en', <xarray.Dataset>\n",
       "Dimensions:   (epoch_s: 1463, offset_s: 49)\n",
       "Coordinates:\n",
       "  * epoch_s   (epoch_s) int32 1420070400 1420113600 1420156800 1420200000 ...\n",
       "  * offset_s  (offset_s) int32 0 10800 21600 32400 43200 54000 64800 75600 ...\n",
       "Data variables:\n",
       "    ws1000mb  (epoch_s, offset_s) float32 ...\n",
       "    wd1000mb  (epoch_s, offset_s) float32 ...\n",
       "    ws925mb   (epoch_s, offset_s) float32 ...\n",
       "    wd925mb   (epoch_s, offset_s) float32 ...\n",
       "    tclcov    (epoch_s, offset_s) float32 ...\n",
       "    t2m       (epoch_s, offset_s) float32 ...\n",
       "    q         (epoch_s, offset_s) float32 ...), ('nc', <xarray.Dataset>\n",
       "Dimensions:   (epoch_s: 2925, offset_s: 49)\n",
       "Coordinates:\n",
       "  * epoch_s   (epoch_s) int32 1420070400 1420092000 1420113600 1420135200 ...\n",
       "  * offset_s  (offset_s) int32 0 10800 21600 32400 43200 54000 64800 75600 ...\n",
       "Data variables:\n",
       "    ws100m    (epoch_s, offset_s) float32 ...\n",
       "    wd100m    (epoch_s, offset_s) float32 ...\n",
       "    ws10m     (epoch_s, offset_s) float32 ...\n",
       "    wd10m     (epoch_s, offset_s) float32 ...\n",
       "    t1000mb   (epoch_s, offset_s) float32 ...)])"
      ]
     },
     "execution_count": 8,
     "metadata": {},
     "output_type": "execute_result"
    }
   ],
   "source": [
    "# Here we can see the information inside a dataset. \n",
    "nwps.items()"
   ]
  },
  {
   "cell_type": "markdown",
   "metadata": {},
   "source": [
    "Datasets have dimensions, each of which comes with a coordinate array, specifying for example the longitude. Datasets also have one or more data variables. \n",
    "\n",
    "Note that xarray does not actually load the data into memory, but only the meta-information. The actual data will only be loaded, if we use or access it directly."
   ]
  },
  {
   "cell_type": "code",
   "execution_count": 10,
   "metadata": {},
   "outputs": [
    {
     "data": {
      "text/plain": [
       "<xarray.DataArray 'ws100m' (epoch_s: 1463, offset_s: 49)>\n",
       "array([[5.862752, 6.489872, 5.634605, ..., 3.723847, 3.393842, 3.08379 ],\n",
       "       [4.399415, 6.428493, 6.897442, ..., 1.98581 , 1.536039, 1.566706],\n",
       "       [6.382539, 3.919209, 3.203686, ..., 4.056922, 2.816343, 1.857518],\n",
       "       ...,\n",
       "       [4.498196, 4.457619, 4.138986, ..., 6.241402, 7.019463, 7.035955],\n",
       "       [3.764302, 5.218565, 7.210479, ..., 2.672324, 3.532972, 6.649615],\n",
       "       [     nan,      nan,      nan, ...,      nan,      nan,      nan]],\n",
       "      dtype=float32)\n",
       "Coordinates:\n",
       "  * epoch_s   (epoch_s) int32 1420070400 1420113600 1420156800 1420200000 ...\n",
       "  * offset_s  (offset_s) int32 0 10800 21600 32400 43200 54000 64800 75600 ...\n",
       "Attributes:\n",
       "    descr:    wind speed 100 m above surface\n",
       "    units:    m/s"
      ]
     },
     "execution_count": 10,
     "metadata": {},
     "output_type": "execute_result"
    }
   ],
   "source": [
    "nwps['ec'].ws100m"
   ]
  },
  {
   "cell_type": "markdown",
   "metadata": {},
   "source": [
    "This is now a DataArray. As you can see it also has coordinates and dimensions, and additionally attributes such as units.\n",
    "\n",
    "- `epoch_s` is the initialization time of the forecast as a POSIX timestamp (seconds after 1970-01-01 00:00)\n",
    "- `offset_s` is the forecast lead time for a given forecast in seconds\n",
    "\n",
    "POSIX timestamps might not be the most convenient to work with. So we will convert them to numpy datetime objects."
   ]
  },
  {
   "cell_type": "code",
   "execution_count": 12,
   "metadata": {},
   "outputs": [],
   "source": [
    "# Convert POSIX to datetime\n",
    "for nwp in nwps.values():\n",
    "    nwp['epoch_s'] = pd.to_datetime(nwp.epoch_s, unit='s')"
   ]
  },
  {
   "cell_type": "code",
   "execution_count": 14,
   "metadata": {},
   "outputs": [
    {
     "data": {
      "text/plain": [
       "<xarray.DataArray 'epoch_s' (epoch_s: 1463)>\n",
       "array(['2015-01-01T00:00:00.000000000', '2015-01-01T12:00:00.000000000',\n",
       "       '2015-01-02T00:00:00.000000000', ..., '2016-12-31T00:00:00.000000000',\n",
       "       '2016-12-31T12:00:00.000000000', '2017-01-01T00:00:00.000000000'],\n",
       "      dtype='datetime64[ns]')\n",
       "Coordinates:\n",
       "  * epoch_s  (epoch_s) datetime64[ns] 2015-01-01 2015-01-01T12:00:00 ..."
      ]
     },
     "execution_count": 14,
     "metadata": {},
     "output_type": "execute_result"
    }
   ],
   "source": [
    "nwps['ec'].epoch_s"
   ]
  },
  {
   "cell_type": "markdown",
   "metadata": {},
   "source": [
    "Now, we would like to know how much data is available for each NWP model."
   ]
  },
  {
   "cell_type": "code",
   "execution_count": 16,
   "metadata": {},
   "outputs": [],
   "source": [
    "ns2h = 1 / (1e9 * 60 * 60)\n",
    "ns2min = 1 / (1e9 * 60)"
   ]
  },
  {
   "cell_type": "code",
   "execution_count": 19,
   "metadata": {},
   "outputs": [
    {
     "name": "stdout",
     "output_type": "stream",
     "text": [
      "ec <xarray.DataArray 'epoch_s' ()>\n",
      "array('2015-01-01T00:00:00.000000000', dtype='datetime64[ns]') <xarray.DataArray 'epoch_s' ()>\n",
      "array('2017-01-01T00:00:00.000000000', dtype='datetime64[ns]') 12.0\n",
      "en <xarray.DataArray 'epoch_s' ()>\n",
      "array('2015-01-01T00:00:00.000000000', dtype='datetime64[ns]') <xarray.DataArray 'epoch_s' ()>\n",
      "array('2017-01-01T00:00:00.000000000', dtype='datetime64[ns]') 12.0\n",
      "nc <xarray.DataArray 'epoch_s' ()>\n",
      "array('2015-01-01T00:00:00.000000000', dtype='datetime64[ns]') <xarray.DataArray 'epoch_s' ()>\n",
      "array('2017-01-01T00:00:00.000000000', dtype='datetime64[ns]') 6.0\n"
     ]
    }
   ],
   "source": [
    "for m, nwp in nwps.items():\n",
    "    print(m, nwp.epoch_s.min(), nwp.epoch_s.max(), int(nwp.epoch_s[1] - nwp.epoch_s[0]) * ns2h)"
   ]
  },
  {
   "cell_type": "markdown",
   "metadata": {},
   "source": [
    "Data is available for the years 2015 and 2016. Two models have forecasts in a 12 hour interval, the last model has a 6 hour interval."
   ]
  },
  {
   "cell_type": "code",
   "execution_count": 21,
   "metadata": {},
   "outputs": [
    {
     "name": "stdout",
     "output_type": "stream",
     "text": [
      "ec <xarray.DataArray 'offset_s' ()>\n",
      "array(144.) <xarray.DataArray 'offset_s' ()>\n",
      "array(3.)\n",
      "en <xarray.DataArray 'offset_s' ()>\n",
      "array(144.) <xarray.DataArray 'offset_s' ()>\n",
      "array(3.)\n",
      "nc <xarray.DataArray 'offset_s' ()>\n",
      "array(144.) <xarray.DataArray 'offset_s' ()>\n",
      "array(3.)\n"
     ]
    }
   ],
   "source": [
    "for m, nwp in nwps.items():\n",
    "    print(m, nwp.offset_s.max() / 60 / 60, (nwp.offset_s[1] - nwp.offset_s[0]) / 60 / 60)"
   ]
  },
  {
   "cell_type": "markdown",
   "metadata": {},
   "source": [
    "All models have a maximum forecast lead time of 144 hours = 6 days and output in 3 hour intervals."
   ]
  },
  {
   "cell_type": "markdown",
   "metadata": {},
   "source": [
    "### Mast data\n",
    "\n",
    "Quantities `ws80m` and `ws34m` are taken from a met mast located inside the wind farm. The other quantities are averages over all available nacelle anemometers, and as such may not be as accurate or quality controlled."
   ]
  },
  {
   "cell_type": "code",
   "execution_count": 22,
   "metadata": {},
   "outputs": [
    {
     "data": {
      "text/plain": [
       "<xarray.Dataset>\n",
       "Dimensions:  (epoch_s: 63072)\n",
       "Coordinates:\n",
       "  * epoch_s  (epoch_s) int32 1420070400 1420071300 1420072200 1420073100 ...\n",
       "Data variables:\n",
       "    ws_avg   (epoch_s) float32 ...\n",
       "    wd_avg   (epoch_s) float32 ...\n",
       "    ws80m    (epoch_s) float32 ...\n",
       "    ws34m    (epoch_s) float32 ..."
      ]
     },
     "execution_count": 22,
     "metadata": {},
     "output_type": "execute_result"
    }
   ],
   "source": [
    "met = xr.open_dataset(DATA_DIR + 'metobs.nc'); met"
   ]
  },
  {
   "cell_type": "code",
   "execution_count": 23,
   "metadata": {},
   "outputs": [],
   "source": [
    "# Convert to date time\n",
    "met['epoch_s'] = pd.to_datetime(met.epoch_s, unit='s')"
   ]
  },
  {
   "cell_type": "code",
   "execution_count": 24,
   "metadata": {},
   "outputs": [
    {
     "data": {
      "text/plain": [
       "(<xarray.DataArray 'epoch_s' ()>\n",
       " array('2015-01-01T00:00:00.000000000', dtype='datetime64[ns]'),\n",
       " <xarray.DataArray 'epoch_s' ()>\n",
       " array('2016-10-18T23:45:00.000000000', dtype='datetime64[ns]'),\n",
       " 15.0)"
      ]
     },
     "execution_count": 24,
     "metadata": {},
     "output_type": "execute_result"
    }
   ],
   "source": [
    "met.epoch_s.min(), met.epoch_s.max(), int(met.epoch_s[1] - met.epoch_s[0]) * ns2min"
   ]
  },
  {
   "cell_type": "markdown",
   "metadata": {},
   "source": [
    "Here we have data from the start of 2015 to 2016-10-18 in 15 minute intervals"
   ]
  },
  {
   "cell_type": "markdown",
   "metadata": {},
   "source": [
    "### Wind power production data\n",
    "\n",
    "Power production is normalized to the farm capacity and thus ranges from 0 to 1. The `rawpower` is what a met service provider would\n",
    "usually receive as feed-in data from the neighboring power grid station. Here we have no information about turbine maintainance and\n",
    "failures, as well as curtailment measures. In case of this farm however, we received status information and production info from all individual\n",
    "turbines. In addition to taking these into account, we also applied a Gaussian Process based filtering procedure to remove additional outliers.\n",
    "The result is compiled into `power`."
   ]
  },
  {
   "cell_type": "code",
   "execution_count": 25,
   "metadata": {},
   "outputs": [
    {
     "data": {
      "text/plain": [
       "<xarray.Dataset>\n",
       "Dimensions:   (epoch_s: 94608)\n",
       "Coordinates:\n",
       "  * epoch_s   (epoch_s) int32 1420070400 1420071000 1420071600 1420072200 ...\n",
       "Data variables:\n",
       "    power     (epoch_s) float32 ...\n",
       "    rawpower  (epoch_s) float32 ..."
      ]
     },
     "execution_count": 25,
     "metadata": {},
     "output_type": "execute_result"
    }
   ],
   "source": [
    "pwr = xr.open_dataset(DATA_DIR + 'windpark.nc'); pwr"
   ]
  },
  {
   "cell_type": "code",
   "execution_count": 26,
   "metadata": {},
   "outputs": [],
   "source": [
    "# Convert to date time\n",
    "pwr['epoch_s'] = pd.to_datetime(pwr.epoch_s, unit='s')"
   ]
  },
  {
   "cell_type": "code",
   "execution_count": 27,
   "metadata": {},
   "outputs": [
    {
     "data": {
      "text/plain": [
       "(<xarray.DataArray 'epoch_s' ()>\n",
       " array('2015-01-01T00:00:00.000000000', dtype='datetime64[ns]'),\n",
       " <xarray.DataArray 'epoch_s' ()>\n",
       " array('2016-10-18T23:50:00.000000000', dtype='datetime64[ns]'),\n",
       " 10.0)"
      ]
     },
     "execution_count": 27,
     "metadata": {},
     "output_type": "execute_result"
    }
   ],
   "source": [
    "pwr.epoch_s.min(), pwr.epoch_s.max(), int(pwr.epoch_s[1] - pwr.epoch_s[0]) * ns2min"
   ]
  },
  {
   "cell_type": "markdown",
   "metadata": {},
   "source": [
    "For our target data, we have the same time range, but output in 10 minute intervals"
   ]
  },
  {
   "cell_type": "markdown",
   "metadata": {},
   "source": [
    "### Xarray indexing and plotting\n",
    "\n",
    "Before we start manipulating the data, let's first have a look. This way we can also learn a lot about how cool xarray is.\n",
    "\n",
    "**Indexing in xarray:** \n",
    "Next, we will look at how indexing, i.e. selecting parts of the data, works. There are two basic methods. Selecting by integers/index, similarly to what you would do in numpy and selecting by label.\n",
    "\n",
    "To create a plot in xarray, simply type .plot() for a 2 or 3 dimensional dataarray."
   ]
  },
  {
   "cell_type": "code",
   "execution_count": 28,
   "metadata": {},
   "outputs": [
    {
     "data": {
      "text/plain": [
       "<xarray.DataArray 'ws100m' (epoch_s: 1463, offset_s: 49)>\n",
       "array([[5.862752, 6.489872, 5.634605, ..., 3.723847, 3.393842, 3.08379 ],\n",
       "       [4.399415, 6.428493, 6.897442, ..., 1.98581 , 1.536039, 1.566706],\n",
       "       [6.382539, 3.919209, 3.203686, ..., 4.056922, 2.816343, 1.857518],\n",
       "       ...,\n",
       "       [4.498196, 4.457619, 4.138986, ..., 6.241402, 7.019463, 7.035955],\n",
       "       [3.764302, 5.218565, 7.210479, ..., 2.672324, 3.532972, 6.649615],\n",
       "       [     nan,      nan,      nan, ...,      nan,      nan,      nan]],\n",
       "      dtype=float32)\n",
       "Coordinates:\n",
       "  * epoch_s   (epoch_s) datetime64[ns] 2015-01-01 2015-01-01T12:00:00 ...\n",
       "  * offset_s  (offset_s) int32 0 10800 21600 32400 43200 54000 64800 75600 ...\n",
       "Attributes:\n",
       "    descr:    wind speed 100 m above surface\n",
       "    units:    m/s"
      ]
     },
     "execution_count": 28,
     "metadata": {},
     "output_type": "execute_result"
    }
   ],
   "source": [
    "nwps['ec'].ws100m"
   ]
  },
  {
   "cell_type": "code",
   "execution_count": 29,
   "metadata": {},
   "outputs": [
    {
     "data": {
      "text/plain": [
       "<xarray.DataArray 'ws100m' (offset_s: 20)>\n",
       "array([3.534174, 3.559642, 3.491649, 2.59831 , 1.64235 , 3.57182 , 3.769378,\n",
       "       3.099703, 3.128359, 3.093469, 1.364475, 1.757233, 3.102271, 5.171213,\n",
       "       3.935051, 4.156376, 5.268105, 4.300811, 3.862257, 3.054147],\n",
       "      dtype=float32)\n",
       "Coordinates:\n",
       "    epoch_s   datetime64[ns] 2015-01-11\n",
       "  * offset_s  (offset_s) int32 0 10800 21600 32400 43200 54000 64800 75600 ...\n",
       "Attributes:\n",
       "    descr:    wind speed 100 m above surface\n",
       "    units:    m/s"
      ]
     },
     "execution_count": 29,
     "metadata": {},
     "output_type": "execute_result"
    }
   ],
   "source": [
    "# Select the the first 20 forecast time steps from the 20th forecast start time\n",
    "# For this we use the index selector .isel()\n",
    "nwps['ec'].ws100m.isel(epoch_s=20, offset_s=slice(0, 20))"
   ]
  },
  {
   "cell_type": "code",
   "execution_count": 30,
   "metadata": {},
   "outputs": [
    {
     "data": {
      "text/plain": [
       "[<matplotlib.lines.Line2D at 0x7fcb62dfb9e8>]"
      ]
     },
     "execution_count": 30,
     "metadata": {},
     "output_type": "execute_result"
    },
    {
     "data": {
      "image/png": "[encoded data removed]",
      "text/plain": [
       "<Figure size 432x288 with 1 Axes>"
      ]
     },
     "metadata": {},
     "output_type": "display_data"
    }
   ],
   "source": [
    "# Now to plot that\n",
    "nwps['ec'].ws100m.isel(epoch_s=20, offset_s=slice(0, 20)).plot()"
   ]
  },
  {
   "cell_type": "code",
   "execution_count": 31,
   "metadata": {},
   "outputs": [
    {
     "data": {
      "text/plain": [
       "<xarray.DataArray 'ws100m' (epoch_s: 2, offset_s: 49)>\n",
       "array([[3.013495, 2.824081, 3.279218, 2.491317, 2.64834 , 4.400324, 5.96632 ,\n",
       "        5.947004, 4.964555, 4.167326, 4.084863, 3.80739 , 3.922389, 3.500799,\n",
       "        5.700959, 5.982351, 5.821174, 6.229479, 4.827539, 3.971917, 4.547969,\n",
       "        4.449901, 5.645729, 6.245741, 5.787747, 5.071975, 4.860265, 4.045425,\n",
       "        2.774431, 3.599641, 5.503121, 6.62407 , 5.599665, 5.714873, 5.308627,\n",
       "        4.188989, 2.397828, 3.813381, 5.081452, 5.688699, 4.36575 , 4.669986,\n",
       "        3.644226, 2.481066, 1.946111, 2.763823, 5.037122, 5.795748, 5.733331],\n",
       "       [2.970057, 4.337174, 5.816758, 5.717138, 4.809617, 4.227816, 3.98024 ,\n",
       "        3.618582, 3.634864, 3.597399, 6.056724, 5.874419, 5.984615, 6.0306  ,\n",
       "        5.273086, 4.135433, 4.21349 , 4.668208, 5.755711, 6.162652, 5.678669,\n",
       "        5.200613, 4.772378, 4.259148, 2.900473, 4.26903 , 6.12792 , 6.230092,\n",
       "        6.351543, 5.909415, 5.368656, 4.024671, 2.706512, 3.712934, 4.859765,\n",
       "        5.846297, 5.33141 , 4.287538, 3.557293, 2.328439, 1.718827, 2.7399  ,\n",
       "        4.403491, 5.683279, 5.516338, 5.186394, 4.754746, 3.56759 , 2.242255]],\n",
       "      dtype=float32)\n",
       "Coordinates:\n",
       "  * epoch_s   (epoch_s) datetime64[ns] 2015-03-01 2015-03-01T12:00:00\n",
       "  * offset_s  (offset_s) int32 0 10800 21600 32400 43200 54000 64800 75600 ...\n",
       "Attributes:\n",
       "    descr:    wind speed 100 m above surface\n",
       "    units:    m/s"
      ]
     },
     "execution_count": 31,
     "metadata": {},
     "output_type": "execute_result"
    }
   ],
   "source": [
    "# Indexing by label using .sel()\n",
    "# Select the forecast started at '2015-03-01'\n",
    "nwps['ec'].ws100m.sel(epoch_s='2015-03-01')"
   ]
  },
  {
   "cell_type": "code",
   "execution_count": 32,
   "metadata": {},
   "outputs": [
    {
     "ename": "KeyError",
     "evalue": "'2015-03-01T03'",
     "output_type": "error",
     "traceback": [
      "\u001b[0;31m---------------------------------------------------------------------------\u001b[0m",
      "\u001b[0;31mTypeError\u001b[0m                                 Traceback (most recent call last)",
      "\u001b[0;32mpandas/_libs/index.pyx\u001b[0m in \u001b[0;36mpandas._libs.index.DatetimeEngine.get_loc\u001b[0;34m()\u001b[0m\n",
      "\u001b[0;32mpandas/_libs/hashtable_class_helper.pxi\u001b[0m in \u001b[0;36mpandas._libs.hashtable.Int64HashTable.get_item\u001b[0;34m()\u001b[0m\n",
      "\u001b[0;31mTypeError\u001b[0m: an integer is required",
      "\nDuring handling of the above exception, another exception occurred:\n",
      "\u001b[0;31mKeyError\u001b[0m                                  Traceback (most recent call last)",
      "\u001b[0;32m~/miniconda3/lib/python3.6/site-packages/pandas/core/indexes/base.py\u001b[0m in \u001b[0;36mget_loc\u001b[0;34m(self, key, method, tolerance)\u001b[0m\n\u001b[1;32m   3063\u001b[0m             \u001b[0;32mtry\u001b[0m\u001b[0;34m:\u001b[0m\u001b[0;34m\u001b[0m\u001b[0m\n\u001b[0;32m-> 3064\u001b[0;31m                 \u001b[0;32mreturn\u001b[0m \u001b[0mself\u001b[0m\u001b[0;34m.\u001b[0m\u001b[0m_engine\u001b[0m\u001b[0;34m.\u001b[0m\u001b[0mget_loc\u001b[0m\u001b[0;34m(\u001b[0m\u001b[0mkey\u001b[0m\u001b[0;34m)\u001b[0m\u001b[0;34m\u001b[0m\u001b[0m\n\u001b[0m\u001b[1;32m   3065\u001b[0m             \u001b[0;32mexcept\u001b[0m \u001b[0mKeyError\u001b[0m\u001b[0;34m:\u001b[0m\u001b[0;34m\u001b[0m\u001b[0m\n",
      "\u001b[0;32mpandas/_libs/index.pyx\u001b[0m in \u001b[0;36mpandas._libs.index.DatetimeEngine.get_loc\u001b[0;34m()\u001b[0m\n",
      "\u001b[0;32mpandas/_libs/index.pyx\u001b[0m in \u001b[0;36mpandas._libs.index.DatetimeEngine.get_loc\u001b[0;34m()\u001b[0m\n",
      "\u001b[0;32mpandas/_libs/index.pyx\u001b[0m in \u001b[0;36mpandas._libs.index.DatetimeEngine._date_check_type\u001b[0;34m()\u001b[0m\n",
      "\u001b[0;31mKeyError\u001b[0m: '2015-03-01T03'",
      "\nDuring handling of the above exception, another exception occurred:\n",
      "\u001b[0;31mTypeError\u001b[0m                                 Traceback (most recent call last)",
      "\u001b[0;32mpandas/_libs/index.pyx\u001b[0m in \u001b[0;36mpandas._libs.index.DatetimeEngine.get_loc\u001b[0;34m()\u001b[0m\n",
      "\u001b[0;32mpandas/_libs/hashtable_class_helper.pxi\u001b[0m in \u001b[0;36mpandas._libs.hashtable.Int64HashTable.get_item\u001b[0;34m()\u001b[0m\n",
      "\u001b[0;31mTypeError\u001b[0m: an integer is required",
      "\nDuring handling of the above exception, another exception occurred:\n",
      "\u001b[0;31mKeyError\u001b[0m                                  Traceback (most recent call last)",
      "\u001b[0;32m~/miniconda3/lib/python3.6/site-packages/pandas/core/indexes/datetimes.py\u001b[0m in \u001b[0;36mget_loc\u001b[0;34m(self, key, method, tolerance)\u001b[0m\n\u001b[1;32m   1612\u001b[0m         \u001b[0;32mtry\u001b[0m\u001b[0;34m:\u001b[0m\u001b[0;34m\u001b[0m\u001b[0m\n\u001b[0;32m-> 1613\u001b[0;31m             \u001b[0;32mreturn\u001b[0m \u001b[0mIndex\u001b[0m\u001b[0;34m.\u001b[0m\u001b[0mget_loc\u001b[0m\u001b[0;34m(\u001b[0m\u001b[0mself\u001b[0m\u001b[0;34m,\u001b[0m \u001b[0mkey\u001b[0m\u001b[0;34m,\u001b[0m \u001b[0mmethod\u001b[0m\u001b[0;34m,\u001b[0m \u001b[0mtolerance\u001b[0m\u001b[0;34m)\u001b[0m\u001b[0;34m\u001b[0m\u001b[0m\n\u001b[0m\u001b[1;32m   1614\u001b[0m         \u001b[0;32mexcept\u001b[0m \u001b[0;34m(\u001b[0m\u001b[0mKeyError\u001b[0m\u001b[0;34m,\u001b[0m \u001b[0mValueError\u001b[0m\u001b[0;34m,\u001b[0m \u001b[0mTypeError\u001b[0m\u001b[0;34m)\u001b[0m\u001b[0;34m:\u001b[0m\u001b[0;34m\u001b[0m\u001b[0m\n",
      "\u001b[0;32m~/miniconda3/lib/python3.6/site-packages/pandas/core/indexes/base.py\u001b[0m in \u001b[0;36mget_loc\u001b[0;34m(self, key, method, tolerance)\u001b[0m\n\u001b[1;32m   3065\u001b[0m             \u001b[0;32mexcept\u001b[0m \u001b[0mKeyError\u001b[0m\u001b[0;34m:\u001b[0m\u001b[0;34m\u001b[0m\u001b[0m\n\u001b[0;32m-> 3066\u001b[0;31m                 \u001b[0;32mreturn\u001b[0m \u001b[0mself\u001b[0m\u001b[0;34m.\u001b[0m\u001b[0m_engine\u001b[0m\u001b[0;34m.\u001b[0m\u001b[0mget_loc\u001b[0m\u001b[0;34m(\u001b[0m\u001b[0mself\u001b[0m\u001b[0;34m.\u001b[0m\u001b[0m_maybe_cast_indexer\u001b[0m\u001b[0;34m(\u001b[0m\u001b[0mkey\u001b[0m\u001b[0;34m)\u001b[0m\u001b[0;34m)\u001b[0m\u001b[0;34m\u001b[0m\u001b[0m\n\u001b[0m\u001b[1;32m   3067\u001b[0m \u001b[0;34m\u001b[0m\u001b[0m\n",
      "\u001b[0;32mpandas/_libs/index.pyx\u001b[0m in \u001b[0;36mpandas._libs.index.DatetimeEngine.get_loc\u001b[0;34m()\u001b[0m\n",
      "\u001b[0;32mpandas/_libs/index.pyx\u001b[0m in \u001b[0;36mpandas._libs.index.DatetimeEngine.get_loc\u001b[0;34m()\u001b[0m\n",
      "\u001b[0;32mpandas/_libs/index.pyx\u001b[0m in \u001b[0;36mpandas._libs.index.DatetimeEngine._date_check_type\u001b[0;34m()\u001b[0m\n",
      "\u001b[0;31mKeyError\u001b[0m: '2015-03-01T03'",
      "\nDuring handling of the above exception, another exception occurred:\n",
      "\u001b[0;31mKeyError\u001b[0m                                  Traceback (most recent call last)",
      "\u001b[0;32mpandas/_libs/index.pyx\u001b[0m in \u001b[0;36mpandas._libs.index.DatetimeEngine.get_loc\u001b[0;34m()\u001b[0m\n",
      "\u001b[0;32mpandas/_libs/hashtable_class_helper.pxi\u001b[0m in \u001b[0;36mpandas._libs.hashtable.Int64HashTable.get_item\u001b[0;34m()\u001b[0m\n",
      "\u001b[0;32mpandas/_libs/hashtable_class_helper.pxi\u001b[0m in \u001b[0;36mpandas._libs.hashtable.Int64HashTable.get_item\u001b[0;34m()\u001b[0m\n",
      "\u001b[0;31mKeyError\u001b[0m: 1425178800000000000",
      "\nDuring handling of the above exception, another exception occurred:\n",
      "\u001b[0;31mKeyError\u001b[0m                                  Traceback (most recent call last)",
      "\u001b[0;32m~/miniconda3/lib/python3.6/site-packages/pandas/core/indexes/base.py\u001b[0m in \u001b[0;36mget_loc\u001b[0;34m(self, key, method, tolerance)\u001b[0m\n\u001b[1;32m   3063\u001b[0m             \u001b[0;32mtry\u001b[0m\u001b[0;34m:\u001b[0m\u001b[0;34m\u001b[0m\u001b[0m\n\u001b[0;32m-> 3064\u001b[0;31m                 \u001b[0;32mreturn\u001b[0m \u001b[0mself\u001b[0m\u001b[0;34m.\u001b[0m\u001b[0m_engine\u001b[0m\u001b[0;34m.\u001b[0m\u001b[0mget_loc\u001b[0m\u001b[0;34m(\u001b[0m\u001b[0mkey\u001b[0m\u001b[0;34m)\u001b[0m\u001b[0;34m\u001b[0m\u001b[0m\n\u001b[0m\u001b[1;32m   3065\u001b[0m             \u001b[0;32mexcept\u001b[0m \u001b[0mKeyError\u001b[0m\u001b[0;34m:\u001b[0m\u001b[0;34m\u001b[0m\u001b[0m\n",
      "\u001b[0;32mpandas/_libs/index.pyx\u001b[0m in \u001b[0;36mpandas._libs.index.DatetimeEngine.get_loc\u001b[0;34m()\u001b[0m\n",
      "\u001b[0;32mpandas/_libs/index.pyx\u001b[0m in \u001b[0;36mpandas._libs.index.DatetimeEngine.get_loc\u001b[0;34m()\u001b[0m\n",
      "\u001b[0;31mKeyError\u001b[0m: Timestamp('2015-03-01 03:00:00')",
      "\nDuring handling of the above exception, another exception occurred:\n",
      "\u001b[0;31mKeyError\u001b[0m                                  Traceback (most recent call last)",
      "\u001b[0;32mpandas/_libs/index.pyx\u001b[0m in \u001b[0;36mpandas._libs.index.DatetimeEngine.get_loc\u001b[0;34m()\u001b[0m\n",
      "\u001b[0;32mpandas/_libs/hashtable_class_helper.pxi\u001b[0m in \u001b[0;36mpandas._libs.hashtable.Int64HashTable.get_item\u001b[0;34m()\u001b[0m\n",
      "\u001b[0;32mpandas/_libs/hashtable_class_helper.pxi\u001b[0m in \u001b[0;36mpandas._libs.hashtable.Int64HashTable.get_item\u001b[0;34m()\u001b[0m\n",
      "\u001b[0;31mKeyError\u001b[0m: 1425178800000000000",
      "\nDuring handling of the above exception, another exception occurred:\n",
      "\u001b[0;31mKeyError\u001b[0m                                  Traceback (most recent call last)",
      "\u001b[0;32m~/miniconda3/lib/python3.6/site-packages/pandas/core/indexes/datetimes.py\u001b[0m in \u001b[0;36mget_loc\u001b[0;34m(self, key, method, tolerance)\u001b[0m\n\u001b[1;32m   1621\u001b[0m                 \u001b[0mstamp\u001b[0m \u001b[0;34m=\u001b[0m \u001b[0mTimestamp\u001b[0m\u001b[0;34m(\u001b[0m\u001b[0mkey\u001b[0m\u001b[0;34m,\u001b[0m \u001b[0mtz\u001b[0m\u001b[0;34m=\u001b[0m\u001b[0mself\u001b[0m\u001b[0;34m.\u001b[0m\u001b[0mtz\u001b[0m\u001b[0;34m)\u001b[0m\u001b[0;34m\u001b[0m\u001b[0m\n\u001b[0;32m-> 1622\u001b[0;31m                 \u001b[0;32mreturn\u001b[0m \u001b[0mIndex\u001b[0m\u001b[0;34m.\u001b[0m\u001b[0mget_loc\u001b[0m\u001b[0;34m(\u001b[0m\u001b[0mself\u001b[0m\u001b[0;34m,\u001b[0m \u001b[0mstamp\u001b[0m\u001b[0;34m,\u001b[0m \u001b[0mmethod\u001b[0m\u001b[0;34m,\u001b[0m \u001b[0mtolerance\u001b[0m\u001b[0;34m)\u001b[0m\u001b[0;34m\u001b[0m\u001b[0m\n\u001b[0m\u001b[1;32m   1623\u001b[0m             \u001b[0;32mexcept\u001b[0m \u001b[0mKeyError\u001b[0m\u001b[0;34m:\u001b[0m\u001b[0;34m\u001b[0m\u001b[0m\n",
      "\u001b[0;32m~/miniconda3/lib/python3.6/site-packages/pandas/core/indexes/base.py\u001b[0m in \u001b[0;36mget_loc\u001b[0;34m(self, key, method, tolerance)\u001b[0m\n\u001b[1;32m   3065\u001b[0m             \u001b[0;32mexcept\u001b[0m \u001b[0mKeyError\u001b[0m\u001b[0;34m:\u001b[0m\u001b[0;34m\u001b[0m\u001b[0m\n\u001b[0;32m-> 3066\u001b[0;31m                 \u001b[0;32mreturn\u001b[0m \u001b[0mself\u001b[0m\u001b[0;34m.\u001b[0m\u001b[0m_engine\u001b[0m\u001b[0;34m.\u001b[0m\u001b[0mget_loc\u001b[0m\u001b[0;34m(\u001b[0m\u001b[0mself\u001b[0m\u001b[0;34m.\u001b[0m\u001b[0m_maybe_cast_indexer\u001b[0m\u001b[0;34m(\u001b[0m\u001b[0mkey\u001b[0m\u001b[0;34m)\u001b[0m\u001b[0;34m)\u001b[0m\u001b[0;34m\u001b[0m\u001b[0m\n\u001b[0m\u001b[1;32m   3067\u001b[0m \u001b[0;34m\u001b[0m\u001b[0m\n",
      "\u001b[0;32mpandas/_libs/index.pyx\u001b[0m in \u001b[0;36mpandas._libs.index.DatetimeEngine.get_loc\u001b[0;34m()\u001b[0m\n",
      "\u001b[0;32mpandas/_libs/index.pyx\u001b[0m in \u001b[0;36mpandas._libs.index.DatetimeEngine.get_loc\u001b[0;34m()\u001b[0m\n",
      "\u001b[0;31mKeyError\u001b[0m: Timestamp('2015-03-01 03:00:00')",
      "\nDuring handling of the above exception, another exception occurred:\n",
      "\u001b[0;31mKeyError\u001b[0m                                  Traceback (most recent call last)",
      "\u001b[0;32m<ipython-input-32-36edb34a4ca4>\u001b[0m in \u001b[0;36m<module>\u001b[0;34m()\u001b[0m\n\u001b[1;32m      1\u001b[0m \u001b[0;31m# If the date chosen does not exactly match up, use nearest, ffill or bfill\u001b[0m\u001b[0;34m\u001b[0m\u001b[0;34m\u001b[0m\u001b[0m\n\u001b[0;32m----> 2\u001b[0;31m \u001b[0mnwps\u001b[0m\u001b[0;34m[\u001b[0m\u001b[0;34m'ec'\u001b[0m\u001b[0;34m]\u001b[0m\u001b[0;34m.\u001b[0m\u001b[0mws100m\u001b[0m\u001b[0;34m.\u001b[0m\u001b[0msel\u001b[0m\u001b[0;34m(\u001b[0m\u001b[0mepoch_s\u001b[0m\u001b[0;34m=\u001b[0m\u001b[0;34m'2015-03-01T03'\u001b[0m\u001b[0;34m)\u001b[0m\u001b[0;34m\u001b[0m\u001b[0m\n\u001b[0m",
      "\u001b[0;32m~/miniconda3/lib/python3.6/site-packages/xarray/core/dataarray.py\u001b[0m in \u001b[0;36msel\u001b[0;34m(self, indexers, method, tolerance, drop, **indexers_kwargs)\u001b[0m\n\u001b[1;32m    782\u001b[0m         \u001b[0mindexers\u001b[0m \u001b[0;34m=\u001b[0m \u001b[0meither_dict_or_kwargs\u001b[0m\u001b[0;34m(\u001b[0m\u001b[0mindexers\u001b[0m\u001b[0;34m,\u001b[0m \u001b[0mindexers_kwargs\u001b[0m\u001b[0;34m,\u001b[0m \u001b[0;34m'sel'\u001b[0m\u001b[0;34m)\u001b[0m\u001b[0;34m\u001b[0m\u001b[0m\n\u001b[1;32m    783\u001b[0m         ds = self._to_temp_dataset().sel(\n\u001b[0;32m--> 784\u001b[0;31m             indexers=indexers, drop=drop, method=method, tolerance=tolerance)\n\u001b[0m\u001b[1;32m    785\u001b[0m         \u001b[0;32mreturn\u001b[0m \u001b[0mself\u001b[0m\u001b[0;34m.\u001b[0m\u001b[0m_from_temp_dataset\u001b[0m\u001b[0;34m(\u001b[0m\u001b[0mds\u001b[0m\u001b[0;34m)\u001b[0m\u001b[0;34m\u001b[0m\u001b[0m\n\u001b[1;32m    786\u001b[0m \u001b[0;34m\u001b[0m\u001b[0m\n",
      "\u001b[0;32m~/miniconda3/lib/python3.6/site-packages/xarray/core/dataset.py\u001b[0m in \u001b[0;36msel\u001b[0;34m(self, indexers, method, tolerance, drop, **indexers_kwargs)\u001b[0m\n\u001b[1;32m   1507\u001b[0m         \u001b[0mindexers\u001b[0m \u001b[0;34m=\u001b[0m \u001b[0meither_dict_or_kwargs\u001b[0m\u001b[0;34m(\u001b[0m\u001b[0mindexers\u001b[0m\u001b[0;34m,\u001b[0m \u001b[0mindexers_kwargs\u001b[0m\u001b[0;34m,\u001b[0m \u001b[0;34m'sel'\u001b[0m\u001b[0;34m)\u001b[0m\u001b[0;34m\u001b[0m\u001b[0m\n\u001b[1;32m   1508\u001b[0m         pos_indexers, new_indexes = remap_label_indexers(\n\u001b[0;32m-> 1509\u001b[0;31m             self, indexers=indexers, method=method, tolerance=tolerance)\n\u001b[0m\u001b[1;32m   1510\u001b[0m         \u001b[0mresult\u001b[0m \u001b[0;34m=\u001b[0m \u001b[0mself\u001b[0m\u001b[0;34m.\u001b[0m\u001b[0misel\u001b[0m\u001b[0;34m(\u001b[0m\u001b[0mindexers\u001b[0m\u001b[0;34m=\u001b[0m\u001b[0mpos_indexers\u001b[0m\u001b[0;34m,\u001b[0m \u001b[0mdrop\u001b[0m\u001b[0;34m=\u001b[0m\u001b[0mdrop\u001b[0m\u001b[0;34m)\u001b[0m\u001b[0;34m\u001b[0m\u001b[0m\n\u001b[1;32m   1511\u001b[0m         \u001b[0;32mreturn\u001b[0m \u001b[0mresult\u001b[0m\u001b[0;34m.\u001b[0m\u001b[0m_replace_indexes\u001b[0m\u001b[0;34m(\u001b[0m\u001b[0mnew_indexes\u001b[0m\u001b[0;34m)\u001b[0m\u001b[0;34m\u001b[0m\u001b[0m\n",
      "\u001b[0;32m~/miniconda3/lib/python3.6/site-packages/xarray/core/coordinates.py\u001b[0m in \u001b[0;36mremap_label_indexers\u001b[0;34m(obj, indexers, method, tolerance, **indexers_kwargs)\u001b[0m\n\u001b[1;32m    353\u001b[0m \u001b[0;34m\u001b[0m\u001b[0m\n\u001b[1;32m    354\u001b[0m     pos_indexers, new_indexes = indexing.remap_label_indexers(\n\u001b[0;32m--> 355\u001b[0;31m         \u001b[0mobj\u001b[0m\u001b[0;34m,\u001b[0m \u001b[0mv_indexers\u001b[0m\u001b[0;34m,\u001b[0m \u001b[0mmethod\u001b[0m\u001b[0;34m=\u001b[0m\u001b[0mmethod\u001b[0m\u001b[0;34m,\u001b[0m \u001b[0mtolerance\u001b[0m\u001b[0;34m=\u001b[0m\u001b[0mtolerance\u001b[0m\u001b[0;34m\u001b[0m\u001b[0m\n\u001b[0m\u001b[1;32m    356\u001b[0m     )\n\u001b[1;32m    357\u001b[0m     \u001b[0;31m# attach indexer's coordinate to pos_indexers\u001b[0m\u001b[0;34m\u001b[0m\u001b[0;34m\u001b[0m\u001b[0m\n",
      "\u001b[0;32m~/miniconda3/lib/python3.6/site-packages/xarray/core/indexing.py\u001b[0m in \u001b[0;36mremap_label_indexers\u001b[0;34m(data_obj, indexers, method, tolerance)\u001b[0m\n\u001b[1;32m    248\u001b[0m         \u001b[0;32melse\u001b[0m\u001b[0;34m:\u001b[0m\u001b[0;34m\u001b[0m\u001b[0m\n\u001b[1;32m    249\u001b[0m             idxr, new_idx = convert_label_indexer(index, label,\n\u001b[0;32m--> 250\u001b[0;31m                                                   dim, method, tolerance)\n\u001b[0m\u001b[1;32m    251\u001b[0m             \u001b[0mpos_indexers\u001b[0m\u001b[0;34m[\u001b[0m\u001b[0mdim\u001b[0m\u001b[0;34m]\u001b[0m \u001b[0;34m=\u001b[0m \u001b[0midxr\u001b[0m\u001b[0;34m\u001b[0m\u001b[0m\n\u001b[1;32m    252\u001b[0m             \u001b[0;32mif\u001b[0m \u001b[0mnew_idx\u001b[0m \u001b[0;32mis\u001b[0m \u001b[0;32mnot\u001b[0m \u001b[0;32mNone\u001b[0m\u001b[0;34m:\u001b[0m\u001b[0;34m\u001b[0m\u001b[0m\n",
      "\u001b[0;32m~/miniconda3/lib/python3.6/site-packages/xarray/core/indexing.py\u001b[0m in \u001b[0;36mconvert_label_indexer\u001b[0;34m(index, label, index_name, method, tolerance)\u001b[0m\n\u001b[1;32m    177\u001b[0m                 \u001b[0mindexer\u001b[0m\u001b[0;34m,\u001b[0m \u001b[0mnew_index\u001b[0m \u001b[0;34m=\u001b[0m \u001b[0mindex\u001b[0m\u001b[0;34m.\u001b[0m\u001b[0mget_loc_level\u001b[0m\u001b[0;34m(\u001b[0m\u001b[0mlabel\u001b[0m\u001b[0;34m.\u001b[0m\u001b[0mitem\u001b[0m\u001b[0;34m(\u001b[0m\u001b[0;34m)\u001b[0m\u001b[0;34m,\u001b[0m \u001b[0mlevel\u001b[0m\u001b[0;34m=\u001b[0m\u001b[0;36m0\u001b[0m\u001b[0;34m)\u001b[0m\u001b[0;34m\u001b[0m\u001b[0m\n\u001b[1;32m    178\u001b[0m             \u001b[0;32melse\u001b[0m\u001b[0;34m:\u001b[0m\u001b[0;34m\u001b[0m\u001b[0m\n\u001b[0;32m--> 179\u001b[0;31m                 \u001b[0mindexer\u001b[0m \u001b[0;34m=\u001b[0m \u001b[0mget_loc\u001b[0m\u001b[0;34m(\u001b[0m\u001b[0mindex\u001b[0m\u001b[0;34m,\u001b[0m \u001b[0mlabel\u001b[0m\u001b[0;34m.\u001b[0m\u001b[0mitem\u001b[0m\u001b[0;34m(\u001b[0m\u001b[0;34m)\u001b[0m\u001b[0;34m,\u001b[0m \u001b[0mmethod\u001b[0m\u001b[0;34m,\u001b[0m \u001b[0mtolerance\u001b[0m\u001b[0;34m)\u001b[0m\u001b[0;34m\u001b[0m\u001b[0m\n\u001b[0m\u001b[1;32m    180\u001b[0m         \u001b[0;32melif\u001b[0m \u001b[0mlabel\u001b[0m\u001b[0;34m.\u001b[0m\u001b[0mdtype\u001b[0m\u001b[0;34m.\u001b[0m\u001b[0mkind\u001b[0m \u001b[0;34m==\u001b[0m \u001b[0;34m'b'\u001b[0m\u001b[0;34m:\u001b[0m\u001b[0;34m\u001b[0m\u001b[0m\n\u001b[1;32m    181\u001b[0m             \u001b[0mindexer\u001b[0m \u001b[0;34m=\u001b[0m \u001b[0mlabel\u001b[0m\u001b[0;34m\u001b[0m\u001b[0m\n",
      "\u001b[0;32m~/miniconda3/lib/python3.6/site-packages/xarray/core/indexing.py\u001b[0m in \u001b[0;36mget_loc\u001b[0;34m(index, label, method, tolerance)\u001b[0m\n\u001b[1;32m    107\u001b[0m \u001b[0;32mdef\u001b[0m \u001b[0mget_loc\u001b[0m\u001b[0;34m(\u001b[0m\u001b[0mindex\u001b[0m\u001b[0;34m,\u001b[0m \u001b[0mlabel\u001b[0m\u001b[0;34m,\u001b[0m \u001b[0mmethod\u001b[0m\u001b[0;34m=\u001b[0m\u001b[0;32mNone\u001b[0m\u001b[0;34m,\u001b[0m \u001b[0mtolerance\u001b[0m\u001b[0;34m=\u001b[0m\u001b[0;32mNone\u001b[0m\u001b[0;34m)\u001b[0m\u001b[0;34m:\u001b[0m\u001b[0;34m\u001b[0m\u001b[0m\n\u001b[1;32m    108\u001b[0m     \u001b[0mkwargs\u001b[0m \u001b[0;34m=\u001b[0m \u001b[0m_index_method_kwargs\u001b[0m\u001b[0;34m(\u001b[0m\u001b[0mmethod\u001b[0m\u001b[0;34m,\u001b[0m \u001b[0mtolerance\u001b[0m\u001b[0;34m)\u001b[0m\u001b[0;34m\u001b[0m\u001b[0m\n\u001b[0;32m--> 109\u001b[0;31m     \u001b[0;32mreturn\u001b[0m \u001b[0mindex\u001b[0m\u001b[0;34m.\u001b[0m\u001b[0mget_loc\u001b[0m\u001b[0;34m(\u001b[0m\u001b[0mlabel\u001b[0m\u001b[0;34m,\u001b[0m \u001b[0;34m**\u001b[0m\u001b[0mkwargs\u001b[0m\u001b[0;34m)\u001b[0m\u001b[0;34m\u001b[0m\u001b[0m\n\u001b[0m\u001b[1;32m    110\u001b[0m \u001b[0;34m\u001b[0m\u001b[0m\n\u001b[1;32m    111\u001b[0m \u001b[0;34m\u001b[0m\u001b[0m\n",
      "\u001b[0;32m~/miniconda3/lib/python3.6/site-packages/pandas/core/indexes/datetimes.py\u001b[0m in \u001b[0;36mget_loc\u001b[0;34m(self, key, method, tolerance)\u001b[0m\n\u001b[1;32m   1622\u001b[0m                 \u001b[0;32mreturn\u001b[0m \u001b[0mIndex\u001b[0m\u001b[0;34m.\u001b[0m\u001b[0mget_loc\u001b[0m\u001b[0;34m(\u001b[0m\u001b[0mself\u001b[0m\u001b[0;34m,\u001b[0m \u001b[0mstamp\u001b[0m\u001b[0;34m,\u001b[0m \u001b[0mmethod\u001b[0m\u001b[0;34m,\u001b[0m \u001b[0mtolerance\u001b[0m\u001b[0;34m)\u001b[0m\u001b[0;34m\u001b[0m\u001b[0m\n\u001b[1;32m   1623\u001b[0m             \u001b[0;32mexcept\u001b[0m \u001b[0mKeyError\u001b[0m\u001b[0;34m:\u001b[0m\u001b[0;34m\u001b[0m\u001b[0m\n\u001b[0;32m-> 1624\u001b[0;31m                 \u001b[0;32mraise\u001b[0m \u001b[0mKeyError\u001b[0m\u001b[0;34m(\u001b[0m\u001b[0mkey\u001b[0m\u001b[0;34m)\u001b[0m\u001b[0;34m\u001b[0m\u001b[0m\n\u001b[0m\u001b[1;32m   1625\u001b[0m             \u001b[0;32mexcept\u001b[0m \u001b[0mValueError\u001b[0m \u001b[0;32mas\u001b[0m \u001b[0me\u001b[0m\u001b[0;34m:\u001b[0m\u001b[0;34m\u001b[0m\u001b[0m\n\u001b[1;32m   1626\u001b[0m                 \u001b[0;31m# list-like tolerance size must match target index size\u001b[0m\u001b[0;34m\u001b[0m\u001b[0;34m\u001b[0m\u001b[0m\n",
      "\u001b[0;31mKeyError\u001b[0m: '2015-03-01T03'"
     ]
    }
   ],
   "source": [
    "# If the date chosen does not exactly match up, use nearest, ffill or bfill\n",
    "nwps['ec'].ws100m.sel(epoch_s='2015-03-01T03')"
   ]
  },
  {
   "cell_type": "code",
   "execution_count": 33,
   "metadata": {},
   "outputs": [
    {
     "data": {
      "text/plain": [
       "<xarray.DataArray 'ws100m' (offset_s: 49)>\n",
       "array([3.013495, 2.824081, 3.279218, 2.491317, 2.64834 , 4.400324, 5.96632 ,\n",
       "       5.947004, 4.964555, 4.167326, 4.084863, 3.80739 , 3.922389, 3.500799,\n",
       "       5.700959, 5.982351, 5.821174, 6.229479, 4.827539, 3.971917, 4.547969,\n",
       "       4.449901, 5.645729, 6.245741, 5.787747, 5.071975, 4.860265, 4.045425,\n",
       "       2.774431, 3.599641, 5.503121, 6.62407 , 5.599665, 5.714873, 5.308627,\n",
       "       4.188989, 2.397828, 3.813381, 5.081452, 5.688699, 4.36575 , 4.669986,\n",
       "       3.644226, 2.481066, 1.946111, 2.763823, 5.037122, 5.795748, 5.733331],\n",
       "      dtype=float32)\n",
       "Coordinates:\n",
       "    epoch_s   datetime64[ns] 2015-03-01\n",
       "  * offset_s  (offset_s) int32 0 10800 21600 32400 43200 54000 64800 75600 ...\n",
       "Attributes:\n",
       "    descr:    wind speed 100 m above surface\n",
       "    units:    m/s"
      ]
     },
     "execution_count": 33,
     "metadata": {},
     "output_type": "execute_result"
    }
   ],
   "source": [
    "nwps['ec'].ws100m.sel(epoch_s='2015-03-01T03', method='nearest')"
   ]
  },
  {
   "cell_type": "markdown",
   "metadata": {},
   "source": [
    "### Get some intuition of the data"
   ]
  },
  {
   "cell_type": "code",
   "execution_count": 35,
   "metadata": {},
   "outputs": [
    {
     "data": {
      "text/plain": [
       "[<matplotlib.lines.Line2D at 0x7fcb62bafba8>]"
      ]
     },
     "execution_count": 35,
     "metadata": {},
     "output_type": "execute_result"
    },
    {
     "data": {
      "image/png": "[encoded data removed]",
      "text/plain": [
       "<Figure size 432x288 with 1 Axes>"
      ]
     },
     "metadata": {},
     "output_type": "display_data"
    }
   ],
   "source": [
    "# Plot power output for two days\n",
    "pwr.power.sel(epoch_s=slice('2015-01-01', '2015-01-02')).plot()"
   ]
  },
  {
   "cell_type": "code",
   "execution_count": 36,
   "metadata": {},
   "outputs": [
    {
     "data": {
      "text/plain": [
       "[<matplotlib.lines.Line2D at 0x7fcb62b42208>]"
      ]
     },
     "execution_count": 36,
     "metadata": {},
     "output_type": "execute_result"
    },
    {
     "data": {
      "image/png": "[encoded data removed]",
      "text/plain": [
       "<Figure size 432x288 with 1 Axes>"
      ]
     },
     "metadata": {},
     "output_type": "display_data"
    }
   ],
   "source": [
    "# And the corresponding wind speed\n",
    "met.ws34m.sel(epoch_s=slice('2015-01-01', '2015-01-02')).plot()\n",
    "met.ws80m.sel(epoch_s=slice('2015-01-01', '2015-01-02')).plot()"
   ]
  },
  {
   "cell_type": "code",
   "execution_count": 37,
   "metadata": {},
   "outputs": [
    {
     "data": {
      "text/plain": [
       "[<matplotlib.lines.Line2D at 0x7fcb62b05390>]"
      ]
     },
     "execution_count": 37,
     "metadata": {},
     "output_type": "execute_result"
    },
    {
     "data": {
      "image/png": "[encoded data removed]",
      "text/plain": [
       "<Figure size 432x288 with 1 Axes>"
      ]
     },
     "metadata": {},
     "output_type": "display_data"
    }
   ],
   "source": [
    "# And a corresponding model forecast\n",
    "nwps['ec'].ws100m.sel(epoch_s='2015-01-01T00').plot()"
   ]
  },
  {
   "cell_type": "markdown",
   "metadata": {},
   "source": [
    "### Wind farm power curve\n",
    "\n",
    "The wind farm power curve is a standard diagnostic. It is the wind speed plotted against the power production."
   ]
  },
  {
   "cell_type": "code",
   "execution_count": 51,
   "metadata": {},
   "outputs": [],
   "source": [
    "# Since the wind speed measurements and power data have different output intervals\n",
    "# we want to only chose the intersecting time values.\n",
    "intersect = np.intersect1d(met.epoch_s, pwr.epoch_s)"
   ]
  },
  {
   "cell_type": "code",
   "execution_count": 56,
   "metadata": {},
   "outputs": [
    {
     "data": {
      "image/png": "[encoded data removed]",
      "text/plain": [
       "<Figure size 576x360 with 1 Axes>"
      ]
     },
     "metadata": {},
     "output_type": "display_data"
    }
   ],
   "source": [
    "fig = plt.figure(figsize=(8, 5))\n",
    "plt.scatter(met.ws34m.sel(epoch_s=intersect[::3]), pwr.rawpower.sel(epoch_s=intersect[::3]), s=10, alpha=0.2, \n",
    "           label='rawpower')\n",
    "plt.scatter(met.ws34m.sel(epoch_s=intersect[::3]), pwr.power.sel(epoch_s=intersect[::3]), s=10, alpha=0.2,\n",
    "           label='power')\n",
    "plt.xlabel('Wind'); plt.ylabel('Power'); plt.legend();"
   ]
  },
  {
   "cell_type": "markdown",
   "metadata": {},
   "source": [
    "**@MARTIN**\n",
    "\n",
    "Wie sollte ich hier die Daten bereinigen? Ich wuerde die Outlier fuer Wind=0 & power>0 wegwerfen.\n",
    "\n",
    "Sollten wir power oder rawpower benutzen?"
   ]
  },
  {
   "cell_type": "markdown",
   "metadata": {},
   "source": [
    "### Cleaning the target dataset\n",
    "\n",
    "Instead of predicting the power output every 10 minutes, let's predict the 3 hourly average instead."
   ]
  },
  {
   "cell_type": "code",
   "execution_count": 56,
   "metadata": {},
   "outputs": [],
   "source": [
    "pwr_3h = pwr.resample(epoch_s='3h').mean()"
   ]
  },
  {
   "cell_type": "code",
   "execution_count": 57,
   "metadata": {},
   "outputs": [
    {
     "data": {
      "text/plain": [
       "<xarray.Dataset>\n",
       "Dimensions:   (epoch_s: 5256)\n",
       "Coordinates:\n",
       "  * epoch_s   (epoch_s) datetime64[ns] 2015-01-01 2015-01-01T03:00:00 ...\n",
       "Data variables:\n",
       "    power     (epoch_s) float64 0.688 0.7702 0.2083 0.179 0.3741 0.4256 ...\n",
       "    rawpower  (epoch_s) float64 0.6888 0.7698 0.208 0.179 0.3739 0.4251 ..."
      ]
     },
     "execution_count": 57,
     "metadata": {},
     "output_type": "execute_result"
    }
   ],
   "source": [
    "pwr_3h"
   ]
  },
  {
   "cell_type": "markdown",
   "metadata": {},
   "source": [
    "## Prepare the data\n",
    "\n",
    "Our goal is to produce a power forecast every three hours for a forecast time of 4 days in 3 hour intervals.\n",
    "\n",
    "The test time range is from 2016-05-01 to 2016-10-18T23:50. \n",
    "\n",
    "It is up to us to chose the validation dataset. For now, let's simply chose the last 4 month of the data available to us. We can rethink later whether this is the best choice."
   ]
  },
  {
   "cell_type": "code",
   "execution_count": 38,
   "metadata": {},
   "outputs": [],
   "source": [
    "train_range = slice('2015-01-01', '2015-12-31')\n",
    "valid_range = slice('2016-01-01', '2016-04-30')\n",
    "test_range = slice('2016-05-01', '2016-10-18T23:50')"
   ]
  },
  {
   "cell_type": "code",
   "execution_count": 42,
   "metadata": {},
   "outputs": [],
   "source": [
    "fc_lead = np.timedelta64(4*24, 'h')"
   ]
  },
  {
   "cell_type": "code",
   "execution_count": 43,
   "metadata": {},
   "outputs": [],
   "source": [
    "every_3_hours = np.arange('2015-01-01', np.datetime64('2016-10-18T23:50')-fc_lead, \n",
    "                          np.timedelta64(3, 'h'), dtype='datetime64[ns]')"
   ]
  },
  {
   "cell_type": "markdown",
   "metadata": {},
   "source": [
    "Let's now write a few functions to grab the correct time slice for each of the different data types."
   ]
  },
  {
   "cell_type": "code",
   "execution_count": 129,
   "metadata": {},
   "outputs": [],
   "source": [
    "def get_y(t, da=pwr_3h.rawpower, dt=np.timedelta64(3, 'h')):\n",
    "    \"\"\"Returns the values of da from time t to time t+fc_lead in dt intervals.\"\"\"\n",
    "    time_idxs = np.arange(t, t+fc_lead, dt, dtype='datetime64[ns]')\n",
    "    return da.sel(epoch_s=time_idxs).values"
   ]
  },
  {
   "cell_type": "code",
   "execution_count": 97,
   "metadata": {},
   "outputs": [
    {
     "data": {
      "text/plain": [
       "Data variables:\n",
       "    ws100m   (epoch_s, offset_s) float32 5.862752 6.4898725 5.634605 ...\n",
       "    wd100m   (epoch_s, offset_s) float32 357.8887 355.0636 352.50848 ...\n",
       "    ws10m    (epoch_s, offset_s) float32 4.3632684 4.9153886 3.9240022 ...\n",
       "    wd10m    (epoch_s, offset_s) float32 1.5649021 357.9336 357.52618 ...\n",
       "    t2m      (epoch_s, offset_s) float32 289.7251 287.78174 286.77124 ...\n",
       "    blh      (epoch_s, offset_s) float32 360.35876 355.90982 263.80725 ..."
      ]
     },
     "execution_count": 97,
     "metadata": {},
     "output_type": "execute_result"
    }
   ],
   "source": [
    "nwps['ec'].data_vars"
   ]
  },
  {
   "cell_type": "code",
   "execution_count": 99,
   "metadata": {},
   "outputs": [],
   "source": [
    "def get_latest_fc(t, fields={'ec': nwps['ec'].data_vars}, flatten=True):\n",
    "    \"\"\"\n",
    "    Returns the NWP forecast fields of the most recent initialization time. \n",
    "    The first forecast lead time corresponds to t, going up to t+fc_lead.\n",
    "    All fields are concatenated at the end to a 1D vector, if flatten=True.\n",
    "    \"\"\"\n",
    "    a = []\n",
    "    for nwp, fs in fields.items():\n",
    "        e = nwps[nwp].sel(epoch_s=t, method='ffill')\n",
    "        offset = int(t - e.epoch_s) / 1e9\n",
    "        e = e.sel(offset_s=slice(offset, offset+fc_lead.astype('timedelta64[s]').astype('int')))\n",
    "        for f in fs:\n",
    "            a.append(e[f].values)\n",
    "    a = np.array(a)\n",
    "    return a.reshape(-1) if flatten else a"
   ]
  },
  {
   "cell_type": "code",
   "execution_count": 100,
   "metadata": {},
   "outputs": [],
   "source": [
    "def get_met_obs(t, da, t_back=np.timedelta64(6, 'h'), dt=np.timedelta64(30, 'm')):\n",
    "    \"\"\"Returns the values of da from time t-t_back up to excluding t in increments ot dt.\"\"\"\n",
    "    time_idxs = np.arange(t-t_back, t, dt, dtype='datetime64[ns]')\n",
    "    return da.sel(epoch_s=time_idxs).values"
   ]
  },
  {
   "cell_type": "markdown",
   "metadata": {},
   "source": [
    "With these functions we can now create our training and validation set. For starters, let's simply use all ECMWF fields as features."
   ]
  },
  {
   "cell_type": "code",
   "execution_count": 115,
   "metadata": {},
   "outputs": [],
   "source": [
    "def get_Xy(tstart, tstop, istest=False):\n",
    "    X, y = [], []\n",
    "    for t in tqdm(every_3_hours[(every_3_hours >= np.datetime64(tstart)) & \n",
    "                                (every_3_hours <= np.datetime64(tstop))]):\n",
    "        X.append(get_latest_fc(t))\n",
    "        if not istest: y.append(get_y(t))\n",
    "    return (np.array(X), np.array(y)) if not istest else np.array(X)"
   ]
  },
  {
   "cell_type": "code",
   "execution_count": 130,
   "metadata": {},
   "outputs": [
    {
     "data": {
      "application/vnd.jupyter.widget-view+json": {
       "model_id": "7de0072a1c6842c484501dae704cf2bf",
       "version_major": 2,
       "version_minor": 0
      },
      "text/plain": [
       "HBox(children=(IntProgress(value=0, max=2913), HTML(value='')))"
      ]
     },
     "metadata": {},
     "output_type": "display_data"
    }
   ],
   "source": [
    "X_train, y_train = get_Xy(train_range.start, train_range.stop)"
   ]
  },
  {
   "cell_type": "code",
   "execution_count": 131,
   "metadata": {},
   "outputs": [
    {
     "data": {
      "application/vnd.jupyter.widget-view+json": {
       "model_id": "5b56f8ccd736449285cf45045733aab0",
       "version_major": 2,
       "version_minor": 0
      },
      "text/plain": [
       "HBox(children=(IntProgress(value=0, max=961), HTML(value='')))"
      ]
     },
     "metadata": {},
     "output_type": "display_data"
    }
   ],
   "source": [
    "X_valid, y_valid = get_Xy(valid_range.start, valid_range.stop)"
   ]
  },
  {
   "cell_type": "code",
   "execution_count": 132,
   "metadata": {},
   "outputs": [
    {
     "data": {
      "application/vnd.jupyter.widget-view+json": {
       "model_id": "19c887c362064564b3b2a7dc5a2c46ed",
       "version_major": 2,
       "version_minor": 0
      },
      "text/plain": [
       "HBox(children=(IntProgress(value=0, max=1336), HTML(value='')))"
      ]
     },
     "metadata": {},
     "output_type": "display_data"
    }
   ],
   "source": [
    "X_test = get_Xy(test_range.start, test_range.stop, istest=True)"
   ]
  },
  {
   "cell_type": "code",
   "execution_count": 133,
   "metadata": {},
   "outputs": [
    {
     "data": {
      "text/plain": [
       "((2913, 198), (2913, 32), (961, 198), (961, 32), (1336, 198))"
      ]
     },
     "execution_count": 133,
     "metadata": {},
     "output_type": "execute_result"
    }
   ],
   "source": [
    "X_train.shape, y_train.shape, X_valid.shape, y_valid.shape, X_test.shape"
   ]
  },
  {
   "cell_type": "code",
   "execution_count": 134,
   "metadata": {},
   "outputs": [],
   "source": [
    "with open('./data/wind_ds.pkl', 'wb') as f:\n",
    "    pickle.dump((X_train, y_train, X_valid, y_valid, X_test), f)"
   ]
  },
  {
   "cell_type": "markdown",
   "metadata": {},
   "source": [
    "## Create a first prediction\n",
    "\n",
    "Let's get a reference score with mean predictions."
   ]
  },
  {
   "cell_type": "code",
   "execution_count": 122,
   "metadata": {},
   "outputs": [],
   "source": [
    "def mse(y_true, y_pred, axis=(0,1)): return ((y_true - y_pred)**2).mean(axis)"
   ]
  },
  {
   "cell_type": "code",
   "execution_count": 136,
   "metadata": {},
   "outputs": [
    {
     "data": {
      "text/plain": [
       "0.04141881267383446"
      ]
     },
     "execution_count": 136,
     "metadata": {},
     "output_type": "execute_result"
    }
   ],
   "source": [
    "mse(y_valid, np.mean(y_train))"
   ]
  },
  {
   "cell_type": "code",
   "execution_count": 137,
   "metadata": {},
   "outputs": [],
   "source": [
    "from sklearn.metrics import r2_score"
   ]
  },
  {
   "cell_type": "code",
   "execution_count": 142,
   "metadata": {},
   "outputs": [
    {
     "data": {
      "text/plain": [
       "-0.0945540342416856"
      ]
     },
     "execution_count": 142,
     "metadata": {},
     "output_type": "execute_result"
    }
   ],
   "source": [
    "r2_score(y_valid, np.ones(y_valid.shape) * np.mean(y_train))"
   ]
  },
  {
   "cell_type": "markdown",
   "metadata": {},
   "source": [
    "## Your turn\n",
    "\n",
    "So far we have only used the ECMWF data for X. This might not be so great. Here are some challenged to include more data.\n",
    "\n",
    "- Also use the data from the other weather centers. If you do, check the data. Could there be missing values? What do you do about them?\n",
    "- Using the wind mast data just before the forecast could be really helpful. Include this. Again, do you have to deal with missing values?"
   ]
  },
  {
   "cell_type": "markdown",
   "metadata": {},
   "source": []
  },
  {
   "cell_type": "code",
   "execution_count": null,
   "metadata": {},
   "outputs": [],
   "source": []
  }
 ],
 "metadata": {
  "kernelspec": {
   "display_name": "Python 3",
   "language": "python",
   "name": "python3"
  },
  "language_info": {
   "codemirror_mode": {
    "name": "ipython",
    "version": 3
   },
   "file_extension": ".py",
   "mimetype": "text/x-python",
   "name": "python",
   "nbconvert_exporter": "python",
   "pygments_lexer": "ipython3",
   "version": "3.6.5"
  },
  "toc": {
   "base_numbering": 1,
   "nav_menu": {},
   "number_sections": true,
   "sideBar": false,
   "skip_h1_title": true,
   "title_cell": "Table of Contents",
   "title_sidebar": "Contents",
   "toc_cell": false,
   "toc_position": {},
   "toc_section_display": true,
   "toc_window_display": false
  }
 },
 "nbformat": 4,
 "nbformat_minor": 2
}
