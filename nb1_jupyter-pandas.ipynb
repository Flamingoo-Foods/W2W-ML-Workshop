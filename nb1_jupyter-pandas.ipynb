{
 "cells": [
  {
   "cell_type": "markdown",
   "metadata": {},
   "source": [
    "# Notebook 1 - Introduction to Jupyter and exploring/manipulating data with Pandas"
   ]
  },
  {
   "cell_type": "markdown",
   "metadata": {},
   "source": [
    "## Introduction to Jupyter notebooks\n",
    "\n",
    "*Optional*\n",
    "\n",
    "You can add extended functionalities by installing `conda install -c conda-forge jupyter_contrib_nbextensions`. This will add a tab to your dashboard, from where you can select the extension. By far the most useful in my opinion is the collapsible heading extension in combination with the table of contents extensions, which allow you to get a lot more organized!\n",
    "\n",
    "For changing the look of the notebook, you want to run `pip install jupyterthemes`. This will allow you to select different themes. For more information visit: https://github.com/dunovank/jupyter-themes\n",
    "\n",
    "### How to use these notebooks\n",
    "\n",
    "Do **NOT** just execute all the cells and feel good about it! To learn, open a new notebook and type everything yourself. Use the Jupyter notebook functionalities (see below). Looking at the solution is allowed but **no Copy-Paste**.\n",
    "\n",
    "If you are not that familiar with Python and the concepts presented here, your goal should be to do replicate the steps in these notebooks with as little peaking as possible. If you are more advanced, try to solve the additional challenges below.\n",
    "\n",
    "### Basic usage\n",
    "\n",
    "To start a Jupyter notebook, simply type `jupyter notebook in the command line`. If you do this locally (e.g. on your laptop) this should automatically open up a browser window with the dashboard. We will cover remote usage below.\n",
    "\n",
    "On the dashboard you can see all files in your current directory. (Note that you can click on any file and edit it.) Jupyter notebook files end in `.ipynb`. To create a new notebook, click on `New` and select a Python version. Now a new tab will appear with your empty notebook.\n",
    "\n",
    "### Cells\n",
    "\n",
    "Jupyter notebooks have cells such as this one. There are different types of cells. The two you will use most frequently are code cells and Markdown cells. This here is a Markdown cell, which allows you to write formatted text using Markdown. For a quick Markdown introduction, check out: https://github.com/adam-p/markdown-here/wiki/Markdown-Cheatsheet\n",
    "\n",
    "Note that in markdown you can also type Latex:\n",
    "\n",
    "$x=\\frac{a}{b}$\n",
    "\n",
    "To switch the cell type, either use the toolbar above or press `y` for code and `m` for markdown in command mode, which we will get to now.\n",
    "\n",
    "### Modes\n",
    "\n",
    "To navigate Jupyter notebooks there are two modes: Command mode, which you can enter by pressing `esc` and edit mode which you can enter by pressing `Enter`. In edit mode you edit inside a cell, while in command mode you can edit the cells themselves. If you get confused about all the keys just press `h` in command mode, which will bring up a list of all keyboard shortcuts. Of course, you can also use the mouse and the toolbar.\n",
    "\n",
    "### Executing a cell\n",
    "\n",
    "To execute a cell, press `Shift + Enter`. This will run the code or render the text and jump to the next cell. If you would like to insert a cell below, type `Alt + Enter`.\n",
    "\n",
    "Now let's start by actually writing some code."
   ]
  },
  {
   "cell_type": "code",
   "execution_count": 1,
   "metadata": {},
   "outputs": [],
   "source": [
    "# Import modules just as you would in a regular Python script\n",
    "import numpy as np\n",
    "import matplotlib.pyplot as plt\n",
    "# This will allow you to display plots inside the notebook.\n",
    "%matplotlib inline"
   ]
  },
  {
   "cell_type": "code",
   "execution_count": 2,
   "metadata": {},
   "outputs": [],
   "source": [
    "# Assign variables\n",
    "a = 10"
   ]
  },
  {
   "cell_type": "code",
   "execution_count": 3,
   "metadata": {},
   "outputs": [
    {
     "data": {
      "text/plain": [
       "10"
      ]
     },
     "execution_count": 3,
     "metadata": {},
     "output_type": "execute_result"
    }
   ],
   "source": [
    "# The value of the last object in the cell will be displayed\n",
    "b = 2\n",
    "a"
   ]
  },
  {
   "cell_type": "code",
   "execution_count": 4,
   "metadata": {},
   "outputs": [
    {
     "data": {
      "text/plain": [
       "12"
      ]
     },
     "execution_count": 4,
     "metadata": {},
     "output_type": "execute_result"
    }
   ],
   "source": [
    "a + b"
   ]
  },
  {
   "cell_type": "markdown",
   "metadata": {},
   "source": [
    "You do not have to work chronologically. You can always edit cells above.\n",
    "\n",
    "But pay attention: This means that the notebook might throw an error when executed in chronological order after restarting the kernel."
   ]
  },
  {
   "cell_type": "markdown",
   "metadata": {},
   "source": [
    "### Get function docs\n",
    "\n",
    "Next, let's create a basic plot and also note a super-handy functionality of the notebook: When using a function and pressing `Shift + Tab` when the cursor is inside the function parenthesis, it will bring up the list of arguments. Pressing it twice will bring up the doc string.\n",
    "\n",
    "Similarly, executing `?function_name` will bring up the doc string in a separate window. `??function_name` will bring up the source code."
   ]
  },
  {
   "cell_type": "code",
   "execution_count": 5,
   "metadata": {},
   "outputs": [
    {
     "data": {
      "image/png": "[encoded data removed]",
      "text/plain": [
       "<Figure size 432x288 with 1 Axes>"
      ]
     },
     "metadata": {},
     "output_type": "display_data"
    }
   ],
   "source": [
    "plt.hist(np.random.normal(size=1000))\n",
    "plt.show()"
   ]
  },
  {
   "cell_type": "code",
   "execution_count": 6,
   "metadata": {},
   "outputs": [],
   "source": [
    "?plt.hist"
   ]
  },
  {
   "cell_type": "code",
   "execution_count": 7,
   "metadata": {},
   "outputs": [],
   "source": [
    "??plt.hist"
   ]
  },
  {
   "cell_type": "markdown",
   "metadata": {},
   "source": [
    "### Sharing a notebook\n",
    "\n",
    "Here are several ways to share a Jupyter notebook.\n",
    "\n",
    "**GitHub**\n",
    "\n",
    "If the notebook is in a GitHub repository (which it probably should be!), GitHub will simply render the notebook for you like this: https://github.com/raspstephan/ESS-Python-Tutorial/blob/master/notebooks/jupyter-intro.ipynb\n",
    "\n",
    "**NBViewer**\n",
    "\n",
    "Another option is to copy the GitHub URL to http://nbviewer.jupyter.org/.\n",
    "\n",
    "**As HTML or PDF**\n",
    "\n",
    "You can also export the notebook to HTML or PDF by typing `jupyter nbconvert --to FORMAT notebook.ipynb` where `FORMAT` can be `pdf`, `html` or many others.\n",
    "\n",
    "More information here: https://ipython.org/ipython-doc/3/notebook/nbconvert.html"
   ]
  },
  {
   "cell_type": "markdown",
   "metadata": {},
   "source": [
    "### Remote setup\n",
    "\n",
    "Now let's see how we can use Jupyter notebooks remotely.\n",
    "\n",
    "** Port tunnel**\n",
    "\n",
    "If you want to run Jupyter on a remote computer, you need to create a port tunnel in order to open the notebook locally in the browser. The command to do this is:\n",
    "\n",
    "`ssh -L localhost:8888:localhost:8888 user@host`\n",
    "\n",
    "This will create a tunnel for port 8888. If you do your actual computations on a different node, you can do the same thing to create a tunnel to that node:\n",
    "\n",
    "`ssh -L localhost:8888:localhost:8888 c-3-39`\n",
    "\n",
    "Now locally in your browser, go to `localhost:8888`. Most probably it will ask you for a token. You will find the token in the terminal where Jupyter is running, where it will look something like this:\n",
    "\n",
    "`http://localhost:8888/?token=940f1a436d91bde5ef15e3640dd66bd7d3f724a68513c99f`\n",
    "\n",
    "Just copy and paste the token after = and you should be good to go.\n",
    "\n",
    "**Screen**\n",
    "\n",
    "Since remote connections die sometimes (or all the time), it is really handy to use screen. Screen enables you to run processes remotely, which will continue even after your connection has timed out.\n",
    "\n",
    "To start a screen session, just type `screen`. To execute screen commands, you need to press `Ctrl + a` followed by a command. `c` will create a new window. `n` and `p` will go to the next and previous window. k will kill the window. Finally, `d` will detach from the window. To log back into a screen session after detaching or having been disconnected, simply type `screen -r`.\n",
    "\n",
    "Here is more information about screen: http://aperiodic.net/screen/quick_reference\n",
    "\n",
    "**Mounting**\n",
    "\n",
    "Finally, to edit remote files in your preferred editor (PyCharm, VSC, etc.), you might want to mount a remote directory. For Linux/Mac you can use sshfs. On the Mac you have to install OSXFuse. Here is a link outlining the process: https://blogs.harvard.edu/acts/2013/11/08/the-newbie-how-to-set-up-sshfs-on-mac-os-x/\n",
    "\n",
    "Then you can mount a remote directory: `sshfs srasp@gplogin1.ps.uci.edu:/export/home/srasp/ greenplanet_home/`"
   ]
  },
  {
   "cell_type": "markdown",
   "metadata": {},
   "source": [
    "## Exploring and manipulating data with Pandas"
   ]
  },
  {
   "cell_type": "markdown",
   "metadata": {},
   "source": [
    "## Your turn"
   ]
  },
  {
   "cell_type": "code",
   "execution_count": null,
   "metadata": {},
   "outputs": [],
   "source": []
  }
 ],
 "metadata": {
  "kernelspec": {
   "display_name": "Python 3",
   "language": "python",
   "name": "python3"
  },
  "language_info": {
   "codemirror_mode": {
    "name": "ipython",
    "version": 3
   },
   "file_extension": ".py",
   "mimetype": "text/x-python",
   "name": "python",
   "nbconvert_exporter": "python",
   "pygments_lexer": "ipython3",
   "version": "3.6.5"
  },
  "toc": {
   "base_numbering": 1,
   "nav_menu": {},
   "number_sections": true,
   "sideBar": false,
   "skip_h1_title": true,
   "title_cell": "Table of Contents",
   "title_sidebar": "Contents",
   "toc_cell": false,
   "toc_position": {},
   "toc_section_display": true,
   "toc_window_display": false
  }
 },
 "nbformat": 4,
 "nbformat_minor": 2
}
