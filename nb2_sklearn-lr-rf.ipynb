{
 "cells": [
  {
   "cell_type": "markdown",
   "metadata": {},
   "source": [
    "# Notebook 2: Linear regression and random forests with scikit-learn\n",
    "\n",
    "Now that we have prepared our data we can start building machine learning models.\n",
    "\n",
    "We will start with the simplest model: Linear regression"
   ]
  },
  {
   "cell_type": "code",
   "execution_count": 76,
   "metadata": {},
   "outputs": [],
   "source": [
    "import pickle\n",
    "import matplotlib.pyplot as plt\n",
    "%matplotlib inline\n",
    "import numpy as np\n",
    "import pandas as pd\n",
    "import seaborn as sns"
   ]
  },
  {
   "cell_type": "code",
   "execution_count": 163,
   "metadata": {},
   "outputs": [],
   "source": [
    "DATADIR = '/local/S.Rasp/ML-Workshop-Data/'"
   ]
  },
  {
   "cell_type": "code",
   "execution_count": 162,
   "metadata": {},
   "outputs": [],
   "source": [
    "def create_sub(preds, fn=None):\n",
    "    df =  pd.DataFrame({'Id': range(len(preds)), 'Expected': preds})\n",
    "    if fn is not None: df.to_csv(DATADIR + fn, index=False)\n",
    "    return df"
   ]
  },
  {
   "cell_type": "code",
   "execution_count": 177,
   "metadata": {},
   "outputs": [],
   "source": [
    "# Load the data\n",
    "with open('./data/preproc_data.pkl', 'rb') as f:\n",
    "    X_train, y_train, X_valid, y_valid, X_test = pickle.load(f)\n",
    "with open('./data/dfs.pkl', 'rb') as f:\n",
    "    df_train, df_test = pickle.load(f)"
   ]
  },
  {
   "cell_type": "markdown",
   "metadata": {},
   "source": [
    "## Linear regression"
   ]
  },
  {
   "cell_type": "markdown",
   "metadata": {},
   "source": [
    "### Compute baseline mse"
   ]
  },
  {
   "cell_type": "code",
   "execution_count": 152,
   "metadata": {},
   "outputs": [],
   "source": [
    "def mse(y_true, y_pred): return ((y_true - y_pred)**2).mean()"
   ]
  },
  {
   "cell_type": "code",
   "execution_count": 153,
   "metadata": {},
   "outputs": [
    {
     "data": {
      "text/plain": [
       "4.135858792431942"
      ]
     },
     "execution_count": 153,
     "metadata": {},
     "output_type": "execute_result"
    }
   ],
   "source": [
    "mse(y_valid, df_train.t2m_fc_mean[df_train.time >= '2015-01-01'])"
   ]
  },
  {
   "cell_type": "markdown",
   "metadata": {},
   "source": [
    "### sklearn API\n",
    "\n",
    "All sklearn models work in exactly the same way."
   ]
  },
  {
   "cell_type": "code",
   "execution_count": 154,
   "metadata": {},
   "outputs": [],
   "source": [
    "from sklearn.linear_model import LinearRegression"
   ]
  },
  {
   "cell_type": "code",
   "execution_count": 155,
   "metadata": {},
   "outputs": [],
   "source": [
    "# Create the model object\n",
    "lr = LinearRegression()"
   ]
  },
  {
   "cell_type": "code",
   "execution_count": 156,
   "metadata": {},
   "outputs": [
    {
     "data": {
      "text/plain": [
       "LinearRegression(copy_X=True, fit_intercept=True, n_jobs=1, normalize=False)"
      ]
     },
     "execution_count": 156,
     "metadata": {},
     "output_type": "execute_result"
    }
   ],
   "source": [
    "# Fit the model parameters with the training data\n",
    "lr.fit(X_train, y_train)"
   ]
  },
  {
   "cell_type": "code",
   "execution_count": 157,
   "metadata": {},
   "outputs": [
    {
     "data": {
      "text/plain": [
       "Index(['t2m_fc_mean', 'orog', 'station_alt', 'station_lat', 'station_lon',\n",
       "       'u_pl500_fc_mean', 'v_pl500_fc_mean', 'gh_pl500_fc_mean',\n",
       "       'u_pl850_fc_mean', 'v_pl850_fc_mean', 'q_pl850_fc_mean', 'cape_fc_mean',\n",
       "       'sp_fc_mean', 'tcc_fc_mean', 'sshf_fc_mean', 'slhf_fc_mean',\n",
       "       'u10_fc_mean', 'v10_fc_mean', 'ssr_fc_mean', 'str_fc_mean',\n",
       "       'd2m_fc_mean', 'sm_fc_mean'],\n",
       "      dtype='object')"
      ]
     },
     "execution_count": 157,
     "metadata": {},
     "output_type": "execute_result"
    }
   ],
   "source": [
    "X_train.columns"
   ]
  },
  {
   "cell_type": "code",
   "execution_count": 158,
   "metadata": {},
   "outputs": [
    {
     "data": {
      "text/plain": [
       "array([ 5.20734246,  0.53522914, -0.9193415 , -0.14865423, -0.10651631,\n",
       "        0.01482758, -0.06200976,  0.22355911,  0.08053755, -0.01852129,\n",
       "        0.14741519, -0.03510716, -0.17207246,  0.17164729,  0.54843072,\n",
       "       -0.03918102, -0.06724854,  0.13348599,  0.77616008,  0.21138807,\n",
       "        0.61088598, -0.04088925])"
      ]
     },
     "execution_count": 158,
     "metadata": {},
     "output_type": "execute_result"
    }
   ],
   "source": [
    "lr.coef_"
   ]
  },
  {
   "cell_type": "code",
   "execution_count": 159,
   "metadata": {},
   "outputs": [
    {
     "data": {
      "text/plain": [
       "7.448795068185583"
      ]
     },
     "execution_count": 159,
     "metadata": {},
     "output_type": "execute_result"
    }
   ],
   "source": [
    "lr.intercept_"
   ]
  },
  {
   "cell_type": "code",
   "execution_count": 160,
   "metadata": {},
   "outputs": [],
   "source": [
    "# Make predictions for validation set\n",
    "preds = lr.predict(X_valid)"
   ]
  },
  {
   "cell_type": "code",
   "execution_count": 58,
   "metadata": {},
   "outputs": [
    {
     "data": {
      "text/plain": [
       "3.2422963614329707"
      ]
     },
     "execution_count": 58,
     "metadata": {},
     "output_type": "execute_result"
    }
   ],
   "source": [
    "mse(preds, y_valid)"
   ]
  },
  {
   "cell_type": "code",
   "execution_count": 164,
   "metadata": {},
   "outputs": [
    {
     "data": {
      "text/html": [
       "<div>\n",
       "<style scoped>\n",
       "    .dataframe tbody tr th:only-of-type {\n",
       "        vertical-align: middle;\n",
       "    }\n",
       "\n",
       "    .dataframe tbody tr th {\n",
       "        vertical-align: top;\n",
       "    }\n",
       "\n",
       "    .dataframe thead th {\n",
       "        text-align: right;\n",
       "    }\n",
       "</style>\n",
       "<table border=\"1\" class=\"dataframe\">\n",
       "  <thead>\n",
       "    <tr style=\"text-align: right;\">\n",
       "      <th></th>\n",
       "      <th>Id</th>\n",
       "      <th>Expected</th>\n",
       "    </tr>\n",
       "  </thead>\n",
       "  <tbody>\n",
       "    <tr>\n",
       "      <th>0</th>\n",
       "      <td>0</td>\n",
       "      <td>4.195768</td>\n",
       "    </tr>\n",
       "    <tr>\n",
       "      <th>1</th>\n",
       "      <td>1</td>\n",
       "      <td>1.528290</td>\n",
       "    </tr>\n",
       "    <tr>\n",
       "      <th>2</th>\n",
       "      <td>2</td>\n",
       "      <td>1.475483</td>\n",
       "    </tr>\n",
       "    <tr>\n",
       "      <th>3</th>\n",
       "      <td>3</td>\n",
       "      <td>4.318616</td>\n",
       "    </tr>\n",
       "    <tr>\n",
       "      <th>4</th>\n",
       "      <td>4</td>\n",
       "      <td>2.337542</td>\n",
       "    </tr>\n",
       "  </tbody>\n",
       "</table>\n",
       "</div>"
      ],
      "text/plain": [
       "   Id  Expected\n",
       "0   0  4.195768\n",
       "1   1  1.528290\n",
       "2   2  1.475483\n",
       "3   3  4.318616\n",
       "4   4  2.337542"
      ]
     },
     "execution_count": 164,
     "metadata": {},
     "output_type": "execute_result"
    }
   ],
   "source": [
    "# Submit to Kaggle\n",
    "df_sub = create_sub(lr.predict(X_test), 'lr.csv'); df_sub.head()"
   ]
  },
  {
   "cell_type": "markdown",
   "metadata": {},
   "source": [
    "### The R$^2$ score\n",
    "\n",
    "The R$^2$ score is a common skill metric in machine learning: https://en.wikipedia.org/wiki/Coefficient_of_determination"
   ]
  },
  {
   "cell_type": "code",
   "execution_count": 59,
   "metadata": {},
   "outputs": [
    {
     "data": {
      "text/plain": [
       "0.9187372901848856"
      ]
     },
     "execution_count": 59,
     "metadata": {},
     "output_type": "execute_result"
    }
   ],
   "source": [
    "lr.score(X_valid, y_valid)"
   ]
  },
  {
   "cell_type": "code",
   "execution_count": 93,
   "metadata": {},
   "outputs": [],
   "source": [
    "def print_scores(m, X_train=X_train, X_valid=X_valid):\n",
    "    print('Train R2 = ', m.score(X_train, y_train), \n",
    "          ', Valid R2 = ', m.score(X_valid, y_valid), ', Valid MSE = ', \n",
    "          mse(m.predict(X_valid), y_valid))"
   ]
  },
  {
   "cell_type": "code",
   "execution_count": 94,
   "metadata": {},
   "outputs": [
    {
     "name": "stdout",
     "output_type": "stream",
     "text": [
      "Train R2 =  0.9319430866570234 , Valid R2 =  0.9187372901848856 , Valid MSE =  3.2422963614329707\n"
     ]
    }
   ],
   "source": [
    "print_scores(lr)"
   ]
  },
  {
   "cell_type": "markdown",
   "metadata": {},
   "source": [
    "## Decicion trees\n",
    "\n",
    "Linear regression improves the score but we can do better. One very common machine learning algorithm are decision trees. They are capable of representing non-linear relationships. In scikit-learn we can use the exact same API as before."
   ]
  },
  {
   "cell_type": "code",
   "execution_count": 19,
   "metadata": {},
   "outputs": [],
   "source": [
    "from sklearn.tree import DecisionTreeRegressor\n",
    "from sklearn.tree import export_graphviz\n",
    "from IPython.display import display\n",
    "import IPython, graphviz, re"
   ]
  },
  {
   "cell_type": "markdown",
   "metadata": {},
   "source": [
    "### Visualize a tree"
   ]
  },
  {
   "cell_type": "code",
   "execution_count": 20,
   "metadata": {},
   "outputs": [],
   "source": [
    "def draw_tree(t, df, size=10, ratio=0.6, precision=0):\n",
    "    \"\"\" From fast.ai machine learning course.\n",
    "    Draws a representation of a random forest in IPython.\n",
    "    Parameters:\n",
    "    -----------\n",
    "    t: The tree you wish to draw\n",
    "    df: The data used to train the tree. This is used to get the names of the features.\n",
    "    \"\"\"\n",
    "    s=export_graphviz(t, out_file=None, feature_names=df.columns, filled=True,\n",
    "                      special_characters=True, rotate=True, precision=precision)\n",
    "    IPython.display.display(graphviz.Source(re.sub('Tree {',\n",
    "       f'Tree {{ size={size}; ratio={ratio}', s)))"
   ]
  },
  {
   "cell_type": "markdown",
   "metadata": {},
   "source": [
    "Let's start with a very shallow tree which we can visualize."
   ]
  },
  {
   "cell_type": "code",
   "execution_count": 30,
   "metadata": {},
   "outputs": [],
   "source": [
    "dt = DecisionTreeRegressor(max_depth=3)"
   ]
  },
  {
   "cell_type": "code",
   "execution_count": 31,
   "metadata": {},
   "outputs": [
    {
     "name": "stdout",
     "output_type": "stream",
     "text": [
      "CPU times: user 5.58 s, sys: 32 ms, total: 5.62 s\n",
      "Wall time: 5.61 s\n"
     ]
    },
    {
     "data": {
      "text/plain": [
       "DecisionTreeRegressor(criterion='mse', max_depth=3, max_features=None,\n",
       "           max_leaf_nodes=None, min_impurity_decrease=0.0,\n",
       "           min_impurity_split=None, min_samples_leaf=1,\n",
       "           min_samples_split=2, min_weight_fraction_leaf=0.0,\n",
       "           presort=False, random_state=None, splitter='best')"
      ]
     },
     "execution_count": 31,
     "metadata": {},
     "output_type": "execute_result"
    }
   ],
   "source": [
    "%time dt.fit(X_train, y_train)"
   ]
  },
  {
   "cell_type": "code",
   "execution_count": 33,
   "metadata": {},
   "outputs": [
    {
     "data": {
      "image/svg+xml": [
       "<?xml version=\"1.0\" encoding=\"UTF-8\" standalone=\"no\"?>\n",
       "<!DOCTYPE svg PUBLIC \"-//W3C//DTD SVG 1.1//EN\"\n",
       " \"http://www.w3.org/Graphics/SVG/1.1/DTD/svg11.dtd\">\n",
       "<!-- Generated by graphviz version 2.38.0 (20140413.2041)\n",
       " -->\n",
       "<!-- Title: Tree Pages: 1 -->\n",
       "<svg width=\"720pt\" height=\"434pt\"\n",
       " viewBox=\"0.00 0.00 720.00 434.49\" xmlns=\"http://www.w3.org/2000/svg\" xmlns:xlink=\"http://www.w3.org/1999/xlink\">\n",
       "<g id=\"graph0\" class=\"graph\" transform=\"scale(0.778659 0.778659) rotate(0) translate(4 554)\">\n",
       "<title>Tree</title>\n",
       "<polygon fill=\"white\" stroke=\"none\" points=\"-4,4 -4,-554 920.667,-554 920.667,4 -4,4\"/>\n",
       "<!-- 0 -->\n",
       "<g id=\"node1\" class=\"node\"><title>0</title>\n",
       "<polygon fill=\"#e58139\" fill-opacity=\"0.588235\" stroke=\"black\" points=\"160.667,-308.5 32.6667,-308.5 32.6667,-240.5 160.667,-240.5 160.667,-308.5\"/>\n",
       "<text text-anchor=\"start\" x=\"40.6667\" y=\"-293.3\" font-family=\"Times,serif\" font-size=\"14.00\">t2m_fc_mean ≤ &#45;0.0</text>\n",
       "<text text-anchor=\"start\" x=\"66.6667\" y=\"-278.3\" font-family=\"Times,serif\" font-size=\"14.00\">mse = 44.0</text>\n",
       "<text text-anchor=\"start\" x=\"47.1667\" y=\"-263.3\" font-family=\"Times,serif\" font-size=\"14.00\">samples = 728008</text>\n",
       "<text text-anchor=\"start\" x=\"66.6667\" y=\"-248.3\" font-family=\"Times,serif\" font-size=\"14.00\">value = 7.0</text>\n",
       "</g>\n",
       "<!-- 1 -->\n",
       "<g id=\"node2\" class=\"node\"><title>1</title>\n",
       "<polygon fill=\"#e58139\" fill-opacity=\"0.356863\" stroke=\"black\" points=\"408.667,-361.5 280.667,-361.5 280.667,-293.5 408.667,-293.5 408.667,-361.5\"/>\n",
       "<text text-anchor=\"start\" x=\"288.667\" y=\"-346.3\" font-family=\"Times,serif\" font-size=\"14.00\">t2m_fc_mean ≤ &#45;1.0</text>\n",
       "<text text-anchor=\"start\" x=\"314.667\" y=\"-331.3\" font-family=\"Times,serif\" font-size=\"14.00\">mse = 19.0</text>\n",
       "<text text-anchor=\"start\" x=\"295.167\" y=\"-316.3\" font-family=\"Times,serif\" font-size=\"14.00\">samples = 333362</text>\n",
       "<text text-anchor=\"start\" x=\"314.667\" y=\"-301.3\" font-family=\"Times,serif\" font-size=\"14.00\">value = 2.0</text>\n",
       "</g>\n",
       "<!-- 0&#45;&gt;1 -->\n",
       "<g id=\"edge1\" class=\"edge\"><title>0&#45;&gt;1</title>\n",
       "<path fill=\"none\" stroke=\"black\" d=\"M160.698,-288.08C194.126,-295.282 235.378,-304.17 270.246,-311.682\"/>\n",
       "<polygon fill=\"black\" stroke=\"black\" points=\"269.859,-315.179 280.372,-313.863 271.333,-308.336 269.859,-315.179\"/>\n",
       "<text text-anchor=\"middle\" x=\"259.367\" y=\"-323.721\" font-family=\"Times,serif\" font-size=\"14.00\">True</text>\n",
       "</g>\n",
       "<!-- 8 -->\n",
       "<g id=\"node9\" class=\"node\"><title>8</title>\n",
       "<polygon fill=\"#e58139\" fill-opacity=\"0.780392\" stroke=\"black\" points=\"406.667,-255.5 282.667,-255.5 282.667,-187.5 406.667,-187.5 406.667,-255.5\"/>\n",
       "<text text-anchor=\"start\" x=\"290.667\" y=\"-240.3\" font-family=\"Times,serif\" font-size=\"14.00\">t2m_fc_mean ≤ 1.0</text>\n",
       "<text text-anchor=\"start\" x=\"314.667\" y=\"-225.3\" font-family=\"Times,serif\" font-size=\"14.00\">mse = 14.0</text>\n",
       "<text text-anchor=\"start\" x=\"295.167\" y=\"-210.3\" font-family=\"Times,serif\" font-size=\"14.00\">samples = 394646</text>\n",
       "<text text-anchor=\"start\" x=\"311.167\" y=\"-195.3\" font-family=\"Times,serif\" font-size=\"14.00\">value = 12.0</text>\n",
       "</g>\n",
       "<!-- 0&#45;&gt;8 -->\n",
       "<g id=\"edge8\" class=\"edge\"><title>0&#45;&gt;8</title>\n",
       "<path fill=\"none\" stroke=\"black\" d=\"M160.698,-260.92C194.921,-253.547 237.343,-244.407 272.72,-236.785\"/>\n",
       "<polygon fill=\"black\" stroke=\"black\" points=\"273.46,-240.206 282.499,-234.678 271.986,-233.363 273.46,-240.206\"/>\n",
       "<text text-anchor=\"middle\" x=\"261.495\" y=\"-217.42\" font-family=\"Times,serif\" font-size=\"14.00\">False</text>\n",
       "</g>\n",
       "<!-- 2 -->\n",
       "<g id=\"node3\" class=\"node\"><title>2</title>\n",
       "<polygon fill=\"#e58139\" fill-opacity=\"0.176471\" stroke=\"black\" points=\"655.667,-486.5 527.667,-486.5 527.667,-418.5 655.667,-418.5 655.667,-486.5\"/>\n",
       "<text text-anchor=\"start\" x=\"535.667\" y=\"-471.3\" font-family=\"Times,serif\" font-size=\"14.00\">t2m_fc_mean ≤ &#45;2.0</text>\n",
       "<text text-anchor=\"start\" x=\"561.667\" y=\"-456.3\" font-family=\"Times,serif\" font-size=\"14.00\">mse = 15.0</text>\n",
       "<text text-anchor=\"start\" x=\"542.167\" y=\"-441.3\" font-family=\"Times,serif\" font-size=\"14.00\">samples = 108193</text>\n",
       "<text text-anchor=\"start\" x=\"559.667\" y=\"-426.3\" font-family=\"Times,serif\" font-size=\"14.00\">value = &#45;3.0</text>\n",
       "</g>\n",
       "<!-- 1&#45;&gt;2 -->\n",
       "<g id=\"edge2\" class=\"edge\"><title>1&#45;&gt;2</title>\n",
       "<path fill=\"none\" stroke=\"black\" d=\"M408.76,-359.691C442.209,-376.756 483.454,-397.8 518.21,-415.532\"/>\n",
       "<polygon fill=\"black\" stroke=\"black\" points=\"516.863,-418.774 527.362,-420.201 520.045,-412.539 516.863,-418.774\"/>\n",
       "</g>\n",
       "<!-- 5 -->\n",
       "<g id=\"node6\" class=\"node\"><title>5</title>\n",
       "<polygon fill=\"#e58139\" fill-opacity=\"0.447059\" stroke=\"black\" points=\"655.667,-361.5 527.667,-361.5 527.667,-293.5 655.667,-293.5 655.667,-361.5\"/>\n",
       "<text text-anchor=\"start\" x=\"535.667\" y=\"-346.3\" font-family=\"Times,serif\" font-size=\"14.00\">t2m_fc_mean ≤ &#45;1.0</text>\n",
       "<text text-anchor=\"start\" x=\"565.167\" y=\"-331.3\" font-family=\"Times,serif\" font-size=\"14.00\">mse = 7.0</text>\n",
       "<text text-anchor=\"start\" x=\"542.167\" y=\"-316.3\" font-family=\"Times,serif\" font-size=\"14.00\">samples = 225169</text>\n",
       "<text text-anchor=\"start\" x=\"561.667\" y=\"-301.3\" font-family=\"Times,serif\" font-size=\"14.00\">value = 4.0</text>\n",
       "</g>\n",
       "<!-- 1&#45;&gt;5 -->\n",
       "<g id=\"edge5\" class=\"edge\"><title>1&#45;&gt;5</title>\n",
       "<path fill=\"none\" stroke=\"black\" d=\"M408.76,-327.5C441.924,-327.5 482.753,-327.5 517.321,-327.5\"/>\n",
       "<polygon fill=\"black\" stroke=\"black\" points=\"517.362,-331 527.362,-327.5 517.362,-324 517.362,-331\"/>\n",
       "</g>\n",
       "<!-- 3 -->\n",
       "<g id=\"node4\" class=\"node\"><title>3</title>\n",
       "<polygon fill=\"none\" stroke=\"black\" points=\"883.667,-550 775.667,-550 775.667,-497 883.667,-497 883.667,-550\"/>\n",
       "<text text-anchor=\"start\" x=\"799.667\" y=\"-534.8\" font-family=\"Times,serif\" font-size=\"14.00\">mse = 17.0</text>\n",
       "<text text-anchor=\"start\" x=\"783.667\" y=\"-519.8\" font-family=\"Times,serif\" font-size=\"14.00\">samples = 27937</text>\n",
       "<text text-anchor=\"start\" x=\"797.667\" y=\"-504.8\" font-family=\"Times,serif\" font-size=\"14.00\">value = &#45;7.0</text>\n",
       "</g>\n",
       "<!-- 2&#45;&gt;3 -->\n",
       "<g id=\"edge3\" class=\"edge\"><title>2&#45;&gt;3</title>\n",
       "<path fill=\"none\" stroke=\"black\" d=\"M655.91,-471.527C689.96,-481.77 731.825,-494.365 765.815,-504.591\"/>\n",
       "<polygon fill=\"black\" stroke=\"black\" points=\"765.05,-508.016 775.635,-507.545 767.067,-501.313 765.05,-508.016\"/>\n",
       "</g>\n",
       "<!-- 4 -->\n",
       "<g id=\"node5\" class=\"node\"><title>4</title>\n",
       "<polygon fill=\"#e58139\" fill-opacity=\"0.239216\" stroke=\"black\" points=\"883.667,-479 775.667,-479 775.667,-426 883.667,-426 883.667,-479\"/>\n",
       "<text text-anchor=\"start\" x=\"803.167\" y=\"-463.8\" font-family=\"Times,serif\" font-size=\"14.00\">mse = 5.0</text>\n",
       "<text text-anchor=\"start\" x=\"783.667\" y=\"-448.8\" font-family=\"Times,serif\" font-size=\"14.00\">samples = 80256</text>\n",
       "<text text-anchor=\"start\" x=\"797.667\" y=\"-433.8\" font-family=\"Times,serif\" font-size=\"14.00\">value = &#45;1.0</text>\n",
       "</g>\n",
       "<!-- 2&#45;&gt;4 -->\n",
       "<g id=\"edge4\" class=\"edge\"><title>2&#45;&gt;4</title>\n",
       "<path fill=\"none\" stroke=\"black\" d=\"M655.91,-452.5C689.814,-452.5 731.466,-452.5 765.376,-452.5\"/>\n",
       "<polygon fill=\"black\" stroke=\"black\" points=\"765.635,-456 775.635,-452.5 765.635,-449 765.635,-456\"/>\n",
       "</g>\n",
       "<!-- 6 -->\n",
       "<g id=\"node7\" class=\"node\"><title>6</title>\n",
       "<polygon fill=\"#e58139\" fill-opacity=\"0.384314\" stroke=\"black\" points=\"887.167,-408 772.167,-408 772.167,-355 887.167,-355 887.167,-408\"/>\n",
       "<text text-anchor=\"start\" x=\"803.167\" y=\"-392.8\" font-family=\"Times,serif\" font-size=\"14.00\">mse = 4.0</text>\n",
       "<text text-anchor=\"start\" x=\"780.167\" y=\"-377.8\" font-family=\"Times,serif\" font-size=\"14.00\">samples = 112684</text>\n",
       "<text text-anchor=\"start\" x=\"799.667\" y=\"-362.8\" font-family=\"Times,serif\" font-size=\"14.00\">value = 2.0</text>\n",
       "</g>\n",
       "<!-- 5&#45;&gt;6 -->\n",
       "<g id=\"edge6\" class=\"edge\"><title>5&#45;&gt;6</title>\n",
       "<path fill=\"none\" stroke=\"black\" d=\"M655.91,-341.971C688.7,-349.474 728.738,-358.635 762.01,-366.248\"/>\n",
       "<polygon fill=\"black\" stroke=\"black\" points=\"761.575,-369.739 772.104,-368.558 763.136,-362.915 761.575,-369.739\"/>\n",
       "</g>\n",
       "<!-- 7 -->\n",
       "<g id=\"node8\" class=\"node\"><title>7</title>\n",
       "<polygon fill=\"#e58139\" fill-opacity=\"0.509804\" stroke=\"black\" points=\"887.167,-337 772.167,-337 772.167,-284 887.167,-284 887.167,-337\"/>\n",
       "<text text-anchor=\"start\" x=\"803.167\" y=\"-321.8\" font-family=\"Times,serif\" font-size=\"14.00\">mse = 4.0</text>\n",
       "<text text-anchor=\"start\" x=\"780.167\" y=\"-306.8\" font-family=\"Times,serif\" font-size=\"14.00\">samples = 112485</text>\n",
       "<text text-anchor=\"start\" x=\"799.667\" y=\"-291.8\" font-family=\"Times,serif\" font-size=\"14.00\">value = 5.0</text>\n",
       "</g>\n",
       "<!-- 5&#45;&gt;7 -->\n",
       "<g id=\"edge7\" class=\"edge\"><title>5&#45;&gt;7</title>\n",
       "<path fill=\"none\" stroke=\"black\" d=\"M655.91,-322.944C688.7,-320.582 728.738,-317.698 762.01,-315.302\"/>\n",
       "<polygon fill=\"black\" stroke=\"black\" points=\"762.381,-318.784 772.104,-314.574 761.878,-311.802 762.381,-318.784\"/>\n",
       "</g>\n",
       "<!-- 9 -->\n",
       "<g id=\"node10\" class=\"node\"><title>9</title>\n",
       "<polygon fill=\"#e58139\" fill-opacity=\"0.682353\" stroke=\"black\" points=\"653.667,-255.5 529.667,-255.5 529.667,-187.5 653.667,-187.5 653.667,-255.5\"/>\n",
       "<text text-anchor=\"start\" x=\"537.667\" y=\"-240.3\" font-family=\"Times,serif\" font-size=\"14.00\">t2m_fc_mean ≤ 0.0</text>\n",
       "<text text-anchor=\"start\" x=\"565.167\" y=\"-225.3\" font-family=\"Times,serif\" font-size=\"14.00\">mse = 6.0</text>\n",
       "<text text-anchor=\"start\" x=\"542.167\" y=\"-210.3\" font-family=\"Times,serif\" font-size=\"14.00\">samples = 218471</text>\n",
       "<text text-anchor=\"start\" x=\"558.167\" y=\"-195.3\" font-family=\"Times,serif\" font-size=\"14.00\">value = 10.0</text>\n",
       "</g>\n",
       "<!-- 8&#45;&gt;9 -->\n",
       "<g id=\"edge9\" class=\"edge\"><title>8&#45;&gt;9</title>\n",
       "<path fill=\"none\" stroke=\"black\" d=\"M406.859,-221.5C440.914,-221.5 483.488,-221.5 519.083,-221.5\"/>\n",
       "<polygon fill=\"black\" stroke=\"black\" points=\"519.406,-225 529.406,-221.5 519.406,-218 519.406,-225\"/>\n",
       "</g>\n",
       "<!-- 12 -->\n",
       "<g id=\"node13\" class=\"node\"><title>12</title>\n",
       "<polygon fill=\"#e58139\" fill-opacity=\"0.898039\" stroke=\"black\" points=\"653.667,-131.5 529.667,-131.5 529.667,-63.5 653.667,-63.5 653.667,-131.5\"/>\n",
       "<text text-anchor=\"start\" x=\"537.667\" y=\"-116.3\" font-family=\"Times,serif\" font-size=\"14.00\">t2m_fc_mean ≤ 1.0</text>\n",
       "<text text-anchor=\"start\" x=\"565.167\" y=\"-101.3\" font-family=\"Times,serif\" font-size=\"14.00\">mse = 7.0</text>\n",
       "<text text-anchor=\"start\" x=\"542.167\" y=\"-86.3\" font-family=\"Times,serif\" font-size=\"14.00\">samples = 176175</text>\n",
       "<text text-anchor=\"start\" x=\"558.167\" y=\"-71.3\" font-family=\"Times,serif\" font-size=\"14.00\">value = 15.0</text>\n",
       "</g>\n",
       "<!-- 8&#45;&gt;12 -->\n",
       "<g id=\"edge12\" class=\"edge\"><title>8&#45;&gt;12</title>\n",
       "<path fill=\"none\" stroke=\"black\" d=\"M406.859,-190.529C441.353,-173.071 484.585,-151.19 520.455,-133.036\"/>\n",
       "<polygon fill=\"black\" stroke=\"black\" points=\"522.064,-136.144 529.406,-128.506 518.903,-129.899 522.064,-136.144\"/>\n",
       "</g>\n",
       "<!-- 10 -->\n",
       "<g id=\"node11\" class=\"node\"><title>10</title>\n",
       "<polygon fill=\"#e58139\" fill-opacity=\"0.623529\" stroke=\"black\" points=\"887.167,-266 772.167,-266 772.167,-213 887.167,-213 887.167,-266\"/>\n",
       "<text text-anchor=\"start\" x=\"803.167\" y=\"-250.8\" font-family=\"Times,serif\" font-size=\"14.00\">mse = 4.0</text>\n",
       "<text text-anchor=\"start\" x=\"780.167\" y=\"-235.8\" font-family=\"Times,serif\" font-size=\"14.00\">samples = 100215</text>\n",
       "<text text-anchor=\"start\" x=\"799.667\" y=\"-220.8\" font-family=\"Times,serif\" font-size=\"14.00\">value = 8.0</text>\n",
       "</g>\n",
       "<!-- 9&#45;&gt;10 -->\n",
       "<g id=\"edge10\" class=\"edge\"><title>9&#45;&gt;10</title>\n",
       "<path fill=\"none\" stroke=\"black\" d=\"M653.749,-226.159C686.796,-228.679 727.674,-231.797 761.601,-234.385\"/>\n",
       "<polygon fill=\"black\" stroke=\"black\" points=\"761.653,-237.899 771.891,-235.17 762.186,-230.919 761.653,-237.899\"/>\n",
       "</g>\n",
       "<!-- 11 -->\n",
       "<g id=\"node12\" class=\"node\"><title>11</title>\n",
       "<polygon fill=\"#e58139\" fill-opacity=\"0.733333\" stroke=\"black\" points=\"887.167,-195 772.167,-195 772.167,-142 887.167,-142 887.167,-195\"/>\n",
       "<text text-anchor=\"start\" x=\"803.167\" y=\"-179.8\" font-family=\"Times,serif\" font-size=\"14.00\">mse = 4.0</text>\n",
       "<text text-anchor=\"start\" x=\"780.167\" y=\"-164.8\" font-family=\"Times,serif\" font-size=\"14.00\">samples = 118256</text>\n",
       "<text text-anchor=\"start\" x=\"796.167\" y=\"-149.8\" font-family=\"Times,serif\" font-size=\"14.00\">value = 11.0</text>\n",
       "</g>\n",
       "<!-- 9&#45;&gt;11 -->\n",
       "<g id=\"edge11\" class=\"edge\"><title>9&#45;&gt;11</title>\n",
       "<path fill=\"none\" stroke=\"black\" d=\"M653.749,-207.782C686.939,-200.329 728.027,-191.101 762.04,-183.463\"/>\n",
       "<polygon fill=\"black\" stroke=\"black\" points=\"762.901,-186.857 771.891,-181.251 761.367,-180.027 762.901,-186.857\"/>\n",
       "</g>\n",
       "<!-- 13 -->\n",
       "<g id=\"node14\" class=\"node\"><title>13</title>\n",
       "<polygon fill=\"#e58139\" fill-opacity=\"0.850980\" stroke=\"black\" points=\"887.167,-124 772.167,-124 772.167,-71 887.167,-71 887.167,-124\"/>\n",
       "<text text-anchor=\"start\" x=\"803.167\" y=\"-108.8\" font-family=\"Times,serif\" font-size=\"14.00\">mse = 4.0</text>\n",
       "<text text-anchor=\"start\" x=\"780.167\" y=\"-93.8\" font-family=\"Times,serif\" font-size=\"14.00\">samples = 120810</text>\n",
       "<text text-anchor=\"start\" x=\"796.167\" y=\"-78.8\" font-family=\"Times,serif\" font-size=\"14.00\">value = 14.0</text>\n",
       "</g>\n",
       "<!-- 12&#45;&gt;13 -->\n",
       "<g id=\"edge13\" class=\"edge\"><title>12&#45;&gt;13</title>\n",
       "<path fill=\"none\" stroke=\"black\" d=\"M653.749,-97.5C686.796,-97.5 727.674,-97.5 761.601,-97.5\"/>\n",
       "<polygon fill=\"black\" stroke=\"black\" points=\"761.891,-101 771.891,-97.5 761.891,-94.0001 761.891,-101\"/>\n",
       "</g>\n",
       "<!-- 14 -->\n",
       "<g id=\"node15\" class=\"node\"><title>14</title>\n",
       "<polygon fill=\"#e58139\" stroke=\"black\" points=\"883.667,-53 775.667,-53 775.667,-0 883.667,-0 883.667,-53\"/>\n",
       "<text text-anchor=\"start\" x=\"803.167\" y=\"-37.8\" font-family=\"Times,serif\" font-size=\"14.00\">mse = 5.0</text>\n",
       "<text text-anchor=\"start\" x=\"783.667\" y=\"-22.8\" font-family=\"Times,serif\" font-size=\"14.00\">samples = 55365</text>\n",
       "<text text-anchor=\"start\" x=\"796.167\" y=\"-7.8\" font-family=\"Times,serif\" font-size=\"14.00\">value = 18.0</text>\n",
       "</g>\n",
       "<!-- 12&#45;&gt;14 -->\n",
       "<g id=\"edge14\" class=\"edge\"><title>12&#45;&gt;14</title>\n",
       "<path fill=\"none\" stroke=\"black\" d=\"M653.749,-79.1234C688.057,-68.802 730.806,-55.9411 765.454,-45.5173\"/>\n",
       "<polygon fill=\"black\" stroke=\"black\" points=\"766.895,-48.739 775.462,-42.5064 764.878,-42.0358 766.895,-48.739\"/>\n",
       "</g>\n",
       "</g>\n",
       "</svg>\n"
      ],
      "text/plain": [
       "<graphviz.files.Source at 0x7fd5d0f3c400>"
      ]
     },
     "metadata": {},
     "output_type": "display_data"
    }
   ],
   "source": [
    "draw_tree(dt, df_train.drop(['t2m_obs', 'time', 'station'], 1))"
   ]
  },
  {
   "cell_type": "markdown",
   "metadata": {},
   "source": [
    "### Build a full tree\n",
    "\n",
    "Now let's actually build a complicated tree."
   ]
  },
  {
   "cell_type": "code",
   "execution_count": 34,
   "metadata": {},
   "outputs": [],
   "source": [
    "dt = DecisionTreeRegressor()"
   ]
  },
  {
   "cell_type": "code",
   "execution_count": 35,
   "metadata": {},
   "outputs": [
    {
     "name": "stdout",
     "output_type": "stream",
     "text": [
      "CPU times: user 34 s, sys: 68 ms, total: 34.1 s\n",
      "Wall time: 34.1 s\n"
     ]
    },
    {
     "data": {
      "text/plain": [
       "DecisionTreeRegressor(criterion='mse', max_depth=None, max_features=None,\n",
       "           max_leaf_nodes=None, min_impurity_decrease=0.0,\n",
       "           min_impurity_split=None, min_samples_leaf=1,\n",
       "           min_samples_split=2, min_weight_fraction_leaf=0.0,\n",
       "           presort=False, random_state=None, splitter='best')"
      ]
     },
     "execution_count": 35,
     "metadata": {},
     "output_type": "execute_result"
    }
   ],
   "source": [
    "%time dt.fit(X_train, y_train)"
   ]
  },
  {
   "cell_type": "code",
   "execution_count": 42,
   "metadata": {},
   "outputs": [
    {
     "name": "stdout",
     "output_type": "stream",
     "text": [
      "Train R2 =  1.0 , Valid R2 =  0.8439342628856448 , Valid MSE =  6.226858207676123\n"
     ]
    }
   ],
   "source": [
    "print_scores(dt)"
   ]
  },
  {
   "cell_type": "markdown",
   "metadata": {},
   "source": [
    "So we have a perfect score on the training dataset, but a pretty awful score on the validation set. This is an extreme case of overfitting!"
   ]
  },
  {
   "cell_type": "markdown",
   "metadata": {},
   "source": [
    "### Reduce the complexity of the tree"
   ]
  },
  {
   "cell_type": "code",
   "execution_count": 46,
   "metadata": {},
   "outputs": [],
   "source": [
    "dt = DecisionTreeRegressor(min_samples_leaf=200)"
   ]
  },
  {
   "cell_type": "code",
   "execution_count": 47,
   "metadata": {},
   "outputs": [
    {
     "name": "stdout",
     "output_type": "stream",
     "text": [
      "CPU times: user 21.8 s, sys: 20 ms, total: 21.8 s\n",
      "Wall time: 21.8 s\n"
     ]
    },
    {
     "data": {
      "text/plain": [
       "DecisionTreeRegressor(criterion='mse', max_depth=None, max_features=None,\n",
       "           max_leaf_nodes=None, min_impurity_decrease=0.0,\n",
       "           min_impurity_split=None, min_samples_leaf=200,\n",
       "           min_samples_split=2, min_weight_fraction_leaf=0.0,\n",
       "           presort=False, random_state=None, splitter='best')"
      ]
     },
     "execution_count": 47,
     "metadata": {},
     "output_type": "execute_result"
    }
   ],
   "source": [
    "%time dt.fit(X_train, y_train)"
   ]
  },
  {
   "cell_type": "code",
   "execution_count": 48,
   "metadata": {},
   "outputs": [
    {
     "name": "stdout",
     "output_type": "stream",
     "text": [
      "Train R2 =  0.939008732905577 , Valid R2 =  0.9112729295089091 , Valid MSE =  3.540116474929169\n"
     ]
    }
   ],
   "source": [
    "print_scores(dt)"
   ]
  },
  {
   "cell_type": "markdown",
   "metadata": {},
   "source": [
    "The overfitting is less bad now but we still cannot get a better score than with linear regression. We need to do better!"
   ]
  },
  {
   "cell_type": "markdown",
   "metadata": {},
   "source": [
    "## Random forests"
   ]
  },
  {
   "cell_type": "code",
   "execution_count": 62,
   "metadata": {},
   "outputs": [],
   "source": [
    "from sklearn.ensemble import RandomForestRegressor"
   ]
  },
  {
   "cell_type": "markdown",
   "metadata": {},
   "source": [
    "### Fit a sample model"
   ]
  },
  {
   "cell_type": "markdown",
   "metadata": {},
   "source": [
    "Now we are fitting several decision trees. This can be done in parallel by several processors. `n_jobs = -1` uses all available processors."
   ]
  },
  {
   "cell_type": "code",
   "execution_count": 63,
   "metadata": {},
   "outputs": [],
   "source": [
    "rf = RandomForestRegressor(n_estimators=10, n_jobs=-1)"
   ]
  },
  {
   "cell_type": "code",
   "execution_count": 64,
   "metadata": {},
   "outputs": [
    {
     "name": "stdout",
     "output_type": "stream",
     "text": [
      "CPU times: user 4min 21s, sys: 420 ms, total: 4min 21s\n",
      "Wall time: 28.7 s\n"
     ]
    },
    {
     "data": {
      "text/plain": [
       "RandomForestRegressor(bootstrap=True, criterion='mse', max_depth=None,\n",
       "           max_features='auto', max_leaf_nodes=None,\n",
       "           min_impurity_decrease=0.0, min_impurity_split=None,\n",
       "           min_samples_leaf=1, min_samples_split=2,\n",
       "           min_weight_fraction_leaf=0.0, n_estimators=10, n_jobs=-1,\n",
       "           oob_score=False, random_state=None, verbose=0, warm_start=False)"
      ]
     },
     "execution_count": 64,
     "metadata": {},
     "output_type": "execute_result"
    }
   ],
   "source": [
    "%time rf.fit(X_train, y_train)"
   ]
  },
  {
   "cell_type": "code",
   "execution_count": 65,
   "metadata": {},
   "outputs": [
    {
     "name": "stdout",
     "output_type": "stream",
     "text": [
      "Train R2 =  0.9924217592928964 , Valid R2 =  0.9175357921923839 , Valid MSE =  3.2902348633390006\n"
     ]
    }
   ],
   "source": [
    "print_scores(rf)"
   ]
  },
  {
   "cell_type": "markdown",
   "metadata": {},
   "source": [
    "### Hyperparameters\n",
    "\n",
    "Again we need to tune the hyperparameters to combat overfitting"
   ]
  },
  {
   "cell_type": "markdown",
   "metadata": {},
   "source": [
    "#### min_samples_leaf"
   ]
  },
  {
   "cell_type": "code",
   "execution_count": 66,
   "metadata": {},
   "outputs": [],
   "source": [
    "rf = RandomForestRegressor(n_estimators=10, n_jobs=-1, min_samples_leaf=100)"
   ]
  },
  {
   "cell_type": "code",
   "execution_count": 67,
   "metadata": {},
   "outputs": [
    {
     "name": "stdout",
     "output_type": "stream",
     "text": [
      "CPU times: user 2min 58s, sys: 84 ms, total: 2min 58s\n",
      "Wall time: 18.3 s\n"
     ]
    },
    {
     "data": {
      "text/plain": [
       "RandomForestRegressor(bootstrap=True, criterion='mse', max_depth=None,\n",
       "           max_features='auto', max_leaf_nodes=None,\n",
       "           min_impurity_decrease=0.0, min_impurity_split=None,\n",
       "           min_samples_leaf=100, min_samples_split=2,\n",
       "           min_weight_fraction_leaf=0.0, n_estimators=10, n_jobs=-1,\n",
       "           oob_score=False, random_state=None, verbose=0, warm_start=False)"
      ]
     },
     "execution_count": 67,
     "metadata": {},
     "output_type": "execute_result"
    }
   ],
   "source": [
    "%time rf.fit(X_train, y_train)"
   ]
  },
  {
   "cell_type": "code",
   "execution_count": 68,
   "metadata": {},
   "outputs": [
    {
     "name": "stdout",
     "output_type": "stream",
     "text": [
      "Train R2 =  0.9468820244229854 , Valid R2 =  0.919418313977026 , Valid MSE =  3.2151242308416883\n"
     ]
    }
   ],
   "source": [
    "print_scores(rf)"
   ]
  },
  {
   "cell_type": "markdown",
   "metadata": {},
   "source": [
    "#### n_estimators"
   ]
  },
  {
   "cell_type": "code",
   "execution_count": 165,
   "metadata": {},
   "outputs": [],
   "source": [
    "rf = RandomForestRegressor(n_estimators=40, n_jobs=-1, min_samples_leaf=10)"
   ]
  },
  {
   "cell_type": "code",
   "execution_count": 166,
   "metadata": {},
   "outputs": [
    {
     "name": "stdout",
     "output_type": "stream",
     "text": [
      "CPU times: user 20min 48s, sys: 424 ms, total: 20min 48s\n",
      "Wall time: 1min 7s\n"
     ]
    },
    {
     "data": {
      "text/plain": [
       "RandomForestRegressor(bootstrap=True, criterion='mse', max_depth=None,\n",
       "           max_features='auto', max_leaf_nodes=None,\n",
       "           min_impurity_decrease=0.0, min_impurity_split=None,\n",
       "           min_samples_leaf=10, min_samples_split=2,\n",
       "           min_weight_fraction_leaf=0.0, n_estimators=40, n_jobs=-1,\n",
       "           oob_score=False, random_state=None, verbose=0, warm_start=False)"
      ]
     },
     "execution_count": 166,
     "metadata": {},
     "output_type": "execute_result"
    }
   ],
   "source": [
    "%time rf.fit(X_train, y_train)"
   ]
  },
  {
   "cell_type": "code",
   "execution_count": 167,
   "metadata": {},
   "outputs": [
    {
     "name": "stdout",
     "output_type": "stream",
     "text": [
      "Train R2 =  0.9759219336139724 , Valid R2 =  0.9238195996984498 , Valid MSE =  3.039517575431469\n"
     ]
    }
   ],
   "source": [
    "print_scores(rf)"
   ]
  },
  {
   "cell_type": "markdown",
   "metadata": {},
   "source": [
    "Now we are significantly better than linear regression. Success!!! But why?"
   ]
  },
  {
   "cell_type": "code",
   "execution_count": 168,
   "metadata": {},
   "outputs": [
    {
     "data": {
      "text/html": [
       "<div>\n",
       "<style scoped>\n",
       "    .dataframe tbody tr th:only-of-type {\n",
       "        vertical-align: middle;\n",
       "    }\n",
       "\n",
       "    .dataframe tbody tr th {\n",
       "        vertical-align: top;\n",
       "    }\n",
       "\n",
       "    .dataframe thead th {\n",
       "        text-align: right;\n",
       "    }\n",
       "</style>\n",
       "<table border=\"1\" class=\"dataframe\">\n",
       "  <thead>\n",
       "    <tr style=\"text-align: right;\">\n",
       "      <th></th>\n",
       "      <th>Id</th>\n",
       "      <th>Expected</th>\n",
       "    </tr>\n",
       "  </thead>\n",
       "  <tbody>\n",
       "    <tr>\n",
       "      <th>0</th>\n",
       "      <td>0</td>\n",
       "      <td>3.784826</td>\n",
       "    </tr>\n",
       "    <tr>\n",
       "      <th>1</th>\n",
       "      <td>1</td>\n",
       "      <td>1.575518</td>\n",
       "    </tr>\n",
       "    <tr>\n",
       "      <th>2</th>\n",
       "      <td>2</td>\n",
       "      <td>0.445792</td>\n",
       "    </tr>\n",
       "    <tr>\n",
       "      <th>3</th>\n",
       "      <td>3</td>\n",
       "      <td>3.970306</td>\n",
       "    </tr>\n",
       "    <tr>\n",
       "      <th>4</th>\n",
       "      <td>4</td>\n",
       "      <td>2.550068</td>\n",
       "    </tr>\n",
       "  </tbody>\n",
       "</table>\n",
       "</div>"
      ],
      "text/plain": [
       "   Id  Expected\n",
       "0   0  3.784826\n",
       "1   1  1.575518\n",
       "2   2  0.445792\n",
       "3   3  3.970306\n",
       "4   4  2.550068"
      ]
     },
     "execution_count": 168,
     "metadata": {},
     "output_type": "execute_result"
    }
   ],
   "source": [
    "# Submit to Kaggle\n",
    "df_sub = create_sub(rf.predict(X_test), 'rf.csv'); df_sub.head()"
   ]
  },
  {
   "cell_type": "markdown",
   "metadata": {},
   "source": [
    "## Feature importance\n"
   ]
  },
  {
   "cell_type": "code",
   "execution_count": 72,
   "metadata": {},
   "outputs": [
    {
     "data": {
      "text/plain": [
       "array([0.93873543, 0.00185988, 0.00731034, 0.00478461, 0.00223443,\n",
       "       0.0021533 , 0.00214281, 0.00321241, 0.00229144, 0.00209551,\n",
       "       0.00322345, 0.00196014, 0.00138399, 0.00263572, 0.00224626,\n",
       "       0.00176189, 0.00234914, 0.00211757, 0.00187498, 0.00214127,\n",
       "       0.01019709, 0.00128832])"
      ]
     },
     "execution_count": 72,
     "metadata": {},
     "output_type": "execute_result"
    }
   ],
   "source": [
    "rf.feature_importances_"
   ]
  },
  {
   "cell_type": "code",
   "execution_count": 73,
   "metadata": {},
   "outputs": [],
   "source": [
    "fi_df = pd.DataFrame(\n",
    "    data={'Feature': X_train.columns, 'Feature importance': rf.feature_importances_}, \n",
    "    columns = ['Feature', 'Feature importance']\n",
    ")"
   ]
  },
  {
   "cell_type": "code",
   "execution_count": 82,
   "metadata": {},
   "outputs": [],
   "source": [
    "fi_df.sort_values('Feature importance', inplace=True, ascending=False)"
   ]
  },
  {
   "cell_type": "code",
   "execution_count": 83,
   "metadata": {},
   "outputs": [
    {
     "data": {
      "image/png": "[encoded data removed]",
      "text/plain": [
       "<Figure size 432x288 with 1 Axes>"
      ]
     },
     "metadata": {},
     "output_type": "display_data"
    }
   ],
   "source": [
    "sns.barplot(data=fi_df, x='Feature importance', y='Feature')\n",
    "plt.xscale('log')"
   ]
  },
  {
   "cell_type": "markdown",
   "metadata": {},
   "source": [
    "There some other really cool ways of interpreting a random forest. For more information check out this notebook: https://github.com/fastai/fastai/blob/master/courses/ml1/lesson2-rf_interpretation.ipynb"
   ]
  },
  {
   "cell_type": "markdown",
   "metadata": {},
   "source": [
    "## Your turn\n",
    "\n",
    "Again, here are some challenges for all of you that are bored ;)\n",
    "\n",
    "1. The different stations have very different characteristics. Try building a model (e.g. linear regression) for each station individually. See if you can improve the validation and test score.\n",
    "2. Try adding some time information as a feature. Does this improve the forecast?\n",
    "3. Try to get as good a score as possible. Be creative and use Google!"
   ]
  },
  {
   "cell_type": "markdown",
   "metadata": {},
   "source": [
    "### Build a LR model for each station individually"
   ]
  },
  {
   "cell_type": "code",
   "execution_count": 169,
   "metadata": {},
   "outputs": [],
   "source": [
    "split_date = '2015-01-01'"
   ]
  },
  {
   "cell_type": "code",
   "execution_count": 178,
   "metadata": {},
   "outputs": [],
   "source": [
    "stations_train = df_train.station[df_train.time < split_date]\n",
    "stations_valid = df_train.station[df_train.time >= split_date]\n",
    "stations_test = df_test.station"
   ]
  },
  {
   "cell_type": "code",
   "execution_count": 171,
   "metadata": {},
   "outputs": [
    {
     "name": "stdout",
     "output_type": "stream",
     "text": [
      "CPU times: user 40.9 s, sys: 644 ms, total: 41.6 s\n",
      "Wall time: 4.17 s\n"
     ]
    }
   ],
   "source": [
    "%%time\n",
    "models = {}\n",
    "for s in stations_train.unique():\n",
    "    m = LinearRegression()\n",
    "    m.fit(X_train[stations_train == s], y_train[stations_train == s])\n",
    "    models[s] = m"
   ]
  },
  {
   "cell_type": "code",
   "execution_count": 172,
   "metadata": {},
   "outputs": [],
   "source": [
    "preds = np.zeros(len(y_valid))\n",
    "for s in stations_valid.unique():\n",
    "    s_idxs = stations_valid == s\n",
    "    if s in stations_train.unique():\n",
    "        preds[s_idxs] = models[s].predict(X_valid[s_idxs])\n",
    "    else:\n",
    "        preds[s_idxs] = lr.predict(X_valid[s_idxs])"
   ]
  },
  {
   "cell_type": "code",
   "execution_count": 173,
   "metadata": {},
   "outputs": [
    {
     "data": {
      "text/plain": [
       "2.4853897742399758"
      ]
     },
     "execution_count": 173,
     "metadata": {},
     "output_type": "execute_result"
    }
   ],
   "source": [
    "mse(preds, y_valid)"
   ]
  },
  {
   "cell_type": "code",
   "execution_count": 176,
   "metadata": {},
   "outputs": [
    {
     "data": {
      "text/plain": [
       "(182218, (182218, 22))"
      ]
     },
     "execution_count": 176,
     "metadata": {},
     "output_type": "execute_result"
    }
   ],
   "source": [
    "len(X_test), X_test.shape"
   ]
  },
  {
   "cell_type": "code",
   "execution_count": 179,
   "metadata": {},
   "outputs": [],
   "source": [
    "test_preds = np.zeros(len(X_test))\n",
    "for s in stations_test.unique():\n",
    "    s_idxs = stations_test == s\n",
    "    if s in stations_train.unique():\n",
    "        test_preds[s_idxs] = models[s].predict(X_test[s_idxs])\n",
    "    else:\n",
    "        test_preds[s_idxs] = lr.predict(X_test[s_idxs])"
   ]
  },
  {
   "cell_type": "code",
   "execution_count": 180,
   "metadata": {},
   "outputs": [
    {
     "data": {
      "text/html": [
       "<div>\n",
       "<style scoped>\n",
       "    .dataframe tbody tr th:only-of-type {\n",
       "        vertical-align: middle;\n",
       "    }\n",
       "\n",
       "    .dataframe tbody tr th {\n",
       "        vertical-align: top;\n",
       "    }\n",
       "\n",
       "    .dataframe thead th {\n",
       "        text-align: right;\n",
       "    }\n",
       "</style>\n",
       "<table border=\"1\" class=\"dataframe\">\n",
       "  <thead>\n",
       "    <tr style=\"text-align: right;\">\n",
       "      <th></th>\n",
       "      <th>Id</th>\n",
       "      <th>Expected</th>\n",
       "    </tr>\n",
       "  </thead>\n",
       "  <tbody>\n",
       "    <tr>\n",
       "      <th>0</th>\n",
       "      <td>0</td>\n",
       "      <td>3.681001</td>\n",
       "    </tr>\n",
       "    <tr>\n",
       "      <th>1</th>\n",
       "      <td>1</td>\n",
       "      <td>1.831077</td>\n",
       "    </tr>\n",
       "    <tr>\n",
       "      <th>2</th>\n",
       "      <td>2</td>\n",
       "      <td>1.240477</td>\n",
       "    </tr>\n",
       "    <tr>\n",
       "      <th>3</th>\n",
       "      <td>3</td>\n",
       "      <td>3.521409</td>\n",
       "    </tr>\n",
       "    <tr>\n",
       "      <th>4</th>\n",
       "      <td>4</td>\n",
       "      <td>2.341089</td>\n",
       "    </tr>\n",
       "  </tbody>\n",
       "</table>\n",
       "</div>"
      ],
      "text/plain": [
       "   Id  Expected\n",
       "0   0  3.681001\n",
       "1   1  1.831077\n",
       "2   2  1.240477\n",
       "3   3  3.521409\n",
       "4   4  2.341089"
      ]
     },
     "execution_count": 180,
     "metadata": {},
     "output_type": "execute_result"
    }
   ],
   "source": [
    "# Submit to Kaggle\n",
    "df_sub = create_sub(test_preds, 'lr_local.csv'); df_sub.head()"
   ]
  },
  {
   "cell_type": "code",
   "execution_count": 192,
   "metadata": {},
   "outputs": [
    {
     "data": {
      "text/plain": [
       "array([    3,    44,    71,    73,    78,    91,   102,   131,   142,\n",
       "         150,   151,   154,   164,   167,   183,   191,   198,   217,\n",
       "         222,   232,   257,   259,   282,   294,   298,   303,   314,\n",
       "         320,   326,   330,   342,   348,   368,   377,   390,   399,\n",
       "         400,   403,   410,   420,   427,   430,   433,   445,   450,\n",
       "         460,   535,   555,   591,   596,   603,   617,   656,   662,\n",
       "         691,   701,   704,   722,   755,   757,   766,   817,   840,\n",
       "         853,   856,   863,   867,   880,   891,   896,   917,   953,\n",
       "         954,   963,   979,   983,   991,  1001,  1048,  1050,  1051,\n",
       "        1052,  1072,  1078,  1103,  1107,  1161,  1197,  1200,  1207,\n",
       "        1214,  1224,  1228,  1255,  1262,  1266,  1270,  1279,  1297,\n",
       "        1300,  1303,  1327,  1332,  1341,  1346,  1357,  1358,  1411,\n",
       "        1420,  1424,  1443,  1451,  1468,  1473,  1504,  1526,  1544,\n",
       "        1550,  1580,  1584,  1587,  1590,  1602,  1605,  1612,  1639,\n",
       "        1645,  1666,  1684,  1691,  1694,  1721,  1735,  1736,  1757,\n",
       "        1759,  1766,  1803,  1832,  1863,  1869,  1957,  1964,  1975,\n",
       "        1981,  2014,  2023,  2039,  2044,  2074,  2080,  2110,  2115,\n",
       "        2167,  2171,  2174,  2201,  2211,  2252,  2261,  2290,  2303,\n",
       "        2306,  2315,  2319,  2323,  2362,  2385,  2429,  2437,  2444,\n",
       "        2480,  2483,  2486,  2494,  2497,  2532,  2542,  2559,  2564,\n",
       "        2575,  2578,  2597,  2600,  2601,  2618,  2627,  2629,  2638,\n",
       "        2641,  2667,  2680,  2700,  2704,  2708,  2712,  2750,  2773,\n",
       "        2794,  2796,  2812,  2814,  2829,  2856,  2907,  2925,  2928,\n",
       "        2932,  2947,  2951,  2953,  2961,  2968,  2985,  3015,  3023,\n",
       "        3028,  3031,  3032,  3034,  3042,  3044,  3083,  3086,  3093,\n",
       "        3098,  3126,  3137,  3155,  3158,  3164,  3166,  3167,  3196,\n",
       "        3204,  3226,  3231,  3234,  3244,  3257,  3268,  3271,  3278,\n",
       "        3284,  3287,  3289,  3307,  3319,  3340,  3348,  3362,  3366,\n",
       "        3376,  3379,  3402,  3426,  3442,  3484,  3485,  3490,  3509,\n",
       "        3513,  3527,  3540,  3545,  3552,  3571,  3591,  3612,  3621,\n",
       "        3623,  3631,  3639,  3660,  3667,  3668,  3679,  3730,  3734,\n",
       "        3739,  3761,  3791,  3811,  3821,  3836,  3857,  3875,  3897,\n",
       "        3904,  3925,  3927,  3939,  3946,  3975,  3987,  4024,  4032,\n",
       "        4036,  4039,  4063,  4094,  4104,  4127,  4160,  4169,  4175,\n",
       "        4177,  4189,  4261,  4271,  4275,  4287,  4300,  4301,  4323,\n",
       "        4336,  4349,  4354,  4371,  4377,  4393,  4411,  4445,  4464,\n",
       "        4466,  4480,  4485,  4501,  4508,  4548,  4559,  4560,  4592,\n",
       "        4605,  4625,  4642,  4651,  4692,  4703,  4704,  4706,  4745,\n",
       "        4763,  4841,  4857,  4878,  4887,  4896,  4911,  4926,  4928,\n",
       "        4931,  4978,  4997,  5009,  5014,  5017,  5029,  5046,  5064,\n",
       "        5097,  5099,  5100,  5109,  5111,  5133,  5142,  5146,  5149,\n",
       "        5155,  5158,  5229,  5275,  5279,  5280,  5300,  5335,  5347,\n",
       "        5349,  5371,  5397,  5404,  5424,  5426,  5433,  5440,  5467,\n",
       "        5480,  5490,  5516,  5538,  5541,  5546,  5562,  5629,  5640,\n",
       "        5643,  5664,  5676,  5692,  5705,  5715,  5717,  5731,  5745,\n",
       "        5750,  5779,  5792,  5797,  5800,  5822,  5825,  5839,  5856,\n",
       "        5871,  5906,  5930,  5941,  6093,  6105,  6109,  6129,  6157,\n",
       "        6158,  6159,  6163,  6170,  6182,  6186,  6197,  6199,  6217,\n",
       "        6258,  6259,  6260,  6262,  6263,  6264,  6265,  6266,  6272,\n",
       "        6273,  6275,  6305,  6310,  6312,  6314,  6336,  6337,  6344,\n",
       "        6346,  6347,  7075,  7099,  7105,  7106,  7187,  7298,  7319,\n",
       "        7321,  7329,  7330,  7331,  7341,  7343,  7350,  7351,  7364,\n",
       "        7367,  7368,  7369,  7370,  7373,  7374,  7389,  7393,  7394,\n",
       "        7395,  7396,  7403,  7412,  7419,  7420,  7424,  7427,  7428,\n",
       "        7431,  7432, 13670, 13674, 13675, 13696, 13700, 13710, 13711,\n",
       "       13713, 13776, 13777,   769,   850,  2886,  3603,  4174,  4280,\n",
       "        1339,  2905,  4154,  7410, 15000,  2485,   161,  4709,   125,\n",
       "        1503,  3147, 15207,  2410,  3254, 15444])"
      ]
     },
     "execution_count": 192,
     "metadata": {},
     "output_type": "execute_result"
    }
   ],
   "source": [
    "stations_train.unique()"
   ]
  },
  {
   "cell_type": "code",
   "execution_count": 191,
   "metadata": {},
   "outputs": [
    {
     "data": {
      "text/plain": [
       "0            44\n",
       "1            71\n",
       "2            73\n",
       "3            78\n",
       "4            91\n",
       "5           102\n",
       "6           125\n",
       "7           131\n",
       "8           142\n",
       "9           150\n",
       "10          151\n",
       "11          154\n",
       "12          161\n",
       "13          164\n",
       "14          167\n",
       "15          183\n",
       "16          191\n",
       "17          198\n",
       "18          217\n",
       "19          222\n",
       "20          232\n",
       "21          257\n",
       "22          259\n",
       "23          282\n",
       "24          294\n",
       "25          298\n",
       "26          303\n",
       "27          314\n",
       "28          320\n",
       "29          330\n",
       "          ...  \n",
       "182188     7373\n",
       "182189     7374\n",
       "182190     7389\n",
       "182191     7393\n",
       "182192     7394\n",
       "182193     7395\n",
       "182194     7396\n",
       "182195     7403\n",
       "182196     7410\n",
       "182197     7412\n",
       "182198     7419\n",
       "182199     7420\n",
       "182200     7424\n",
       "182201     7427\n",
       "182202     7428\n",
       "182203     7431\n",
       "182204     7432\n",
       "182205    13670\n",
       "182206    13674\n",
       "182207    13675\n",
       "182208    13696\n",
       "182209    13700\n",
       "182210    13710\n",
       "182211    13711\n",
       "182212    13713\n",
       "182213    13777\n",
       "182214    15000\n",
       "182215    15207\n",
       "182216    15444\n",
       "182217    15555\n",
       "Name: station, Length: 182218, dtype: int64"
      ]
     },
     "execution_count": 191,
     "metadata": {},
     "output_type": "execute_result"
    }
   ],
   "source": [
    "stations_test"
   ]
  },
  {
   "cell_type": "code",
   "execution_count": 190,
   "metadata": {},
   "outputs": [
    {
     "data": {
      "text/plain": [
       "0         3.681001e+00\n",
       "1         1.831077e+00\n",
       "2         1.240477e+00\n",
       "3         3.521409e+00\n",
       "4         2.341089e+00\n",
       "5         6.505240e+00\n",
       "6         2.837891e+00\n",
       "7         3.310848e+00\n",
       "8         2.905298e+00\n",
       "9         2.865319e+00\n",
       "10        2.205980e+00\n",
       "11        2.814209e+00\n",
       "12        2.481154e+00\n",
       "13        1.906980e-01\n",
       "14        5.632324e-01\n",
       "15       -3.134872e+09\n",
       "16        2.451583e+00\n",
       "17        2.879304e+00\n",
       "18        3.960621e+00\n",
       "19        2.474303e+00\n",
       "20        3.074297e+00\n",
       "21        3.600873e+00\n",
       "22        3.863048e+00\n",
       "23        3.159507e+00\n",
       "24        4.462692e+00\n",
       "25        8.775873e-01\n",
       "26        2.341722e+00\n",
       "27        7.897204e-01\n",
       "28        2.877225e+00\n",
       "29        2.700570e+00\n",
       "              ...     \n",
       "182188    4.202196e+00\n",
       "182189   -8.804534e-01\n",
       "182190   -1.069839e+00\n",
       "182191   -2.314072e+00\n",
       "182192   -3.900060e+00\n",
       "182193   -4.519597e+00\n",
       "182194   -2.626953e+00\n",
       "182195   -5.896702e+00\n",
       "182196   -3.148272e+00\n",
       "182197   -5.182364e+00\n",
       "182198   -1.335039e+00\n",
       "182199   -2.220777e+00\n",
       "182200   -6.683863e+00\n",
       "182201    1.970018e+00\n",
       "182202   -5.939803e+00\n",
       "182203   -5.494890e+00\n",
       "182204   -2.374622e+00\n",
       "182205   -2.378745e-01\n",
       "182206   -2.805763e+00\n",
       "182207   -1.289025e+00\n",
       "182208   -1.706040e+00\n",
       "182209    1.065728e-02\n",
       "182210   -2.493701e+00\n",
       "182211   -1.536601e+00\n",
       "182212   -3.350196e+00\n",
       "182213   -1.111774e+00\n",
       "182214   -4.882812e-03\n",
       "182215   -2.828419e+00\n",
       "182216   -3.837891e+00\n",
       "182217   -5.459751e+00\n",
       "Name: Expected, Length: 182218, dtype: float64"
      ]
     },
     "execution_count": 190,
     "metadata": {},
     "output_type": "execute_result"
    }
   ],
   "source": [
    "df_sub.Expected"
   ]
  },
  {
   "cell_type": "code",
   "execution_count": 186,
   "metadata": {},
   "outputs": [
    {
     "data": {
      "text/plain": [
       "1.0"
      ]
     },
     "execution_count": 186,
     "metadata": {},
     "output_type": "execute_result"
    }
   ],
   "source": [
    "(df_sub.Expected < 50).mean()"
   ]
  },
  {
   "cell_type": "markdown",
   "metadata": {},
   "source": [
    "### Add month as information"
   ]
  },
  {
   "cell_type": "code",
   "execution_count": 142,
   "metadata": {},
   "outputs": [],
   "source": [
    "month = pd.DatetimeIndex(df_train['time']).month"
   ]
  },
  {
   "cell_type": "code",
   "execution_count": 143,
   "metadata": {},
   "outputs": [],
   "source": [
    "X_train_month = X_train.copy()\n",
    "X_valid_month = X_valid.copy()"
   ]
  },
  {
   "cell_type": "code",
   "execution_count": 144,
   "metadata": {},
   "outputs": [],
   "source": [
    "X_train_month['month'] = month[df_train.time < split_date]\n",
    "X_valid_month['month'] = month[df_train.time >= split_date]"
   ]
  },
  {
   "cell_type": "code",
   "execution_count": 145,
   "metadata": {},
   "outputs": [],
   "source": [
    "rf = RandomForestRegressor(n_estimators=40, n_jobs=-1, min_samples_leaf=10)"
   ]
  },
  {
   "cell_type": "code",
   "execution_count": 146,
   "metadata": {},
   "outputs": [
    {
     "name": "stdout",
     "output_type": "stream",
     "text": [
      "CPU times: user 21min 17s, sys: 504 ms, total: 21min 18s\n",
      "Wall time: 1min 9s\n"
     ]
    },
    {
     "data": {
      "text/plain": [
       "RandomForestRegressor(bootstrap=True, criterion='mse', max_depth=None,\n",
       "           max_features='auto', max_leaf_nodes=None,\n",
       "           min_impurity_decrease=0.0, min_impurity_split=None,\n",
       "           min_samples_leaf=10, min_samples_split=2,\n",
       "           min_weight_fraction_leaf=0.0, n_estimators=40, n_jobs=-1,\n",
       "           oob_score=False, random_state=None, verbose=0, warm_start=False)"
      ]
     },
     "execution_count": 146,
     "metadata": {},
     "output_type": "execute_result"
    }
   ],
   "source": [
    "%time rf.fit(X_train_month, y_train)"
   ]
  },
  {
   "cell_type": "code",
   "execution_count": 147,
   "metadata": {},
   "outputs": [
    {
     "name": "stdout",
     "output_type": "stream",
     "text": [
      "Train R2 =  0.97601687453504 , Valid R2 =  0.9242793509228924 , Valid MSE =  3.021173986772311\n"
     ]
    }
   ],
   "source": [
    "print_scores(rf, X_train_month, X_valid_month)"
   ]
  },
  {
   "cell_type": "code",
   "execution_count": 149,
   "metadata": {},
   "outputs": [
    {
     "data": {
      "image/png": "[encoded data removed]",
      "text/plain": [
       "<Figure size 432x288 with 1 Axes>"
      ]
     },
     "metadata": {},
     "output_type": "display_data"
    }
   ],
   "source": [
    "fi_df = pd.DataFrame(\n",
    "    data={'Feature': X_train_month.columns, 'Feature importance': rf.feature_importances_}, \n",
    "    columns = ['Feature', 'Feature importance']\n",
    ")\n",
    "fi_df.sort_values('Feature importance', inplace=True, ascending=False)\n",
    "sns.barplot(data=fi_df, x='Feature importance', y='Feature')\n",
    "plt.xscale('log')"
   ]
  },
  {
   "cell_type": "code",
   "execution_count": null,
   "metadata": {},
   "outputs": [],
   "source": []
  }
 ],
 "metadata": {
  "kernelspec": {
   "display_name": "Python 3",
   "language": "python",
   "name": "python3"
  },
  "language_info": {
   "codemirror_mode": {
    "name": "ipython",
    "version": 3
   },
   "file_extension": ".py",
   "mimetype": "text/x-python",
   "name": "python",
   "nbconvert_exporter": "python",
   "pygments_lexer": "ipython3",
   "version": "3.6.5"
  },
  "toc": {
   "base_numbering": 1,
   "nav_menu": {},
   "number_sections": true,
   "sideBar": false,
   "skip_h1_title": true,
   "title_cell": "Table of Contents",
   "title_sidebar": "Contents",
   "toc_cell": false,
   "toc_position": {},
   "toc_section_display": true,
   "toc_window_display": false
  }
 },
 "nbformat": 4,
 "nbformat_minor": 2
}
