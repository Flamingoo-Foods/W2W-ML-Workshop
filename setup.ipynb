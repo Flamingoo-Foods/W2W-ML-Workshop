{
 "cells": [
  {
   "cell_type": "markdown",
   "metadata": {},
   "source": [
    "# Setup notebook\n",
    "\n",
    "This notebook is to check whether all the packages for the ML tutorials are installed.\n",
    "\n",
    "I recommend using [Anaconda](https://www.anaconda.com/download/) to install the required Python packages.\n",
    "\n",
    "For the tutorial we need Python 3.6 and the following packages.\n",
    "\n",
    "Click on the cells below and type `shift` + `Enter`.\n",
    "\n",
    "Should the following message appear: \n",
    "\n",
    "```\n",
    "ModuleNotFoundError: No module named 'keras'\n",
    "```\n",
    "\n",
    "simply type in your command line: \n",
    "\n",
    "```\n",
    "conda install keras\n",
    "```"
   ]
  },
  {
   "cell_type": "code",
   "execution_count": 1,
   "metadata": {},
   "outputs": [],
   "source": [
    "# Make sure we are using Python 3\n",
    "import sys\n",
    "if sys.version_info[0] < 3:\n",
    "    raise Exception(\"Must be using Python 3\")"
   ]
  },
  {
   "cell_type": "code",
   "execution_count": 6,
   "metadata": {},
   "outputs": [],
   "source": [
    "# Check if all packages are installed\n",
    "%matplotlib inline\n",
    "import numpy\n",
    "import matplotlib\n",
    "import keras\n",
    "import IPython\n",
    "import sklearn\n",
    "import pandas\n",
    "import seaborn"
   ]
  },
  {
   "cell_type": "markdown",
   "metadata": {},
   "source": [
    "Install the Kaggle API which we will use to download the datasets. For more info: https://github.com/Kaggle/kaggle-api"
   ]
  },
  {
   "cell_type": "code",
   "execution_count": 5,
   "metadata": {
    "scrolled": true
   },
   "outputs": [
    {
     "name": "stdout",
     "output_type": "stream",
     "text": [
      "Requirement already satisfied: kaggle in /home/martin/.conda/envs/lmu/lib/python3.6/site-packages (1.4.7.1)\n",
      "Requirement already satisfied: requests in /home/martin/.conda/envs/lmu/lib/python3.6/site-packages (from kaggle) (2.19.1)\n",
      "Requirement already satisfied: certifi in /home/martin/.conda/envs/lmu/lib/python3.6/site-packages (from kaggle) (2018.8.24)\n",
      "Requirement already satisfied: tqdm in /home/martin/.conda/envs/lmu/lib/python3.6/site-packages (from kaggle) (4.26.0)\n",
      "Requirement already satisfied: urllib3<1.23.0,>=1.15 in /home/martin/.conda/envs/lmu/lib/python3.6/site-packages (from kaggle) (1.22)\n",
      "Requirement already satisfied: python-dateutil in /home/martin/.conda/envs/lmu/lib/python3.6/site-packages (from kaggle) (2.7.3)\n",
      "Requirement already satisfied: six>=1.10 in /home/martin/.conda/envs/lmu/lib/python3.6/site-packages (from kaggle) (1.11.0)\n",
      "Requirement already satisfied: python-slugify in /home/martin/.conda/envs/lmu/lib/python3.6/site-packages (from kaggle) (1.2.6)\n",
      "Requirement already satisfied: idna<2.8,>=2.5 in /home/martin/.conda/envs/lmu/lib/python3.6/site-packages (from requests->kaggle) (2.7)\n",
      "Requirement already satisfied: chardet<3.1.0,>=3.0.2 in /home/martin/.conda/envs/lmu/lib/python3.6/site-packages (from requests->kaggle) (3.0.4)\n",
      "Requirement already satisfied: Unidecode>=0.04.16 in /home/martin/.conda/envs/lmu/lib/python3.6/site-packages (from python-slugify->kaggle) (1.0.22)\n",
      "\u001b[31mtwisted 18.7.0 requires PyHamcrest>=1.9.0, which is not installed.\u001b[0m\n",
      "\u001b[31mmkl-random 1.0.1 requires cython, which is not installed.\u001b[0m\n",
      "\u001b[31mmkl-fft 1.0.4 requires cython, which is not installed.\u001b[0m\n",
      "\u001b[31mtensorflow 1.10.0 has requirement numpy<=1.14.5,>=1.13.3, but you'll have numpy 1.15.1 which is incompatible.\u001b[0m\n",
      "\u001b[31mtensorflow 1.10.0 has requirement setuptools<=39.1.0, but you'll have setuptools 40.2.0 which is incompatible.\u001b[0m\n",
      "\u001b[33mYou are using pip version 10.0.1, however version 18.0 is available.\n",
      "You should consider upgrading via the 'pip install --upgrade pip' command.\u001b[0m\n"
     ]
    }
   ],
   "source": [
    "!pip install kaggle"
   ]
  },
  {
   "cell_type": "markdown",
   "metadata": {},
   "source": [
    "You will need to sign up at Kaggle to participate in the competition. Then set up your Kaggle configuration file.\n",
    "\n",
    "1. Go to the Account tab of your user profile and create a new API token. Save it as `~/.kaggle/kaggle.json` (Check documentation for Windows instructions, etc.)\n",
    "2. `chmod 600 ~/.kaggle/kaggle.json`\n",
    "3. Go to the competition site https://www.kaggle.com/c/postprocessing/rules and accept the rules.\n",
    "\n",
    "Now you should be able to download the files as follows:"
   ]
  },
  {
   "cell_type": "code",
   "execution_count": 4,
   "metadata": {},
   "outputs": [
    {
     "name": "stdout",
     "output_type": "stream",
     "text": [
      "404 - Not Found\r\n"
     ]
    }
   ],
   "source": [
    "!kaggle competitions download -c postprocessing"
   ]
  },
  {
   "cell_type": "code",
   "execution_count": 7,
   "metadata": {},
   "outputs": [
    {
     "name": "stdout",
     "output_type": "stream",
     "text": [
      "data\t\t\t  nb3_keras-nn.ipynb\t    prep-data.ipynb\r\n",
      "demo.ipynb\t\t  pp-intro.ipynb\t    setup.ipynb\r\n",
      "images\t\t\t  pp_sample_submission.csv  Untitled.ipynb\r\n",
      "nb1_jupyter-pandas.ipynb  pp_test.csv\r\n",
      "nb2_sklearn-lr-rf.ipynb   pp_train.csv\r\n"
     ]
    }
   ],
   "source": [
    "!ls"
   ]
  },
  {
   "cell_type": "markdown",
   "metadata": {},
   "source": [
    "# TODO: CONVOLUTION IF WE USE THEM"
   ]
  },
  {
   "cell_type": "code",
   "execution_count": null,
   "metadata": {},
   "outputs": [],
   "source": []
  }
 ],
 "metadata": {
  "kernelspec": {
   "display_name": "Python 3",
   "language": "python",
   "name": "python3"
  },
  "language_info": {
   "codemirror_mode": {
    "name": "ipython",
    "version": 3
   },
   "file_extension": ".py",
   "mimetype": "text/x-python",
   "name": "python",
   "nbconvert_exporter": "python",
   "pygments_lexer": "ipython3",
   "version": "3.6.5"
  },
  "toc": {
   "base_numbering": 1,
   "nav_menu": {},
   "number_sections": true,
   "sideBar": false,
   "skip_h1_title": true,
   "title_cell": "Table of Contents",
   "title_sidebar": "Contents",
   "toc_cell": false,
   "toc_position": {},
   "toc_section_display": true,
   "toc_window_display": false
  }
 },
 "nbformat": 4,
 "nbformat_minor": 2
}
