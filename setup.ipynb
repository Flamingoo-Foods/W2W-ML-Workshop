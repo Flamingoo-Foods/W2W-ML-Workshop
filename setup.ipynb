{
 "cells": [
  {
   "cell_type": "markdown",
   "metadata": {},
   "source": [
    "# Setup notebook\n",
    "\n",
    "**Important: Please make sure that you can execute this notebook without error BEFORE the workshop!**\n",
    "\n",
    "This notebook is to check whether all the packages for the ML tutorials are installed and to download all the required datasets.\n",
    "\n",
    "To install Anaconda, please follow the instructions in the Email.\n",
    "\n",
    "To use this notebook, click on a cell and press the play button above or click `shift` + `Enter`.\n",
    "\n",
    "Should the following message appear: \n",
    "\n",
    "```\n",
    "ModuleNotFoundError: No module named 'keras'\n",
    "```\n",
    "\n",
    "simply type in your command line: \n",
    "\n",
    "```\n",
    "conda install keras\n",
    "```"
   ]
  },
  {
   "cell_type": "code",
   "execution_count": 9,
   "metadata": {},
   "outputs": [],
   "source": [
    "# Make sure we are using Python 3\n",
    "import sys\n",
    "assert sys.version_info[0] == 3, \"Must be using Python 3\""
   ]
  },
  {
   "cell_type": "code",
   "execution_count": 2,
   "metadata": {},
   "outputs": [
    {
     "name": "stderr",
     "output_type": "stream",
     "text": [
      "Using TensorFlow backend.\n",
      "/home/s/S.Rasp/miniconda3/lib/python3.6/importlib/_bootstrap.py:219: RuntimeWarning: compiletime version 3.5 of module 'tensorflow.python.framework.fast_tensor_util' does not match runtime version 3.6\n",
      "  return f(*args, **kwds)\n"
     ]
    }
   ],
   "source": [
    "# Check if all packages are installed\n",
    "%matplotlib inline\n",
    "import os\n",
    "import numpy\n",
    "import matplotlib\n",
    "import keras\n",
    "import IPython\n",
    "import sklearn\n",
    "import pandas\n",
    "import seaborn"
   ]
  },
  {
   "cell_type": "code",
   "execution_count": 10,
   "metadata": {},
   "outputs": [],
   "source": [
    "# Make sure we are using the right Keras backend.\n",
    "assert keras.backend.backend() == 'tensorflow', 'Keras backend should be Tensorflow.'"
   ]
  },
  {
   "cell_type": "code",
   "execution_count": 11,
   "metadata": {},
   "outputs": [
    {
     "data": {
      "text/plain": [
       "<function pandas.core.series.Series.isna(self)>"
      ]
     },
     "execution_count": 11,
     "metadata": {},
     "output_type": "execute_result"
    }
   ],
   "source": [
    "# Check weather correct Pandas version is installed.\n",
    "pandas.Series.isna"
   ]
  },
  {
   "cell_type": "markdown",
   "metadata": {},
   "source": [
    "Install the Kaggle API which we will use to download the datasets. For more info: https://github.com/Kaggle/kaggle-api"
   ]
  },
  {
   "cell_type": "code",
   "execution_count": 3,
   "metadata": {},
   "outputs": [
    {
     "name": "stdout",
     "output_type": "stream",
     "text": [
      "Collecting kaggle\n",
      "\u001b[?25l  Downloading https://files.pythonhosted.org/packages/ee/38/2ff56ee0fc735a33e1db17fdd5b71d9f3fee858f7c19d1e670d2e59d904c/kaggle-1.4.6.tar.gz (48kB)\n",
      "\u001b[K    100% |████████████████████████████████| 51kB 2.4MB/s ta 0:00:01\n",
      "\u001b[?25hRequirement already satisfied: urllib3<1.23.0,>=1.15 in /home/s/S.Rasp/miniconda3/lib/python3.6/site-packages (from kaggle) (1.22)\n",
      "Requirement already satisfied: six>=1.10 in /home/s/S.Rasp/miniconda3/lib/python3.6/site-packages (from kaggle) (1.11.0)\n",
      "Requirement already satisfied: certifi in /home/s/S.Rasp/miniconda3/lib/python3.6/site-packages (from kaggle) (2018.4.16)\n",
      "Requirement already satisfied: python-dateutil in /home/s/S.Rasp/miniconda3/lib/python3.6/site-packages (from kaggle) (2.7.3)\n",
      "Requirement already satisfied: requests in /home/s/S.Rasp/miniconda3/lib/python3.6/site-packages (from kaggle) (2.18.4)\n",
      "Requirement already satisfied: tqdm in /home/s/S.Rasp/miniconda3/lib/python3.6/site-packages (from kaggle) (4.23.4)\n",
      "Requirement already satisfied: chardet<3.1.0,>=3.0.2 in /home/s/S.Rasp/miniconda3/lib/python3.6/site-packages (from requests->kaggle) (3.0.4)\n",
      "Requirement already satisfied: idna<2.7,>=2.5 in /home/s/S.Rasp/miniconda3/lib/python3.6/site-packages (from requests->kaggle) (2.6)\n",
      "Building wheels for collected packages: kaggle\n",
      "  Running setup.py bdist_wheel for kaggle ... \u001b[?25ldone\n",
      "\u001b[?25h  Stored in directory: /home/s/S.Rasp/.cache/pip/wheels/56/65/d9/88f616157b8a1848ce77c35a398b09d0566ba1fd9cc34eaa03\n",
      "Successfully built kaggle\n",
      "\u001b[31mtensorflow 1.4.1 requires enum34>=1.1.6, which is not installed.\u001b[0m\n",
      "\u001b[31mtensorflow 1.4.1 has requirement tensorflow-tensorboard<0.5.0,>=0.4.0rc1, but you'll have tensorflow-tensorboard 1.5.1 which is incompatible.\u001b[0m\n",
      "Installing collected packages: kaggle\n",
      "Successfully installed kaggle-1.4.6\n",
      "\u001b[33mYou are using pip version 10.0.1, however version 18.0 is available.\n",
      "You should consider upgrading via the 'pip install --upgrade pip' command.\u001b[0m\n"
     ]
    }
   ],
   "source": [
    "!pip install kaggle"
   ]
  },
  {
   "cell_type": "markdown",
   "metadata": {},
   "source": [
    "## Set up Kaggle\n",
    "\n",
    "For this workshop we will use Kaggle to participate in a competition. This is also where the data is stored. Please follow these instructions:\n",
    "\n",
    "\n",
    "1. Go to https://www.kaggle.com and create an account.\n",
    "1. Go to the Account tab (https://www.kaggle.com/username/account) of your user profile and create a new API token. Save it as `~/.kaggle/kaggle.json`. You probably have to create the `~/.kaggle/` directory first.  (for Windows: Save as `C:\\Users\\<Windows-username>\\.kaggle\\kaggle.json`. Use the git or Anaconda bash and create the `~/.kaggle/` directory using `mkdir`)\n",
    "1. `chmod 600 ~/.kaggle/kaggle.json` (Not necessary on Windows)\n",
    "1. Go to https://www.kaggle.com/t/458a6b390b7a4644a2be722cb5cf4991 (this competition is invite-only; this is the invite link) and accept the rules. Then click the join competition button.\n",
    "\n",
    "Now you should be able to download the files as follows:"
   ]
  },
  {
   "cell_type": "code",
   "execution_count": 15,
   "metadata": {},
   "outputs": [],
   "source": [
    "os.makedirs('./dataset1', exist_ok=True)"
   ]
  },
  {
   "cell_type": "code",
   "execution_count": 16,
   "metadata": {},
   "outputs": [
    {
     "data": {
      "text/plain": [
       "['.ipynb_checkpoints', '.gitignore', 'setup.ipynb', 'data', 'dataset1', '.git']"
      ]
     },
     "execution_count": 16,
     "metadata": {},
     "output_type": "execute_result"
    }
   ],
   "source": [
    "os.listdir()"
   ]
  },
  {
   "cell_type": "code",
   "execution_count": 17,
   "metadata": {},
   "outputs": [
    {
     "name": "stdout",
     "output_type": "stream",
     "text": [
      "Warning: Looks like you're using an outdated API Version, please consider updating (server 1.4.7.1 / client 1.4.6)\n",
      "Downloading pp_sample_submission.csv to dataset1\n",
      "100%|██████████████████████████████████████| 4.46M/4.46M [00:00<00:00, 42.0MB/s]\n",
      "\n",
      "Downloading pp_test.csv to dataset1\n",
      " 83%|███████████████████████████████▎      | 34.0M/41.2M [00:00<00:00, 60.6MB/s]\n",
      "100%|██████████████████████████████████████| 41.2M/41.2M [00:01<00:00, 41.2MB/s]\n",
      "Downloading pp_train.csv to dataset1\n",
      " 98%|███████████████████████████████████████▎| 222M/226M [00:03<00:00, 78.9MB/s]\n",
      "100%|████████████████████████████████████████| 226M/226M [00:06<00:00, 36.8MB/s]\n"
     ]
    }
   ],
   "source": [
    "!kaggle competitions download -c postprocessing -p dataset1"
   ]
  },
  {
   "cell_type": "markdown",
   "metadata": {
    "collapsed": true
   },
   "source": [
    "## The End\n",
    "\n",
    "You are ready to go for the workshop."
   ]
  },
  {
   "cell_type": "code",
   "execution_count": null,
   "metadata": {},
   "outputs": [],
   "source": []
  }
 ],
 "metadata": {
  "kernelspec": {
   "display_name": "Python 3",
   "language": "python",
   "name": "python3"
  },
  "language_info": {
   "codemirror_mode": {
    "name": "ipython",
    "version": 3
   },
   "file_extension": ".py",
   "mimetype": "text/x-python",
   "name": "python",
   "nbconvert_exporter": "python",
   "pygments_lexer": "ipython3",
   "version": "3.6.5"
  },
  "toc": {
   "base_numbering": 1,
   "nav_menu": {},
   "number_sections": true,
   "sideBar": false,
   "skip_h1_title": true,
   "title_cell": "Table of Contents",
   "title_sidebar": "Contents",
   "toc_cell": false,
   "toc_position": {},
   "toc_section_display": true,
   "toc_window_display": false
  }
 },
 "nbformat": 4,
 "nbformat_minor": 2
}
