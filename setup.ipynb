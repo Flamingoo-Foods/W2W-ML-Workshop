{
 "cells": [
  {
   "cell_type": "markdown",
   "metadata": {},
   "source": [
    "# Setup notebook\n",
    "\n",
    "**Important: Please make sure that you can execute this notebook without error BEFORE the workshop!**\n",
    "\n",
    "This notebook is to check whether all the packages for the ML tutorials are installed and to download all the required datasets.\n",
    "\n",
    "To install Anaconda, please follow the instructions in the Email.\n",
    "\n",
    "To use this notebook, click on a cell and press the play button above or click `shift` + `Enter`.\n",
    "\n",
    "Should the following message appear: \n",
    "\n",
    "```\n",
    "ModuleNotFoundError: No module named 'keras'\n",
    "```\n",
    "\n",
    "simply type in your command line: \n",
    "\n",
    "```\n",
    "conda install keras\n",
    "```"
   ]
  },
  {
   "cell_type": "code",
   "execution_count": 10,
   "metadata": {},
   "outputs": [],
   "source": [
    "# Make sure we are using Python 3\n",
    "import sys\n",
    "assert sys.version_info[0] == 3, \"Must be using Python 3\""
   ]
  },
  {
   "cell_type": "code",
   "execution_count": 11,
   "metadata": {},
   "outputs": [],
   "source": [
    "# Check if all packages are installed\n",
    "%matplotlib inline\n",
    "import os\n",
    "import numpy\n",
    "import matplotlib\n",
    "import keras\n",
    "import IPython\n",
    "import sklearn\n",
    "import pandas\n",
    "import seaborn"
   ]
  },
  {
   "cell_type": "code",
   "execution_count": 12,
   "metadata": {},
   "outputs": [],
   "source": [
    "# Make sure we are using the right Keras backend.\n",
    "assert keras.backend.backend() == 'tensorflow', 'Keras backend should be Tensorflow.'"
   ]
  },
  {
   "cell_type": "code",
   "execution_count": 13,
   "metadata": {},
   "outputs": [
    {
     "data": {
      "text/plain": [
       "<function pandas.core.series.Series.isna(self)>"
      ]
     },
     "execution_count": 13,
     "metadata": {},
     "output_type": "execute_result"
    }
   ],
   "source": [
    "# Check weather correct Pandas version is installed.\n",
    "pandas.Series.isna"
   ]
  },
  {
   "cell_type": "markdown",
   "metadata": {},
   "source": [
    "Install the Kaggle API which we will use to download the datasets. For more info: https://github.com/Kaggle/kaggle-api"
   ]
  },
  {
   "cell_type": "code",
   "execution_count": 14,
   "metadata": {},
   "outputs": [
    {
     "name": "stdout",
     "output_type": "stream",
     "text": [
      "Requirement already satisfied: kaggle in /home/andreas/bin/anaconda3/lib/python3.6/site-packages (1.4.7.1)\n",
      "Requirement already satisfied: requests in /home/andreas/bin/anaconda3/lib/python3.6/site-packages (from kaggle) (2.18.4)\n",
      "Requirement already satisfied: tqdm in /home/andreas/bin/anaconda3/lib/python3.6/site-packages (from kaggle) (4.26.0)\n",
      "Requirement already satisfied: six>=1.10 in /home/andreas/bin/anaconda3/lib/python3.6/site-packages (from kaggle) (1.11.0)\n",
      "Requirement already satisfied: python-slugify in /home/andreas/bin/anaconda3/lib/python3.6/site-packages (from kaggle) (1.2.6)\n",
      "Requirement already satisfied: python-dateutil in /home/andreas/bin/anaconda3/lib/python3.6/site-packages (from kaggle) (2.7.3)\n",
      "Requirement already satisfied: certifi in /home/andreas/bin/anaconda3/lib/python3.6/site-packages (from kaggle) (2018.4.16)\n",
      "Requirement already satisfied: urllib3<1.23.0,>=1.15 in /home/andreas/bin/anaconda3/lib/python3.6/site-packages (from kaggle) (1.22)\n",
      "Requirement already satisfied: chardet<3.1.0,>=3.0.2 in /home/andreas/bin/anaconda3/lib/python3.6/site-packages (from requests->kaggle) (3.0.4)\n",
      "Requirement already satisfied: idna<2.7,>=2.5 in /home/andreas/bin/anaconda3/lib/python3.6/site-packages (from requests->kaggle) (2.6)\n",
      "Requirement already satisfied: Unidecode>=0.04.16 in /home/andreas/bin/anaconda3/lib/python3.6/site-packages (from python-slugify->kaggle) (1.0.22)\n",
      "\u001b[33mYou are using pip version 10.0.1, however version 18.0 is available.\n",
      "You should consider upgrading via the 'pip install --upgrade pip' command.\u001b[0m\n"
     ]
    }
   ],
   "source": [
    "!pip install kaggle"
   ]
  },
  {
   "cell_type": "markdown",
   "metadata": {},
   "source": [
    "## Set up Kaggle\n",
    "\n",
    "For this workshop we will use Kaggle to participate in a competition. This is also where the data is stored. Please follow these instructions:\n",
    "\n",
    "\n",
    "1. Go to https://www.kaggle.com and create an account.\n",
    "1. Go to the Account tab (https://www.kaggle.com/username/account) of your user profile and create a new API token. Save it as `~/.kaggle/kaggle.json`. You probably have to create the `~/.kaggle/` directory first.  (for Windows: Save as `C:\\Users\\<Windows-username>\\.kaggle\\kaggle.json`. Use the git or Anaconda bash and create the `~/.kaggle/` directory using `mkdir`)\n",
    "1. `chmod 600 ~/.kaggle/kaggle.json` (Not necessary on Windows)\n",
    "1. Go to https://www.kaggle.com/t/458a6b390b7a4644a2be722cb5cf4991 (this competition is invite-only; this is the invite link) and accept the rules. Then click the join competition button.\n",
    "\n",
    "Now you should be able to download the files as follows:"
   ]
  },
  {
   "cell_type": "code",
   "execution_count": 15,
   "metadata": {},
   "outputs": [],
   "source": [
    "os.makedirs('./dataset1', exist_ok=True)"
   ]
  },
  {
   "cell_type": "code",
   "execution_count": 16,
   "metadata": {},
   "outputs": [
    {
     "data": {
      "text/plain": [
       "['nb2_sklearn-lr-rf.ipynb',\n",
       " 'nb3_keras-nn.ipynb',\n",
       " 'LICENSE',\n",
       " '.git',\n",
       " 'nb4_prep-windfarm.ipynb',\n",
       " 'nb1_jupyter-pandas.ipynb',\n",
       " 'README.md',\n",
       " 'nb6-MNIST-CNN.ipynb',\n",
       " 'setup.ipynb',\n",
       " '.ipynb_checkpoints',\n",
       " 'nb5_ml-windfarm.ipynb',\n",
       " 'dataset1',\n",
       " '.gitignore']"
      ]
     },
     "execution_count": 16,
     "metadata": {},
     "output_type": "execute_result"
    }
   ],
   "source": [
    "os.listdir()"
   ]
  },
  {
   "cell_type": "code",
   "execution_count": 17,
   "metadata": {},
   "outputs": [
    {
     "name": "stdout",
     "output_type": "stream",
     "text": [
      "pp_sample_submission.csv.zip: Skipping, found more recently modified local copy (use --force to force download)\n",
      "pp_test.csv.zip: Skipping, found more recently modified local copy (use --force to force download)\n",
      "pp_train.csv.zip: Skipping, found more recently modified local copy (use --force to force download)\n"
     ]
    }
   ],
   "source": [
    "!kaggle competitions download -c postprocessing -p dataset1"
   ]
  },
  {
   "cell_type": "markdown",
   "metadata": {
    "collapsed": true
   },
   "source": [
    "## The End\n",
    "\n",
    "You are ready to go for the workshop."
   ]
  },
  {
   "cell_type": "code",
   "execution_count": null,
   "metadata": {},
   "outputs": [],
   "source": []
  }
 ],
 "metadata": {
  "kernelspec": {
   "display_name": "Python 3",
   "language": "python",
   "name": "python3"
  },
  "language_info": {
   "codemirror_mode": {
    "name": "ipython",
    "version": 3
   },
   "file_extension": ".py",
   "mimetype": "text/x-python",
   "name": "python",
   "nbconvert_exporter": "python",
   "pygments_lexer": "ipython3",
   "version": "3.6.5"
  },
  "toc": {
   "nav_menu": {},
   "number_sections": true,
   "sideBar": false,
   "skip_h1_title": true,
   "title_cell": "Table of Contents",
   "title_sidebar": "Contents",
   "toc_cell": false,
   "toc_position": {},
   "toc_section_display": true,
   "toc_window_display": false
  }
 },
 "nbformat": 4,
 "nbformat_minor": 2
}
