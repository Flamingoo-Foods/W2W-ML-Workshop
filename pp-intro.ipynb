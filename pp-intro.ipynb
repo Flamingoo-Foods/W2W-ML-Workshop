{
 "cells": [
  {
   "cell_type": "markdown",
   "metadata": {},
   "source": [
    "- Less training data (1 year)\n",
    "- Why is RF with stations so bad?\n",
    "- Why is NN worse than LR?"
   ]
  },
  {
   "cell_type": "code",
   "execution_count": 1,
   "metadata": {},
   "outputs": [],
   "source": [
    "%matplotlib inline\n",
    "import numpy as np\n",
    "import matplotlib.pyplot as plt\n",
    "import sklearn as skl\n",
    "from sklearn.preprocessing import StandardScaler\n",
    "from sklearn.model_selection import train_test_split\n",
    "from sklearn.linear_model import LinearRegression\n",
    "import pandas as pd\n",
    "import seaborn as sns\n",
    "from pathlib import Path"
   ]
  },
  {
   "cell_type": "code",
   "execution_count": 2,
   "metadata": {},
   "outputs": [],
   "source": [
    "PATH = Path('/local/S.Rasp/ML-Workshop-Data')"
   ]
  },
  {
   "cell_type": "markdown",
   "metadata": {},
   "source": [
    "## Check out the data"
   ]
  },
  {
   "cell_type": "code",
   "execution_count": 3,
   "metadata": {},
   "outputs": [
    {
     "name": "stdout",
     "output_type": "stream",
     "text": [
      "CPU times: user 4.26 s, sys: 384 ms, total: 4.65 s\n",
      "Wall time: 4.21 s\n"
     ]
    }
   ],
   "source": [
    "%time df_train = pd.read_csv(PATH / 'pp_train.csv', index_col=0)"
   ]
  },
  {
   "cell_type": "code",
   "execution_count": 4,
   "metadata": {},
   "outputs": [],
   "source": [
    "df_test = pd.read_csv(PATH / 'pp_test.csv', index_col=0)"
   ]
  },
  {
   "cell_type": "code",
   "execution_count": 5,
   "metadata": {},
   "outputs": [
    {
     "data": {
      "text/html": [
       "<div>\n",
       "<style scoped>\n",
       "    .dataframe tbody tr th:only-of-type {\n",
       "        vertical-align: middle;\n",
       "    }\n",
       "\n",
       "    .dataframe tbody tr th {\n",
       "        vertical-align: top;\n",
       "    }\n",
       "\n",
       "    .dataframe thead th {\n",
       "        text-align: right;\n",
       "    }\n",
       "</style>\n",
       "<table border=\"1\" class=\"dataframe\">\n",
       "  <thead>\n",
       "    <tr style=\"text-align: right;\">\n",
       "      <th></th>\n",
       "      <th>t2m_obs</th>\n",
       "      <th>time</th>\n",
       "      <th>station</th>\n",
       "      <th>t2m_fc_mean</th>\n",
       "      <th>orog</th>\n",
       "      <th>station_alt</th>\n",
       "      <th>station_lat</th>\n",
       "      <th>station_lon</th>\n",
       "      <th>u_pl500_fc_mean</th>\n",
       "      <th>v_pl500_fc_mean</th>\n",
       "      <th>...</th>\n",
       "      <th>sp_fc_mean</th>\n",
       "      <th>tcc_fc_mean</th>\n",
       "      <th>sshf_fc_mean</th>\n",
       "      <th>slhf_fc_mean</th>\n",
       "      <th>u10_fc_mean</th>\n",
       "      <th>v10_fc_mean</th>\n",
       "      <th>ssr_fc_mean</th>\n",
       "      <th>str_fc_mean</th>\n",
       "      <th>d2m_fc_mean</th>\n",
       "      <th>sm_fc_mean</th>\n",
       "    </tr>\n",
       "  </thead>\n",
       "  <tbody>\n",
       "    <tr>\n",
       "      <th>0</th>\n",
       "      <td>1.2</td>\n",
       "      <td>2011-01-01</td>\n",
       "      <td>3</td>\n",
       "      <td>-0.022290</td>\n",
       "      <td>107.439460</td>\n",
       "      <td>202.0</td>\n",
       "      <td>50.7827</td>\n",
       "      <td>6.0941</td>\n",
       "      <td>4.760467</td>\n",
       "      <td>-4.907918</td>\n",
       "      <td>...</td>\n",
       "      <td>101379.51</td>\n",
       "      <td>98.056010</td>\n",
       "      <td>634981.400</td>\n",
       "      <td>39645.008</td>\n",
       "      <td>2.208909</td>\n",
       "      <td>0.755302</td>\n",
       "      <td>2433034.8</td>\n",
       "      <td>-3513225.0</td>\n",
       "      <td>273.57892</td>\n",
       "      <td>374.63348</td>\n",
       "    </tr>\n",
       "    <tr>\n",
       "      <th>1</th>\n",
       "      <td>1.6</td>\n",
       "      <td>2011-01-01</td>\n",
       "      <td>44</td>\n",
       "      <td>2.086415</td>\n",
       "      <td>19.397774</td>\n",
       "      <td>44.0</td>\n",
       "      <td>52.9335</td>\n",
       "      <td>8.2370</td>\n",
       "      <td>14.442179</td>\n",
       "      <td>-10.303844</td>\n",
       "      <td>...</td>\n",
       "      <td>101709.04</td>\n",
       "      <td>98.741800</td>\n",
       "      <td>1592483.900</td>\n",
       "      <td>370638.600</td>\n",
       "      <td>6.223993</td>\n",
       "      <td>0.800821</td>\n",
       "      <td>2427059.2</td>\n",
       "      <td>-1702554.9</td>\n",
       "      <td>275.06873</td>\n",
       "      <td>388.60350</td>\n",
       "    </tr>\n",
       "    <tr>\n",
       "      <th>2</th>\n",
       "      <td>-6.3</td>\n",
       "      <td>2011-01-01</td>\n",
       "      <td>71</td>\n",
       "      <td>-6.609096</td>\n",
       "      <td>604.885000</td>\n",
       "      <td>759.0</td>\n",
       "      <td>48.2156</td>\n",
       "      <td>8.9784</td>\n",
       "      <td>0.254339</td>\n",
       "      <td>-6.281372</td>\n",
       "      <td>...</td>\n",
       "      <td>94432.85</td>\n",
       "      <td>91.602340</td>\n",
       "      <td>-1416809.800</td>\n",
       "      <td>-239365.980</td>\n",
       "      <td>-0.394419</td>\n",
       "      <td>-0.950840</td>\n",
       "      <td>4320586.0</td>\n",
       "      <td>-4435227.5</td>\n",
       "      <td>265.47473</td>\n",
       "      <td>437.02300</td>\n",
       "    </tr>\n",
       "    <tr>\n",
       "      <th>3</th>\n",
       "      <td>-3.0</td>\n",
       "      <td>2011-01-01</td>\n",
       "      <td>73</td>\n",
       "      <td>-5.071753</td>\n",
       "      <td>461.441800</td>\n",
       "      <td>340.0</td>\n",
       "      <td>48.6159</td>\n",
       "      <td>13.0506</td>\n",
       "      <td>2.489346</td>\n",
       "      <td>-10.044441</td>\n",
       "      <td>...</td>\n",
       "      <td>97368.55</td>\n",
       "      <td>91.139370</td>\n",
       "      <td>48696.496</td>\n",
       "      <td>-570603.400</td>\n",
       "      <td>1.923471</td>\n",
       "      <td>0.336067</td>\n",
       "      <td>5658946.5</td>\n",
       "      <td>-6691302.0</td>\n",
       "      <td>267.49640</td>\n",
       "      <td>366.52255</td>\n",
       "    </tr>\n",
       "    <tr>\n",
       "      <th>4</th>\n",
       "      <td>0.5</td>\n",
       "      <td>2011-01-01</td>\n",
       "      <td>78</td>\n",
       "      <td>1.743580</td>\n",
       "      <td>47.632523</td>\n",
       "      <td>65.0</td>\n",
       "      <td>52.4853</td>\n",
       "      <td>7.9126</td>\n",
       "      <td>11.600490</td>\n",
       "      <td>-9.078665</td>\n",
       "      <td>...</td>\n",
       "      <td>101419.82</td>\n",
       "      <td>99.178986</td>\n",
       "      <td>1435826.900</td>\n",
       "      <td>616228.750</td>\n",
       "      <td>4.472726</td>\n",
       "      <td>0.673820</td>\n",
       "      <td>2416039.5</td>\n",
       "      <td>-1872194.9</td>\n",
       "      <td>274.56433</td>\n",
       "      <td>263.73572</td>\n",
       "    </tr>\n",
       "  </tbody>\n",
       "</table>\n",
       "<p>5 rows × 25 columns</p>\n",
       "</div>"
      ],
      "text/plain": [
       "   t2m_obs        time  station  t2m_fc_mean        orog  station_alt  \\\n",
       "0      1.2  2011-01-01        3    -0.022290  107.439460        202.0   \n",
       "1      1.6  2011-01-01       44     2.086415   19.397774         44.0   \n",
       "2     -6.3  2011-01-01       71    -6.609096  604.885000        759.0   \n",
       "3     -3.0  2011-01-01       73    -5.071753  461.441800        340.0   \n",
       "4      0.5  2011-01-01       78     1.743580   47.632523         65.0   \n",
       "\n",
       "   station_lat  station_lon  u_pl500_fc_mean  v_pl500_fc_mean     ...      \\\n",
       "0      50.7827       6.0941         4.760467        -4.907918     ...       \n",
       "1      52.9335       8.2370        14.442179       -10.303844     ...       \n",
       "2      48.2156       8.9784         0.254339        -6.281372     ...       \n",
       "3      48.6159      13.0506         2.489346       -10.044441     ...       \n",
       "4      52.4853       7.9126        11.600490        -9.078665     ...       \n",
       "\n",
       "   sp_fc_mean  tcc_fc_mean  sshf_fc_mean  slhf_fc_mean  u10_fc_mean  \\\n",
       "0   101379.51    98.056010    634981.400     39645.008     2.208909   \n",
       "1   101709.04    98.741800   1592483.900    370638.600     6.223993   \n",
       "2    94432.85    91.602340  -1416809.800   -239365.980    -0.394419   \n",
       "3    97368.55    91.139370     48696.496   -570603.400     1.923471   \n",
       "4   101419.82    99.178986   1435826.900    616228.750     4.472726   \n",
       "\n",
       "   v10_fc_mean  ssr_fc_mean  str_fc_mean  d2m_fc_mean  sm_fc_mean  \n",
       "0     0.755302    2433034.8   -3513225.0    273.57892   374.63348  \n",
       "1     0.800821    2427059.2   -1702554.9    275.06873   388.60350  \n",
       "2    -0.950840    4320586.0   -4435227.5    265.47473   437.02300  \n",
       "3     0.336067    5658946.5   -6691302.0    267.49640   366.52255  \n",
       "4     0.673820    2416039.5   -1872194.9    274.56433   263.73572  \n",
       "\n",
       "[5 rows x 25 columns]"
      ]
     },
     "execution_count": 5,
     "metadata": {},
     "output_type": "execute_result"
    }
   ],
   "source": [
    "df_train.head()"
   ]
  },
  {
   "cell_type": "code",
   "execution_count": 163,
   "metadata": {},
   "outputs": [
    {
     "data": {
      "text/html": [
       "<div>\n",
       "<style scoped>\n",
       "    .dataframe tbody tr th:only-of-type {\n",
       "        vertical-align: middle;\n",
       "    }\n",
       "\n",
       "    .dataframe tbody tr th {\n",
       "        vertical-align: top;\n",
       "    }\n",
       "\n",
       "    .dataframe thead th {\n",
       "        text-align: right;\n",
       "    }\n",
       "</style>\n",
       "<table border=\"1\" class=\"dataframe\">\n",
       "  <thead>\n",
       "    <tr style=\"text-align: right;\">\n",
       "      <th></th>\n",
       "      <th>t2m_obs</th>\n",
       "      <th>time</th>\n",
       "      <th>station</th>\n",
       "      <th>t2m_fc_mean</th>\n",
       "      <th>orog</th>\n",
       "      <th>station_alt</th>\n",
       "      <th>station_lat</th>\n",
       "      <th>station_lon</th>\n",
       "      <th>u_pl500_fc_mean</th>\n",
       "      <th>v_pl500_fc_mean</th>\n",
       "      <th>...</th>\n",
       "      <th>sp_fc_mean</th>\n",
       "      <th>tcc_fc_mean</th>\n",
       "      <th>sshf_fc_mean</th>\n",
       "      <th>slhf_fc_mean</th>\n",
       "      <th>u10_fc_mean</th>\n",
       "      <th>v10_fc_mean</th>\n",
       "      <th>ssr_fc_mean</th>\n",
       "      <th>str_fc_mean</th>\n",
       "      <th>d2m_fc_mean</th>\n",
       "      <th>sm_fc_mean</th>\n",
       "    </tr>\n",
       "  </thead>\n",
       "  <tbody>\n",
       "    <tr>\n",
       "      <th>980554</th>\n",
       "      <td>3.0</td>\n",
       "      <td>2015-12-31</td>\n",
       "      <td>13713</td>\n",
       "      <td>1.842429</td>\n",
       "      <td>257.02356</td>\n",
       "      <td>380.0</td>\n",
       "      <td>51.0899</td>\n",
       "      <td>7.6290</td>\n",
       "      <td>8.021941</td>\n",
       "      <td>9.215481</td>\n",
       "      <td>...</td>\n",
       "      <td>98368.79</td>\n",
       "      <td>97.528730</td>\n",
       "      <td>3240795.200</td>\n",
       "      <td>-1365392.40</td>\n",
       "      <td>-3.575616</td>\n",
       "      <td>5.123034</td>\n",
       "      <td>5258117.5</td>\n",
       "      <td>-9587814.0</td>\n",
       "      <td>272.61206</td>\n",
       "      <td>377.49332</td>\n",
       "    </tr>\n",
       "    <tr>\n",
       "      <th>980556</th>\n",
       "      <td>1.1</td>\n",
       "      <td>2015-12-31</td>\n",
       "      <td>13777</td>\n",
       "      <td>0.349665</td>\n",
       "      <td>175.75687</td>\n",
       "      <td>110.0</td>\n",
       "      <td>52.2467</td>\n",
       "      <td>10.9592</td>\n",
       "      <td>4.605148</td>\n",
       "      <td>7.224523</td>\n",
       "      <td>...</td>\n",
       "      <td>100065.46</td>\n",
       "      <td>33.931360</td>\n",
       "      <td>461620.000</td>\n",
       "      <td>-937924.75</td>\n",
       "      <td>-2.375989</td>\n",
       "      <td>3.232810</td>\n",
       "      <td>3969810.2</td>\n",
       "      <td>-8044923.5</td>\n",
       "      <td>268.09543</td>\n",
       "      <td>360.12930</td>\n",
       "    </tr>\n",
       "    <tr>\n",
       "      <th>980558</th>\n",
       "      <td>7.5</td>\n",
       "      <td>2015-12-31</td>\n",
       "      <td>15000</td>\n",
       "      <td>5.528891</td>\n",
       "      <td>107.43946</td>\n",
       "      <td>231.0</td>\n",
       "      <td>50.7983</td>\n",
       "      <td>6.0244</td>\n",
       "      <td>11.228638</td>\n",
       "      <td>15.585323</td>\n",
       "      <td>...</td>\n",
       "      <td>100676.50</td>\n",
       "      <td>99.580050</td>\n",
       "      <td>5782064.500</td>\n",
       "      <td>-1611508.80</td>\n",
       "      <td>-0.390423</td>\n",
       "      <td>4.154122</td>\n",
       "      <td>5497532.0</td>\n",
       "      <td>-11673069.0</td>\n",
       "      <td>275.51572</td>\n",
       "      <td>369.66882</td>\n",
       "    </tr>\n",
       "    <tr>\n",
       "      <th>980559</th>\n",
       "      <td>0.4</td>\n",
       "      <td>2015-12-31</td>\n",
       "      <td>15207</td>\n",
       "      <td>0.615183</td>\n",
       "      <td>279.01727</td>\n",
       "      <td>317.0</td>\n",
       "      <td>51.2835</td>\n",
       "      <td>9.3590</td>\n",
       "      <td>5.748416</td>\n",
       "      <td>6.160424</td>\n",
       "      <td>...</td>\n",
       "      <td>98979.74</td>\n",
       "      <td>75.234440</td>\n",
       "      <td>3009928.200</td>\n",
       "      <td>-887333.80</td>\n",
       "      <td>-1.401080</td>\n",
       "      <td>4.235398</td>\n",
       "      <td>5381488.5</td>\n",
       "      <td>-11127237.0</td>\n",
       "      <td>269.41890</td>\n",
       "      <td>374.02716</td>\n",
       "    </tr>\n",
       "    <tr>\n",
       "      <th>980560</th>\n",
       "      <td>-0.4</td>\n",
       "      <td>2015-12-31</td>\n",
       "      <td>15444</td>\n",
       "      <td>-2.074630</td>\n",
       "      <td>532.69617</td>\n",
       "      <td>593.0</td>\n",
       "      <td>48.4418</td>\n",
       "      <td>9.9216</td>\n",
       "      <td>4.586841</td>\n",
       "      <td>1.927479</td>\n",
       "      <td>...</td>\n",
       "      <td>95462.08</td>\n",
       "      <td>79.705086</td>\n",
       "      <td>27329.305</td>\n",
       "      <td>-473234.53</td>\n",
       "      <td>-1.286085</td>\n",
       "      <td>0.675678</td>\n",
       "      <td>7741430.0</td>\n",
       "      <td>-9189286.0</td>\n",
       "      <td>270.56137</td>\n",
       "      <td>360.25525</td>\n",
       "    </tr>\n",
       "  </tbody>\n",
       "</table>\n",
       "<p>5 rows × 25 columns</p>\n",
       "</div>"
      ],
      "text/plain": [
       "        t2m_obs        time  station  t2m_fc_mean       orog  station_alt  \\\n",
       "980554      3.0  2015-12-31    13713     1.842429  257.02356        380.0   \n",
       "980556      1.1  2015-12-31    13777     0.349665  175.75687        110.0   \n",
       "980558      7.5  2015-12-31    15000     5.528891  107.43946        231.0   \n",
       "980559      0.4  2015-12-31    15207     0.615183  279.01727        317.0   \n",
       "980560     -0.4  2015-12-31    15444    -2.074630  532.69617        593.0   \n",
       "\n",
       "        station_lat  station_lon  u_pl500_fc_mean  v_pl500_fc_mean  \\\n",
       "980554      51.0899       7.6290         8.021941         9.215481   \n",
       "980556      52.2467      10.9592         4.605148         7.224523   \n",
       "980558      50.7983       6.0244        11.228638        15.585323   \n",
       "980559      51.2835       9.3590         5.748416         6.160424   \n",
       "980560      48.4418       9.9216         4.586841         1.927479   \n",
       "\n",
       "           ...      sp_fc_mean  tcc_fc_mean  sshf_fc_mean  slhf_fc_mean  \\\n",
       "980554     ...        98368.79    97.528730   3240795.200   -1365392.40   \n",
       "980556     ...       100065.46    33.931360    461620.000    -937924.75   \n",
       "980558     ...       100676.50    99.580050   5782064.500   -1611508.80   \n",
       "980559     ...        98979.74    75.234440   3009928.200    -887333.80   \n",
       "980560     ...        95462.08    79.705086     27329.305    -473234.53   \n",
       "\n",
       "        u10_fc_mean  v10_fc_mean  ssr_fc_mean  str_fc_mean  d2m_fc_mean  \\\n",
       "980554    -3.575616     5.123034    5258117.5   -9587814.0    272.61206   \n",
       "980556    -2.375989     3.232810    3969810.2   -8044923.5    268.09543   \n",
       "980558    -0.390423     4.154122    5497532.0  -11673069.0    275.51572   \n",
       "980559    -1.401080     4.235398    5381488.5  -11127237.0    269.41890   \n",
       "980560    -1.286085     0.675678    7741430.0   -9189286.0    270.56137   \n",
       "\n",
       "        sm_fc_mean  \n",
       "980554   377.49332  \n",
       "980556   360.12930  \n",
       "980558   369.66882  \n",
       "980559   374.02716  \n",
       "980560   360.25525  \n",
       "\n",
       "[5 rows x 25 columns]"
      ]
     },
     "execution_count": 163,
     "metadata": {},
     "output_type": "execute_result"
    }
   ],
   "source": [
    "df_train.tail()"
   ]
  },
  {
   "cell_type": "code",
   "execution_count": 6,
   "metadata": {},
   "outputs": [
    {
     "data": {
      "text/html": [
       "<div>\n",
       "<style scoped>\n",
       "    .dataframe tbody tr th:only-of-type {\n",
       "        vertical-align: middle;\n",
       "    }\n",
       "\n",
       "    .dataframe tbody tr th {\n",
       "        vertical-align: top;\n",
       "    }\n",
       "\n",
       "    .dataframe thead th {\n",
       "        text-align: right;\n",
       "    }\n",
       "</style>\n",
       "<table border=\"1\" class=\"dataframe\">\n",
       "  <thead>\n",
       "    <tr style=\"text-align: right;\">\n",
       "      <th></th>\n",
       "      <th>time</th>\n",
       "      <th>station</th>\n",
       "      <th>t2m_fc_mean</th>\n",
       "      <th>orog</th>\n",
       "      <th>station_alt</th>\n",
       "      <th>station_lat</th>\n",
       "      <th>station_lon</th>\n",
       "      <th>u_pl500_fc_mean</th>\n",
       "      <th>v_pl500_fc_mean</th>\n",
       "      <th>gh_pl500_fc_mean</th>\n",
       "      <th>...</th>\n",
       "      <th>sp_fc_mean</th>\n",
       "      <th>tcc_fc_mean</th>\n",
       "      <th>sshf_fc_mean</th>\n",
       "      <th>slhf_fc_mean</th>\n",
       "      <th>u10_fc_mean</th>\n",
       "      <th>v10_fc_mean</th>\n",
       "      <th>ssr_fc_mean</th>\n",
       "      <th>str_fc_mean</th>\n",
       "      <th>d2m_fc_mean</th>\n",
       "      <th>sm_fc_mean</th>\n",
       "    </tr>\n",
       "  </thead>\n",
       "  <tbody>\n",
       "    <tr>\n",
       "      <th>0</th>\n",
       "      <td>2016-01-01</td>\n",
       "      <td>44</td>\n",
       "      <td>4.001778</td>\n",
       "      <td>19.397774</td>\n",
       "      <td>44.0</td>\n",
       "      <td>52.9335</td>\n",
       "      <td>8.2370</td>\n",
       "      <td>10.133337</td>\n",
       "      <td>10.131109</td>\n",
       "      <td>5481.7905</td>\n",
       "      <td>...</td>\n",
       "      <td>101887.90</td>\n",
       "      <td>24.705662</td>\n",
       "      <td>5775243.0</td>\n",
       "      <td>-1288526.40</td>\n",
       "      <td>1.341565</td>\n",
       "      <td>3.249270</td>\n",
       "      <td>3298437.0</td>\n",
       "      <td>-10775857.0</td>\n",
       "      <td>275.95218</td>\n",
       "      <td>375.07983</td>\n",
       "    </tr>\n",
       "    <tr>\n",
       "      <th>1</th>\n",
       "      <td>2016-01-01</td>\n",
       "      <td>71</td>\n",
       "      <td>0.933522</td>\n",
       "      <td>604.885000</td>\n",
       "      <td>759.0</td>\n",
       "      <td>48.2156</td>\n",
       "      <td>8.9784</td>\n",
       "      <td>19.385162</td>\n",
       "      <td>2.524293</td>\n",
       "      <td>5588.5977</td>\n",
       "      <td>...</td>\n",
       "      <td>94560.06</td>\n",
       "      <td>78.469610</td>\n",
       "      <td>1349700.0</td>\n",
       "      <td>-227886.42</td>\n",
       "      <td>1.287638</td>\n",
       "      <td>0.519051</td>\n",
       "      <td>5560022.0</td>\n",
       "      <td>-6258117.0</td>\n",
       "      <td>273.41055</td>\n",
       "      <td>431.60340</td>\n",
       "    </tr>\n",
       "    <tr>\n",
       "      <th>2</th>\n",
       "      <td>2016-01-01</td>\n",
       "      <td>73</td>\n",
       "      <td>-0.188741</td>\n",
       "      <td>461.441800</td>\n",
       "      <td>340.0</td>\n",
       "      <td>48.6159</td>\n",
       "      <td>13.0506</td>\n",
       "      <td>9.542810</td>\n",
       "      <td>1.230813</td>\n",
       "      <td>5593.8506</td>\n",
       "      <td>...</td>\n",
       "      <td>97636.46</td>\n",
       "      <td>98.030160</td>\n",
       "      <td>2487178.5</td>\n",
       "      <td>-1343765.20</td>\n",
       "      <td>0.499829</td>\n",
       "      <td>0.657743</td>\n",
       "      <td>6949536.0</td>\n",
       "      <td>-9512730.0</td>\n",
       "      <td>271.99976</td>\n",
       "      <td>361.13397</td>\n",
       "    </tr>\n",
       "    <tr>\n",
       "      <th>3</th>\n",
       "      <td>2016-01-01</td>\n",
       "      <td>78</td>\n",
       "      <td>3.953006</td>\n",
       "      <td>47.632523</td>\n",
       "      <td>65.0</td>\n",
       "      <td>52.4853</td>\n",
       "      <td>7.9126</td>\n",
       "      <td>10.977405</td>\n",
       "      <td>9.408463</td>\n",
       "      <td>5488.8840</td>\n",
       "      <td>...</td>\n",
       "      <td>101561.08</td>\n",
       "      <td>20.500540</td>\n",
       "      <td>5856912.0</td>\n",
       "      <td>-1207934.40</td>\n",
       "      <td>1.439010</td>\n",
       "      <td>3.148981</td>\n",
       "      <td>3502853.8</td>\n",
       "      <td>-10732310.0</td>\n",
       "      <td>275.77515</td>\n",
       "      <td>245.30484</td>\n",
       "    </tr>\n",
       "    <tr>\n",
       "      <th>4</th>\n",
       "      <td>2016-01-01</td>\n",
       "      <td>91</td>\n",
       "      <td>1.293405</td>\n",
       "      <td>348.869900</td>\n",
       "      <td>300.0</td>\n",
       "      <td>50.7446</td>\n",
       "      <td>9.3450</td>\n",
       "      <td>14.657755</td>\n",
       "      <td>8.755051</td>\n",
       "      <td>5538.4110</td>\n",
       "      <td>...</td>\n",
       "      <td>97486.05</td>\n",
       "      <td>83.718890</td>\n",
       "      <td>1802866.2</td>\n",
       "      <td>-874888.00</td>\n",
       "      <td>0.996717</td>\n",
       "      <td>1.799243</td>\n",
       "      <td>2939294.0</td>\n",
       "      <td>-6318281.0</td>\n",
       "      <td>274.60370</td>\n",
       "      <td>378.45820</td>\n",
       "    </tr>\n",
       "  </tbody>\n",
       "</table>\n",
       "<p>5 rows × 24 columns</p>\n",
       "</div>"
      ],
      "text/plain": [
       "         time  station  t2m_fc_mean        orog  station_alt  station_lat  \\\n",
       "0  2016-01-01       44     4.001778   19.397774         44.0      52.9335   \n",
       "1  2016-01-01       71     0.933522  604.885000        759.0      48.2156   \n",
       "2  2016-01-01       73    -0.188741  461.441800        340.0      48.6159   \n",
       "3  2016-01-01       78     3.953006   47.632523         65.0      52.4853   \n",
       "4  2016-01-01       91     1.293405  348.869900        300.0      50.7446   \n",
       "\n",
       "   station_lon  u_pl500_fc_mean  v_pl500_fc_mean  gh_pl500_fc_mean  \\\n",
       "0       8.2370        10.133337        10.131109         5481.7905   \n",
       "1       8.9784        19.385162         2.524293         5588.5977   \n",
       "2      13.0506         9.542810         1.230813         5593.8506   \n",
       "3       7.9126        10.977405         9.408463         5488.8840   \n",
       "4       9.3450        14.657755         8.755051         5538.4110   \n",
       "\n",
       "      ...      sp_fc_mean  tcc_fc_mean  sshf_fc_mean  slhf_fc_mean  \\\n",
       "0     ...       101887.90    24.705662     5775243.0   -1288526.40   \n",
       "1     ...        94560.06    78.469610     1349700.0    -227886.42   \n",
       "2     ...        97636.46    98.030160     2487178.5   -1343765.20   \n",
       "3     ...       101561.08    20.500540     5856912.0   -1207934.40   \n",
       "4     ...        97486.05    83.718890     1802866.2    -874888.00   \n",
       "\n",
       "   u10_fc_mean  v10_fc_mean  ssr_fc_mean  str_fc_mean  d2m_fc_mean  sm_fc_mean  \n",
       "0     1.341565     3.249270    3298437.0  -10775857.0    275.95218   375.07983  \n",
       "1     1.287638     0.519051    5560022.0   -6258117.0    273.41055   431.60340  \n",
       "2     0.499829     0.657743    6949536.0   -9512730.0    271.99976   361.13397  \n",
       "3     1.439010     3.148981    3502853.8  -10732310.0    275.77515   245.30484  \n",
       "4     0.996717     1.799243    2939294.0   -6318281.0    274.60370   378.45820  \n",
       "\n",
       "[5 rows x 24 columns]"
      ]
     },
     "execution_count": 6,
     "metadata": {},
     "output_type": "execute_result"
    }
   ],
   "source": [
    "df_test.head()"
   ]
  },
  {
   "cell_type": "code",
   "execution_count": 7,
   "metadata": {},
   "outputs": [
    {
     "data": {
      "text/plain": [
       "t2m_obs             0.073126\n",
       "time                0.000000\n",
       "station             0.000000\n",
       "t2m_fc_mean         0.000000\n",
       "orog                0.000000\n",
       "station_alt         0.000000\n",
       "station_lat         0.000000\n",
       "station_lon         0.000000\n",
       "u_pl500_fc_mean     0.000000\n",
       "v_pl500_fc_mean     0.000000\n",
       "gh_pl500_fc_mean    0.000000\n",
       "u_pl850_fc_mean     0.000000\n",
       "v_pl850_fc_mean     0.000000\n",
       "q_pl850_fc_mean     0.000000\n",
       "cape_fc_mean        0.000000\n",
       "sp_fc_mean          0.000000\n",
       "tcc_fc_mean         0.000000\n",
       "sshf_fc_mean        0.000000\n",
       "slhf_fc_mean        0.000000\n",
       "u10_fc_mean         0.000000\n",
       "v10_fc_mean         0.000000\n",
       "ssr_fc_mean         0.000000\n",
       "str_fc_mean         0.000000\n",
       "d2m_fc_mean         0.000000\n",
       "sm_fc_mean          0.095825\n",
       "dtype: float64"
      ]
     },
     "execution_count": 7,
     "metadata": {},
     "output_type": "execute_result"
    }
   ],
   "source": [
    "df_train.apply(pd.Series.isna).mean()"
   ]
  },
  {
   "cell_type": "code",
   "execution_count": 8,
   "metadata": {},
   "outputs": [],
   "source": [
    "df_train.dropna(subset=['t2m_obs'], inplace=True)"
   ]
  },
  {
   "cell_type": "code",
   "execution_count": 9,
   "metadata": {},
   "outputs": [],
   "source": [
    "df_train['sm_fc_mean'].replace(np.nan, df_train.sm_fc_mean.mean(), inplace=True)"
   ]
  },
  {
   "cell_type": "code",
   "execution_count": 10,
   "metadata": {},
   "outputs": [],
   "source": [
    "df_test['sm_fc_mean'].replace(np.nan, df_train.sm_fc_mean.mean(), inplace=True)"
   ]
  },
  {
   "cell_type": "code",
   "execution_count": 11,
   "metadata": {},
   "outputs": [
    {
     "name": "stderr",
     "output_type": "stream",
     "text": [
      "/home/s/S.Rasp/miniconda3/lib/python3.6/site-packages/matplotlib/axes/_axes.py:6462: UserWarning: The 'normed' kwarg is deprecated, and has been replaced by the 'density' kwarg.\n",
      "  warnings.warn(\"The 'normed' kwarg is deprecated, and has been \"\n"
     ]
    },
    {
     "data": {
      "text/plain": [
       "<matplotlib.axes._subplots.AxesSubplot at 0x7fdaf9869e48>"
      ]
     },
     "execution_count": 11,
     "metadata": {},
     "output_type": "execute_result"
    },
    {
     "data": {
      "image/png": "[encoded data removed]",
      "text/plain": [
       "<Figure size 432x288 with 1 Axes>"
      ]
     },
     "metadata": {},
     "output_type": "display_data"
    }
   ],
   "source": [
    "sns.distplot(df_train['t2m_obs'], kde=False)"
   ]
  },
  {
   "cell_type": "markdown",
   "metadata": {},
   "source": [
    "## Split and Normalize the data"
   ]
  },
  {
   "cell_type": "code",
   "execution_count": 145,
   "metadata": {},
   "outputs": [],
   "source": [
    "def split_and_norm(df_train, drop_train=[], split_date='2015-01-01', do_norm=True):\n",
    "    X = df_train.drop(['t2m_obs', 'time'] + drop_train, 1)\n",
    "    y = df_train['t2m_obs']\n",
    "    \n",
    "    if do_norm:\n",
    "        for cat in X.columns:\n",
    "            if X[cat].dtype == 'float': \n",
    "                X[cat] = (X[cat] - X[cat].mean()) / X[cat].std()\n",
    "    \n",
    "    X_train = X[df_train.time <  split_date]\n",
    "    X_valid = X[df_train.time >= split_date]\n",
    "    y_train = y[df_train.time <  split_date]\n",
    "    y_valid = y[df_train.time >= split_date]\n",
    "    return X_train, y_train, X_valid, y_valid"
   ]
  },
  {
   "cell_type": "code",
   "execution_count": 150,
   "metadata": {},
   "outputs": [],
   "source": [
    "X_train, y_train, X_valid, y_valid = split_and_norm(\n",
    "    df_train, drop_train=['station'])"
   ]
  },
  {
   "cell_type": "code",
   "execution_count": 151,
   "metadata": {},
   "outputs": [
    {
     "data": {
      "text/plain": [
       "((728008, 22), (180849, 22))"
      ]
     },
     "execution_count": 151,
     "metadata": {},
     "output_type": "execute_result"
    }
   ],
   "source": [
    "X_train.shape, X_valid.shape"
   ]
  },
  {
   "cell_type": "markdown",
   "metadata": {},
   "source": [
    "## Linear regression"
   ]
  },
  {
   "cell_type": "code",
   "execution_count": 71,
   "metadata": {},
   "outputs": [],
   "source": [
    "def mse(y_true, y_pred): return ((y_true - y_pred)**2).mean()"
   ]
  },
  {
   "cell_type": "code",
   "execution_count": 72,
   "metadata": {},
   "outputs": [
    {
     "data": {
      "text/plain": [
       "4.135858792431942"
      ]
     },
     "execution_count": 72,
     "metadata": {},
     "output_type": "execute_result"
    }
   ],
   "source": [
    "mse(y_valid, df_train.t2m_fc_mean[df_train.time >= '2015-01-01'])"
   ]
  },
  {
   "cell_type": "code",
   "execution_count": 73,
   "metadata": {},
   "outputs": [],
   "source": [
    "lin_reg = LinearRegression()"
   ]
  },
  {
   "cell_type": "code",
   "execution_count": 74,
   "metadata": {},
   "outputs": [
    {
     "data": {
      "text/plain": [
       "LinearRegression(copy_X=True, fit_intercept=True, n_jobs=1, normalize=False)"
      ]
     },
     "execution_count": 74,
     "metadata": {},
     "output_type": "execute_result"
    }
   ],
   "source": [
    "lin_reg.fit(X_train, y_train)"
   ]
  },
  {
   "cell_type": "code",
   "execution_count": 75,
   "metadata": {},
   "outputs": [
    {
     "data": {
      "text/plain": [
       "0.9187372901848856"
      ]
     },
     "execution_count": 75,
     "metadata": {},
     "output_type": "execute_result"
    }
   ],
   "source": [
    "#R2\n",
    "lin_reg.score(X_valid, y_valid)"
   ]
  },
  {
   "cell_type": "code",
   "execution_count": 78,
   "metadata": {},
   "outputs": [],
   "source": [
    "def val_mse(m):\n",
    "    return mse(m.predict(X_valid), y_valid)"
   ]
  },
  {
   "cell_type": "code",
   "execution_count": 79,
   "metadata": {},
   "outputs": [
    {
     "data": {
      "text/plain": [
       "3.2422963614329743"
      ]
     },
     "execution_count": 79,
     "metadata": {},
     "output_type": "execute_result"
    }
   ],
   "source": [
    "val_mse(lin_reg)"
   ]
  },
  {
   "cell_type": "markdown",
   "metadata": {},
   "source": [
    "## Decision tree"
   ]
  },
  {
   "cell_type": "code",
   "execution_count": 52,
   "metadata": {},
   "outputs": [],
   "source": [
    "from sklearn.tree import DecisionTreeRegressor\n",
    "from sklearn.tree import export_graphviz\n",
    "from IPython.display import display\n",
    "import IPython, graphviz, re"
   ]
  },
  {
   "cell_type": "code",
   "execution_count": 53,
   "metadata": {},
   "outputs": [],
   "source": [
    "def draw_tree(t, df, size=10, ratio=0.6, precision=0):\n",
    "    \"\"\" Draws a representation of a random forest in IPython.\n",
    "    Parameters:\n",
    "    -----------\n",
    "    t: The tree you wish to draw\n",
    "    df: The data used to train the tree. This is used to get the names of the features.\n",
    "    \"\"\"\n",
    "    s=export_graphviz(t, out_file=None, feature_names=df.columns, filled=True,\n",
    "                      special_characters=True, rotate=True, precision=precision)\n",
    "    IPython.display.display(graphviz.Source(re.sub('Tree {',\n",
    "       f'Tree {{ size={size}; ratio={ratio}', s)))"
   ]
  },
  {
   "cell_type": "code",
   "execution_count": 66,
   "metadata": {},
   "outputs": [],
   "source": [
    "dec_tree = DecisionTreeRegressor(max_depth=3)"
   ]
  },
  {
   "cell_type": "code",
   "execution_count": 67,
   "metadata": {
    "scrolled": true
   },
   "outputs": [
    {
     "data": {
      "text/plain": [
       "DecisionTreeRegressor(criterion='mse', max_depth=3, max_features=None,\n",
       "           max_leaf_nodes=None, min_impurity_decrease=0.0,\n",
       "           min_impurity_split=None, min_samples_leaf=1,\n",
       "           min_samples_split=2, min_weight_fraction_leaf=0.0,\n",
       "           presort=False, random_state=None, splitter='best')"
      ]
     },
     "execution_count": 67,
     "metadata": {},
     "output_type": "execute_result"
    }
   ],
   "source": [
    "dec_tree.fit(X_train, y_train)"
   ]
  },
  {
   "cell_type": "code",
   "execution_count": 68,
   "metadata": {},
   "outputs": [
    {
     "data": {
      "image/svg+xml": [
       "<?xml version=\"1.0\" encoding=\"UTF-8\" standalone=\"no\"?>\n",
       "<!DOCTYPE svg PUBLIC \"-//W3C//DTD SVG 1.1//EN\"\n",
       " \"http://www.w3.org/Graphics/SVG/1.1/DTD/svg11.dtd\">\n",
       "<!-- Generated by graphviz version 2.38.0 (20140413.2041)\n",
       " -->\n",
       "<!-- Title: Tree Pages: 1 -->\n",
       "<svg width=\"720pt\" height=\"434pt\"\n",
       " viewBox=\"0.00 0.00 720.00 434.49\" xmlns=\"http://www.w3.org/2000/svg\" xmlns:xlink=\"http://www.w3.org/1999/xlink\">\n",
       "<g id=\"graph0\" class=\"graph\" transform=\"scale(0.778659 0.778659) rotate(0) translate(4 554)\">\n",
       "<title>Tree</title>\n",
       "<polygon fill=\"white\" stroke=\"none\" points=\"-4,4 -4,-554 920.667,-554 920.667,4 -4,4\"/>\n",
       "<!-- 0 -->\n",
       "<g id=\"node1\" class=\"node\"><title>0</title>\n",
       "<polygon fill=\"#e58139\" fill-opacity=\"0.588235\" stroke=\"black\" points=\"160.667,-308.5 32.6667,-308.5 32.6667,-240.5 160.667,-240.5 160.667,-308.5\"/>\n",
       "<text text-anchor=\"start\" x=\"40.6667\" y=\"-293.3\" font-family=\"Times,serif\" font-size=\"14.00\">t2m_fc_mean ≤ &#45;0.0</text>\n",
       "<text text-anchor=\"start\" x=\"66.6667\" y=\"-278.3\" font-family=\"Times,serif\" font-size=\"14.00\">mse = 44.0</text>\n",
       "<text text-anchor=\"start\" x=\"47.1667\" y=\"-263.3\" font-family=\"Times,serif\" font-size=\"14.00\">samples = 728008</text>\n",
       "<text text-anchor=\"start\" x=\"66.6667\" y=\"-248.3\" font-family=\"Times,serif\" font-size=\"14.00\">value = 7.0</text>\n",
       "</g>\n",
       "<!-- 1 -->\n",
       "<g id=\"node2\" class=\"node\"><title>1</title>\n",
       "<polygon fill=\"#e58139\" fill-opacity=\"0.356863\" stroke=\"black\" points=\"408.667,-361.5 280.667,-361.5 280.667,-293.5 408.667,-293.5 408.667,-361.5\"/>\n",
       "<text text-anchor=\"start\" x=\"288.667\" y=\"-346.3\" font-family=\"Times,serif\" font-size=\"14.00\">t2m_fc_mean ≤ &#45;1.0</text>\n",
       "<text text-anchor=\"start\" x=\"314.667\" y=\"-331.3\" font-family=\"Times,serif\" font-size=\"14.00\">mse = 19.0</text>\n",
       "<text text-anchor=\"start\" x=\"295.167\" y=\"-316.3\" font-family=\"Times,serif\" font-size=\"14.00\">samples = 333362</text>\n",
       "<text text-anchor=\"start\" x=\"314.667\" y=\"-301.3\" font-family=\"Times,serif\" font-size=\"14.00\">value = 2.0</text>\n",
       "</g>\n",
       "<!-- 0&#45;&gt;1 -->\n",
       "<g id=\"edge1\" class=\"edge\"><title>0&#45;&gt;1</title>\n",
       "<path fill=\"none\" stroke=\"black\" d=\"M160.698,-288.08C194.126,-295.282 235.378,-304.17 270.246,-311.682\"/>\n",
       "<polygon fill=\"black\" stroke=\"black\" points=\"269.859,-315.179 280.372,-313.863 271.333,-308.336 269.859,-315.179\"/>\n",
       "<text text-anchor=\"middle\" x=\"259.367\" y=\"-323.721\" font-family=\"Times,serif\" font-size=\"14.00\">True</text>\n",
       "</g>\n",
       "<!-- 8 -->\n",
       "<g id=\"node9\" class=\"node\"><title>8</title>\n",
       "<polygon fill=\"#e58139\" fill-opacity=\"0.780392\" stroke=\"black\" points=\"406.667,-255.5 282.667,-255.5 282.667,-187.5 406.667,-187.5 406.667,-255.5\"/>\n",
       "<text text-anchor=\"start\" x=\"290.667\" y=\"-240.3\" font-family=\"Times,serif\" font-size=\"14.00\">t2m_fc_mean ≤ 1.0</text>\n",
       "<text text-anchor=\"start\" x=\"314.667\" y=\"-225.3\" font-family=\"Times,serif\" font-size=\"14.00\">mse = 14.0</text>\n",
       "<text text-anchor=\"start\" x=\"295.167\" y=\"-210.3\" font-family=\"Times,serif\" font-size=\"14.00\">samples = 394646</text>\n",
       "<text text-anchor=\"start\" x=\"311.167\" y=\"-195.3\" font-family=\"Times,serif\" font-size=\"14.00\">value = 12.0</text>\n",
       "</g>\n",
       "<!-- 0&#45;&gt;8 -->\n",
       "<g id=\"edge8\" class=\"edge\"><title>0&#45;&gt;8</title>\n",
       "<path fill=\"none\" stroke=\"black\" d=\"M160.698,-260.92C194.921,-253.547 237.343,-244.407 272.72,-236.785\"/>\n",
       "<polygon fill=\"black\" stroke=\"black\" points=\"273.46,-240.206 282.499,-234.678 271.986,-233.363 273.46,-240.206\"/>\n",
       "<text text-anchor=\"middle\" x=\"261.495\" y=\"-217.42\" font-family=\"Times,serif\" font-size=\"14.00\">False</text>\n",
       "</g>\n",
       "<!-- 2 -->\n",
       "<g id=\"node3\" class=\"node\"><title>2</title>\n",
       "<polygon fill=\"#e58139\" fill-opacity=\"0.176471\" stroke=\"black\" points=\"655.667,-486.5 527.667,-486.5 527.667,-418.5 655.667,-418.5 655.667,-486.5\"/>\n",
       "<text text-anchor=\"start\" x=\"535.667\" y=\"-471.3\" font-family=\"Times,serif\" font-size=\"14.00\">t2m_fc_mean ≤ &#45;2.0</text>\n",
       "<text text-anchor=\"start\" x=\"561.667\" y=\"-456.3\" font-family=\"Times,serif\" font-size=\"14.00\">mse = 15.0</text>\n",
       "<text text-anchor=\"start\" x=\"542.167\" y=\"-441.3\" font-family=\"Times,serif\" font-size=\"14.00\">samples = 108193</text>\n",
       "<text text-anchor=\"start\" x=\"559.667\" y=\"-426.3\" font-family=\"Times,serif\" font-size=\"14.00\">value = &#45;3.0</text>\n",
       "</g>\n",
       "<!-- 1&#45;&gt;2 -->\n",
       "<g id=\"edge2\" class=\"edge\"><title>1&#45;&gt;2</title>\n",
       "<path fill=\"none\" stroke=\"black\" d=\"M408.76,-359.691C442.209,-376.756 483.454,-397.8 518.21,-415.532\"/>\n",
       "<polygon fill=\"black\" stroke=\"black\" points=\"516.863,-418.774 527.362,-420.201 520.045,-412.539 516.863,-418.774\"/>\n",
       "</g>\n",
       "<!-- 5 -->\n",
       "<g id=\"node6\" class=\"node\"><title>5</title>\n",
       "<polygon fill=\"#e58139\" fill-opacity=\"0.447059\" stroke=\"black\" points=\"655.667,-361.5 527.667,-361.5 527.667,-293.5 655.667,-293.5 655.667,-361.5\"/>\n",
       "<text text-anchor=\"start\" x=\"535.667\" y=\"-346.3\" font-family=\"Times,serif\" font-size=\"14.00\">t2m_fc_mean ≤ &#45;1.0</text>\n",
       "<text text-anchor=\"start\" x=\"565.167\" y=\"-331.3\" font-family=\"Times,serif\" font-size=\"14.00\">mse = 7.0</text>\n",
       "<text text-anchor=\"start\" x=\"542.167\" y=\"-316.3\" font-family=\"Times,serif\" font-size=\"14.00\">samples = 225169</text>\n",
       "<text text-anchor=\"start\" x=\"561.667\" y=\"-301.3\" font-family=\"Times,serif\" font-size=\"14.00\">value = 4.0</text>\n",
       "</g>\n",
       "<!-- 1&#45;&gt;5 -->\n",
       "<g id=\"edge5\" class=\"edge\"><title>1&#45;&gt;5</title>\n",
       "<path fill=\"none\" stroke=\"black\" d=\"M408.76,-327.5C441.924,-327.5 482.753,-327.5 517.321,-327.5\"/>\n",
       "<polygon fill=\"black\" stroke=\"black\" points=\"517.362,-331 527.362,-327.5 517.362,-324 517.362,-331\"/>\n",
       "</g>\n",
       "<!-- 3 -->\n",
       "<g id=\"node4\" class=\"node\"><title>3</title>\n",
       "<polygon fill=\"none\" stroke=\"black\" points=\"883.667,-550 775.667,-550 775.667,-497 883.667,-497 883.667,-550\"/>\n",
       "<text text-anchor=\"start\" x=\"799.667\" y=\"-534.8\" font-family=\"Times,serif\" font-size=\"14.00\">mse = 17.0</text>\n",
       "<text text-anchor=\"start\" x=\"783.667\" y=\"-519.8\" font-family=\"Times,serif\" font-size=\"14.00\">samples = 27937</text>\n",
       "<text text-anchor=\"start\" x=\"797.667\" y=\"-504.8\" font-family=\"Times,serif\" font-size=\"14.00\">value = &#45;7.0</text>\n",
       "</g>\n",
       "<!-- 2&#45;&gt;3 -->\n",
       "<g id=\"edge3\" class=\"edge\"><title>2&#45;&gt;3</title>\n",
       "<path fill=\"none\" stroke=\"black\" d=\"M655.91,-471.527C689.96,-481.77 731.825,-494.365 765.815,-504.591\"/>\n",
       "<polygon fill=\"black\" stroke=\"black\" points=\"765.05,-508.016 775.635,-507.545 767.067,-501.313 765.05,-508.016\"/>\n",
       "</g>\n",
       "<!-- 4 -->\n",
       "<g id=\"node5\" class=\"node\"><title>4</title>\n",
       "<polygon fill=\"#e58139\" fill-opacity=\"0.239216\" stroke=\"black\" points=\"883.667,-479 775.667,-479 775.667,-426 883.667,-426 883.667,-479\"/>\n",
       "<text text-anchor=\"start\" x=\"803.167\" y=\"-463.8\" font-family=\"Times,serif\" font-size=\"14.00\">mse = 5.0</text>\n",
       "<text text-anchor=\"start\" x=\"783.667\" y=\"-448.8\" font-family=\"Times,serif\" font-size=\"14.00\">samples = 80256</text>\n",
       "<text text-anchor=\"start\" x=\"797.667\" y=\"-433.8\" font-family=\"Times,serif\" font-size=\"14.00\">value = &#45;1.0</text>\n",
       "</g>\n",
       "<!-- 2&#45;&gt;4 -->\n",
       "<g id=\"edge4\" class=\"edge\"><title>2&#45;&gt;4</title>\n",
       "<path fill=\"none\" stroke=\"black\" d=\"M655.91,-452.5C689.814,-452.5 731.466,-452.5 765.376,-452.5\"/>\n",
       "<polygon fill=\"black\" stroke=\"black\" points=\"765.635,-456 775.635,-452.5 765.635,-449 765.635,-456\"/>\n",
       "</g>\n",
       "<!-- 6 -->\n",
       "<g id=\"node7\" class=\"node\"><title>6</title>\n",
       "<polygon fill=\"#e58139\" fill-opacity=\"0.384314\" stroke=\"black\" points=\"887.167,-408 772.167,-408 772.167,-355 887.167,-355 887.167,-408\"/>\n",
       "<text text-anchor=\"start\" x=\"803.167\" y=\"-392.8\" font-family=\"Times,serif\" font-size=\"14.00\">mse = 4.0</text>\n",
       "<text text-anchor=\"start\" x=\"780.167\" y=\"-377.8\" font-family=\"Times,serif\" font-size=\"14.00\">samples = 112684</text>\n",
       "<text text-anchor=\"start\" x=\"799.667\" y=\"-362.8\" font-family=\"Times,serif\" font-size=\"14.00\">value = 2.0</text>\n",
       "</g>\n",
       "<!-- 5&#45;&gt;6 -->\n",
       "<g id=\"edge6\" class=\"edge\"><title>5&#45;&gt;6</title>\n",
       "<path fill=\"none\" stroke=\"black\" d=\"M655.91,-341.971C688.7,-349.474 728.738,-358.635 762.01,-366.248\"/>\n",
       "<polygon fill=\"black\" stroke=\"black\" points=\"761.575,-369.739 772.104,-368.558 763.136,-362.915 761.575,-369.739\"/>\n",
       "</g>\n",
       "<!-- 7 -->\n",
       "<g id=\"node8\" class=\"node\"><title>7</title>\n",
       "<polygon fill=\"#e58139\" fill-opacity=\"0.509804\" stroke=\"black\" points=\"887.167,-337 772.167,-337 772.167,-284 887.167,-284 887.167,-337\"/>\n",
       "<text text-anchor=\"start\" x=\"803.167\" y=\"-321.8\" font-family=\"Times,serif\" font-size=\"14.00\">mse = 4.0</text>\n",
       "<text text-anchor=\"start\" x=\"780.167\" y=\"-306.8\" font-family=\"Times,serif\" font-size=\"14.00\">samples = 112485</text>\n",
       "<text text-anchor=\"start\" x=\"799.667\" y=\"-291.8\" font-family=\"Times,serif\" font-size=\"14.00\">value = 5.0</text>\n",
       "</g>\n",
       "<!-- 5&#45;&gt;7 -->\n",
       "<g id=\"edge7\" class=\"edge\"><title>5&#45;&gt;7</title>\n",
       "<path fill=\"none\" stroke=\"black\" d=\"M655.91,-322.944C688.7,-320.582 728.738,-317.698 762.01,-315.302\"/>\n",
       "<polygon fill=\"black\" stroke=\"black\" points=\"762.381,-318.784 772.104,-314.574 761.878,-311.802 762.381,-318.784\"/>\n",
       "</g>\n",
       "<!-- 9 -->\n",
       "<g id=\"node10\" class=\"node\"><title>9</title>\n",
       "<polygon fill=\"#e58139\" fill-opacity=\"0.682353\" stroke=\"black\" points=\"653.667,-255.5 529.667,-255.5 529.667,-187.5 653.667,-187.5 653.667,-255.5\"/>\n",
       "<text text-anchor=\"start\" x=\"537.667\" y=\"-240.3\" font-family=\"Times,serif\" font-size=\"14.00\">t2m_fc_mean ≤ 0.0</text>\n",
       "<text text-anchor=\"start\" x=\"565.167\" y=\"-225.3\" font-family=\"Times,serif\" font-size=\"14.00\">mse = 6.0</text>\n",
       "<text text-anchor=\"start\" x=\"542.167\" y=\"-210.3\" font-family=\"Times,serif\" font-size=\"14.00\">samples = 218471</text>\n",
       "<text text-anchor=\"start\" x=\"558.167\" y=\"-195.3\" font-family=\"Times,serif\" font-size=\"14.00\">value = 10.0</text>\n",
       "</g>\n",
       "<!-- 8&#45;&gt;9 -->\n",
       "<g id=\"edge9\" class=\"edge\"><title>8&#45;&gt;9</title>\n",
       "<path fill=\"none\" stroke=\"black\" d=\"M406.859,-221.5C440.914,-221.5 483.488,-221.5 519.083,-221.5\"/>\n",
       "<polygon fill=\"black\" stroke=\"black\" points=\"519.406,-225 529.406,-221.5 519.406,-218 519.406,-225\"/>\n",
       "</g>\n",
       "<!-- 12 -->\n",
       "<g id=\"node13\" class=\"node\"><title>12</title>\n",
       "<polygon fill=\"#e58139\" fill-opacity=\"0.898039\" stroke=\"black\" points=\"653.667,-131.5 529.667,-131.5 529.667,-63.5 653.667,-63.5 653.667,-131.5\"/>\n",
       "<text text-anchor=\"start\" x=\"537.667\" y=\"-116.3\" font-family=\"Times,serif\" font-size=\"14.00\">t2m_fc_mean ≤ 1.0</text>\n",
       "<text text-anchor=\"start\" x=\"565.167\" y=\"-101.3\" font-family=\"Times,serif\" font-size=\"14.00\">mse = 7.0</text>\n",
       "<text text-anchor=\"start\" x=\"542.167\" y=\"-86.3\" font-family=\"Times,serif\" font-size=\"14.00\">samples = 176175</text>\n",
       "<text text-anchor=\"start\" x=\"558.167\" y=\"-71.3\" font-family=\"Times,serif\" font-size=\"14.00\">value = 15.0</text>\n",
       "</g>\n",
       "<!-- 8&#45;&gt;12 -->\n",
       "<g id=\"edge12\" class=\"edge\"><title>8&#45;&gt;12</title>\n",
       "<path fill=\"none\" stroke=\"black\" d=\"M406.859,-190.529C441.353,-173.071 484.585,-151.19 520.455,-133.036\"/>\n",
       "<polygon fill=\"black\" stroke=\"black\" points=\"522.064,-136.144 529.406,-128.506 518.903,-129.899 522.064,-136.144\"/>\n",
       "</g>\n",
       "<!-- 10 -->\n",
       "<g id=\"node11\" class=\"node\"><title>10</title>\n",
       "<polygon fill=\"#e58139\" fill-opacity=\"0.623529\" stroke=\"black\" points=\"887.167,-266 772.167,-266 772.167,-213 887.167,-213 887.167,-266\"/>\n",
       "<text text-anchor=\"start\" x=\"803.167\" y=\"-250.8\" font-family=\"Times,serif\" font-size=\"14.00\">mse = 4.0</text>\n",
       "<text text-anchor=\"start\" x=\"780.167\" y=\"-235.8\" font-family=\"Times,serif\" font-size=\"14.00\">samples = 100215</text>\n",
       "<text text-anchor=\"start\" x=\"799.667\" y=\"-220.8\" font-family=\"Times,serif\" font-size=\"14.00\">value = 8.0</text>\n",
       "</g>\n",
       "<!-- 9&#45;&gt;10 -->\n",
       "<g id=\"edge10\" class=\"edge\"><title>9&#45;&gt;10</title>\n",
       "<path fill=\"none\" stroke=\"black\" d=\"M653.749,-226.159C686.796,-228.679 727.674,-231.797 761.601,-234.385\"/>\n",
       "<polygon fill=\"black\" stroke=\"black\" points=\"761.653,-237.899 771.891,-235.17 762.186,-230.919 761.653,-237.899\"/>\n",
       "</g>\n",
       "<!-- 11 -->\n",
       "<g id=\"node12\" class=\"node\"><title>11</title>\n",
       "<polygon fill=\"#e58139\" fill-opacity=\"0.733333\" stroke=\"black\" points=\"887.167,-195 772.167,-195 772.167,-142 887.167,-142 887.167,-195\"/>\n",
       "<text text-anchor=\"start\" x=\"803.167\" y=\"-179.8\" font-family=\"Times,serif\" font-size=\"14.00\">mse = 4.0</text>\n",
       "<text text-anchor=\"start\" x=\"780.167\" y=\"-164.8\" font-family=\"Times,serif\" font-size=\"14.00\">samples = 118256</text>\n",
       "<text text-anchor=\"start\" x=\"796.167\" y=\"-149.8\" font-family=\"Times,serif\" font-size=\"14.00\">value = 11.0</text>\n",
       "</g>\n",
       "<!-- 9&#45;&gt;11 -->\n",
       "<g id=\"edge11\" class=\"edge\"><title>9&#45;&gt;11</title>\n",
       "<path fill=\"none\" stroke=\"black\" d=\"M653.749,-207.782C686.939,-200.329 728.027,-191.101 762.04,-183.463\"/>\n",
       "<polygon fill=\"black\" stroke=\"black\" points=\"762.901,-186.857 771.891,-181.251 761.367,-180.027 762.901,-186.857\"/>\n",
       "</g>\n",
       "<!-- 13 -->\n",
       "<g id=\"node14\" class=\"node\"><title>13</title>\n",
       "<polygon fill=\"#e58139\" fill-opacity=\"0.850980\" stroke=\"black\" points=\"887.167,-124 772.167,-124 772.167,-71 887.167,-71 887.167,-124\"/>\n",
       "<text text-anchor=\"start\" x=\"803.167\" y=\"-108.8\" font-family=\"Times,serif\" font-size=\"14.00\">mse = 4.0</text>\n",
       "<text text-anchor=\"start\" x=\"780.167\" y=\"-93.8\" font-family=\"Times,serif\" font-size=\"14.00\">samples = 120810</text>\n",
       "<text text-anchor=\"start\" x=\"796.167\" y=\"-78.8\" font-family=\"Times,serif\" font-size=\"14.00\">value = 14.0</text>\n",
       "</g>\n",
       "<!-- 12&#45;&gt;13 -->\n",
       "<g id=\"edge13\" class=\"edge\"><title>12&#45;&gt;13</title>\n",
       "<path fill=\"none\" stroke=\"black\" d=\"M653.749,-97.5C686.796,-97.5 727.674,-97.5 761.601,-97.5\"/>\n",
       "<polygon fill=\"black\" stroke=\"black\" points=\"761.891,-101 771.891,-97.5 761.891,-94.0001 761.891,-101\"/>\n",
       "</g>\n",
       "<!-- 14 -->\n",
       "<g id=\"node15\" class=\"node\"><title>14</title>\n",
       "<polygon fill=\"#e58139\" stroke=\"black\" points=\"883.667,-53 775.667,-53 775.667,-0 883.667,-0 883.667,-53\"/>\n",
       "<text text-anchor=\"start\" x=\"803.167\" y=\"-37.8\" font-family=\"Times,serif\" font-size=\"14.00\">mse = 5.0</text>\n",
       "<text text-anchor=\"start\" x=\"783.667\" y=\"-22.8\" font-family=\"Times,serif\" font-size=\"14.00\">samples = 55365</text>\n",
       "<text text-anchor=\"start\" x=\"796.167\" y=\"-7.8\" font-family=\"Times,serif\" font-size=\"14.00\">value = 18.0</text>\n",
       "</g>\n",
       "<!-- 12&#45;&gt;14 -->\n",
       "<g id=\"edge14\" class=\"edge\"><title>12&#45;&gt;14</title>\n",
       "<path fill=\"none\" stroke=\"black\" d=\"M653.749,-79.1234C688.057,-68.802 730.806,-55.9411 765.454,-45.5173\"/>\n",
       "<polygon fill=\"black\" stroke=\"black\" points=\"766.895,-48.739 775.462,-42.5064 764.878,-42.0358 766.895,-48.739\"/>\n",
       "</g>\n",
       "</g>\n",
       "</svg>\n"
      ],
      "text/plain": [
       "<graphviz.files.Source at 0x7fdaf754c390>"
      ]
     },
     "metadata": {},
     "output_type": "display_data"
    }
   ],
   "source": [
    "draw_tree(dec_tree, df_train.drop(['t2m_obs', 'time', 'station'], 1))"
   ]
  },
  {
   "cell_type": "code",
   "execution_count": 70,
   "metadata": {},
   "outputs": [
    {
     "data": {
      "text/plain": [
       "0.8742815625139746"
      ]
     },
     "execution_count": 70,
     "metadata": {},
     "output_type": "execute_result"
    }
   ],
   "source": [
    "dec_tree.score(X_valid, y_valid), val_mse(dec_tree)"
   ]
  },
  {
   "cell_type": "code",
   "execution_count": 80,
   "metadata": {},
   "outputs": [
    {
     "data": {
      "text/plain": [
       "5.016032979374179"
      ]
     },
     "execution_count": 80,
     "metadata": {},
     "output_type": "execute_result"
    }
   ],
   "source": [
    "val_mse(dec_tree)"
   ]
  },
  {
   "cell_type": "code",
   "execution_count": 81,
   "metadata": {},
   "outputs": [],
   "source": [
    "dec_tree = DecisionTreeRegressor()"
   ]
  },
  {
   "cell_type": "code",
   "execution_count": 82,
   "metadata": {},
   "outputs": [
    {
     "data": {
      "text/plain": [
       "DecisionTreeRegressor(criterion='mse', max_depth=None, max_features=None,\n",
       "           max_leaf_nodes=None, min_impurity_decrease=0.0,\n",
       "           min_impurity_split=None, min_samples_leaf=1,\n",
       "           min_samples_split=2, min_weight_fraction_leaf=0.0,\n",
       "           presort=False, random_state=None, splitter='best')"
      ]
     },
     "execution_count": 82,
     "metadata": {},
     "output_type": "execute_result"
    }
   ],
   "source": [
    "dec_tree.fit(X_train, y_train)"
   ]
  },
  {
   "cell_type": "code",
   "execution_count": 91,
   "metadata": {},
   "outputs": [],
   "source": [
    "def print_scores(m):\n",
    "    print('Train R2 = ', m.score(X_train, y_train), \n",
    "          'Valid R2 = ', m.score(X_valid, y_valid), 'Valid MSE = ', val_mse(m))"
   ]
  },
  {
   "cell_type": "code",
   "execution_count": 83,
   "metadata": {},
   "outputs": [
    {
     "data": {
      "text/plain": [
       "(0.8422688075251983, 6.293308118928114)"
      ]
     },
     "execution_count": 83,
     "metadata": {},
     "output_type": "execute_result"
    }
   ],
   "source": [
    "dec_tree.score(X_train, y_train), dec_tree.score(X_valid, y_valid), val_mse(dec_tree)"
   ]
  },
  {
   "cell_type": "markdown",
   "metadata": {},
   "source": [
    "## Random forests"
   ]
  },
  {
   "cell_type": "code",
   "execution_count": 88,
   "metadata": {},
   "outputs": [],
   "source": [
    "from sklearn.ensemble import RandomForestRegressor"
   ]
  },
  {
   "cell_type": "code",
   "execution_count": 89,
   "metadata": {},
   "outputs": [],
   "source": [
    "rf = RandomForestRegressor(n_estimators=10, n_jobs=-1)"
   ]
  },
  {
   "cell_type": "code",
   "execution_count": 90,
   "metadata": {
    "scrolled": true
   },
   "outputs": [
    {
     "name": "stdout",
     "output_type": "stream",
     "text": [
      "CPU times: user 4min 24s, sys: 448 ms, total: 4min 25s\n",
      "Wall time: 29.2 s\n"
     ]
    },
    {
     "data": {
      "text/plain": [
       "RandomForestRegressor(bootstrap=True, criterion='mse', max_depth=None,\n",
       "           max_features='auto', max_leaf_nodes=None,\n",
       "           min_impurity_decrease=0.0, min_impurity_split=None,\n",
       "           min_samples_leaf=1, min_samples_split=2,\n",
       "           min_weight_fraction_leaf=0.0, n_estimators=10, n_jobs=-1,\n",
       "           oob_score=False, random_state=None, verbose=0, warm_start=False)"
      ]
     },
     "execution_count": 90,
     "metadata": {},
     "output_type": "execute_result"
    }
   ],
   "source": [
    "%time rf.fit(X_train, y_train)"
   ]
  },
  {
   "cell_type": "code",
   "execution_count": 92,
   "metadata": {},
   "outputs": [
    {
     "name": "stdout",
     "output_type": "stream",
     "text": [
      "Train R2 =  0.992372550428251 Valid R2 =  0.917387638494944 Valid MSE =  3.296146039513547\n"
     ]
    }
   ],
   "source": [
    "print_scores(rf)"
   ]
  },
  {
   "cell_type": "code",
   "execution_count": 96,
   "metadata": {},
   "outputs": [],
   "source": [
    "rf = RandomForestRegressor(n_estimators=10, n_jobs=-1, min_samples_leaf=10)"
   ]
  },
  {
   "cell_type": "code",
   "execution_count": 97,
   "metadata": {
    "scrolled": true
   },
   "outputs": [
    {
     "name": "stdout",
     "output_type": "stream",
     "text": [
      "CPU times: user 3min 35s, sys: 72 ms, total: 3min 35s\n",
      "Wall time: 22.1 s\n"
     ]
    },
    {
     "data": {
      "text/plain": [
       "RandomForestRegressor(bootstrap=True, criterion='mse', max_depth=None,\n",
       "           max_features='auto', max_leaf_nodes=None,\n",
       "           min_impurity_decrease=0.0, min_impurity_split=None,\n",
       "           min_samples_leaf=10, min_samples_split=2,\n",
       "           min_weight_fraction_leaf=0.0, n_estimators=10, n_jobs=-1,\n",
       "           oob_score=False, random_state=None, verbose=0, warm_start=False)"
      ]
     },
     "execution_count": 97,
     "metadata": {},
     "output_type": "execute_result"
    }
   ],
   "source": [
    "%time rf.fit(X_train, y_train)"
   ]
  },
  {
   "cell_type": "code",
   "execution_count": 98,
   "metadata": {},
   "outputs": [
    {
     "name": "stdout",
     "output_type": "stream",
     "text": [
      "Train R2 =  0.9744102578637028 Valid R2 =  0.9206789290561015 Valid MSE =  3.164827019570321\n"
     ]
    }
   ],
   "source": [
    "print_scores(rf)"
   ]
  },
  {
   "cell_type": "code",
   "execution_count": 99,
   "metadata": {},
   "outputs": [],
   "source": [
    "rf = RandomForestRegressor(n_estimators=40, n_jobs=-1, min_samples_leaf=10)"
   ]
  },
  {
   "cell_type": "code",
   "execution_count": 100,
   "metadata": {
    "scrolled": true
   },
   "outputs": [
    {
     "name": "stdout",
     "output_type": "stream",
     "text": [
      "CPU times: user 20min 54s, sys: 688 ms, total: 20min 55s\n",
      "Wall time: 1min 5s\n"
     ]
    },
    {
     "data": {
      "text/plain": [
       "RandomForestRegressor(bootstrap=True, criterion='mse', max_depth=None,\n",
       "           max_features='auto', max_leaf_nodes=None,\n",
       "           min_impurity_decrease=0.0, min_impurity_split=None,\n",
       "           min_samples_leaf=10, min_samples_split=2,\n",
       "           min_weight_fraction_leaf=0.0, n_estimators=40, n_jobs=-1,\n",
       "           oob_score=False, random_state=None, verbose=0, warm_start=False)"
      ]
     },
     "execution_count": 100,
     "metadata": {},
     "output_type": "execute_result"
    }
   ],
   "source": [
    "%time rf.fit(X_train, y_train)"
   ]
  },
  {
   "cell_type": "code",
   "execution_count": 101,
   "metadata": {},
   "outputs": [
    {
     "name": "stdout",
     "output_type": "stream",
     "text": [
      "Train R2 =  0.9759035535174916 Valid R2 =  0.923940592714597 Valid MSE =  3.0346900817765796\n"
     ]
    }
   ],
   "source": [
    "print_scores(rf)"
   ]
  },
  {
   "cell_type": "markdown",
   "metadata": {},
   "source": [
    "### Adding station information"
   ]
  },
  {
   "cell_type": "code",
   "execution_count": 156,
   "metadata": {},
   "outputs": [],
   "source": [
    "X_train, y_train, X_valid, y_valid = split_and_norm(\n",
    "    df_train)"
   ]
  },
  {
   "cell_type": "code",
   "execution_count": 189,
   "metadata": {},
   "outputs": [],
   "source": [
    "rf = RandomForestRegressor(n_estimators=40, n_jobs=-1, min_samples_leaf=100)"
   ]
  },
  {
   "cell_type": "code",
   "execution_count": 190,
   "metadata": {
    "scrolled": true
   },
   "outputs": [
    {
     "name": "stdout",
     "output_type": "stream",
     "text": [
      "CPU times: user 17min 23s, sys: 712 ms, total: 17min 24s\n",
      "Wall time: 53.9 s\n"
     ]
    },
    {
     "data": {
      "text/plain": [
       "RandomForestRegressor(bootstrap=True, criterion='mse', max_depth=None,\n",
       "           max_features='auto', max_leaf_nodes=None,\n",
       "           min_impurity_decrease=0.0, min_impurity_split=None,\n",
       "           min_samples_leaf=100, min_samples_split=2,\n",
       "           min_weight_fraction_leaf=0.0, n_estimators=40, n_jobs=-1,\n",
       "           oob_score=False, random_state=None, verbose=0, warm_start=False)"
      ]
     },
     "execution_count": 190,
     "metadata": {},
     "output_type": "execute_result"
    }
   ],
   "source": [
    "%time rf.fit(X_train, y_train)"
   ]
  },
  {
   "cell_type": "code",
   "execution_count": 191,
   "metadata": {},
   "outputs": [
    {
     "name": "stdout",
     "output_type": "stream",
     "text": [
      "Train R2 =  0.9476200271523911 Valid R2 =  0.9203890855684441 Valid MSE =  3.176391468843023\n"
     ]
    }
   ],
   "source": [
    "print_scores(rf)"
   ]
  },
  {
   "cell_type": "markdown",
   "metadata": {},
   "source": [
    "### Feature importance"
   ]
  },
  {
   "cell_type": "code",
   "execution_count": 192,
   "metadata": {},
   "outputs": [
    {
     "data": {
      "text/plain": [
       "array([1.70038964e-04, 9.68016978e-01, 1.00280650e-03, 5.11335114e-03,\n",
       "       3.23670536e-03, 9.42989429e-04, 6.30098798e-04, 6.53201219e-04,\n",
       "       1.00970758e-03, 1.00211689e-03, 7.20027864e-04, 1.71873593e-03,\n",
       "       6.39720282e-04, 2.97109665e-04, 1.22447285e-03, 9.54803482e-04,\n",
       "       5.17068361e-04, 8.49792232e-04, 7.29072403e-04, 6.79958939e-04,\n",
       "       6.26087291e-04, 8.99368558e-03, 2.71471498e-04])"
      ]
     },
     "execution_count": 192,
     "metadata": {},
     "output_type": "execute_result"
    }
   ],
   "source": [
    "rf.feature_importances_"
   ]
  },
  {
   "cell_type": "code",
   "execution_count": 193,
   "metadata": {},
   "outputs": [],
   "source": [
    "fi_df = pd.DataFrame(\n",
    "    data={'Feature': X_train.columns, 'Feature importance': rf.feature_importances_}, \n",
    "    columns = ['Feature', 'Feature importance']\n",
    ")"
   ]
  },
  {
   "cell_type": "code",
   "execution_count": 194,
   "metadata": {},
   "outputs": [
    {
     "data": {
      "image/png": "[encoded data removed]",
      "text/plain": [
       "<Figure size 432x288 with 1 Axes>"
      ]
     },
     "metadata": {},
     "output_type": "display_data"
    }
   ],
   "source": [
    "sns.barplot(data=fi_df, x='Feature importance', y='Feature')\n",
    "plt.xscale('log')"
   ]
  },
  {
   "cell_type": "markdown",
   "metadata": {},
   "source": [
    "## Neural networks"
   ]
  },
  {
   "cell_type": "code",
   "execution_count": 204,
   "metadata": {},
   "outputs": [],
   "source": [
    "from keras.models import Sequential\n",
    "from keras.layers import *\n",
    "from keras.optimizers import SGD, Adam"
   ]
  },
  {
   "cell_type": "code",
   "execution_count": 196,
   "metadata": {},
   "outputs": [],
   "source": [
    "X_train, y_train, X_valid, y_valid = split_and_norm(\n",
    "    df_train, drop_train=['station'])"
   ]
  },
  {
   "cell_type": "code",
   "execution_count": 197,
   "metadata": {},
   "outputs": [
    {
     "data": {
      "text/plain": [
       "((728008, 22), (728008,))"
      ]
     },
     "execution_count": 197,
     "metadata": {},
     "output_type": "execute_result"
    }
   ],
   "source": [
    "X_train.shape, y_train.shape"
   ]
  },
  {
   "cell_type": "code",
   "execution_count": 213,
   "metadata": {},
   "outputs": [],
   "source": [
    "nn = Sequential([Dense(1, input_shape=(22,), activation='linear')])"
   ]
  },
  {
   "cell_type": "code",
   "execution_count": 214,
   "metadata": {},
   "outputs": [],
   "source": [
    "nn.compile(SGD(1e-3), 'mse')"
   ]
  },
  {
   "cell_type": "code",
   "execution_count": 215,
   "metadata": {},
   "outputs": [
    {
     "name": "stdout",
     "output_type": "stream",
     "text": [
      "Train on 728008 samples, validate on 180849 samples\n",
      "Epoch 1/100\n",
      "728008/728008 [==============================] - 1s 1us/step - loss: 70.5051 - val_loss: 59.0549\n",
      "Epoch 2/100\n",
      "728008/728008 [==============================] - 1s 1us/step - loss: 47.1148 - val_loss: 42.2687\n",
      "Epoch 3/100\n",
      "728008/728008 [==============================] - 1s 1us/step - loss: 34.5186 - val_loss: 31.9371\n",
      "Epoch 4/100\n",
      "728008/728008 [==============================] - 1s 1us/step - loss: 26.3145 - val_loss: 24.8189\n",
      "Epoch 5/100\n",
      "728008/728008 [==============================] - 1s 1us/step - loss: 20.5185 - val_loss: 19.6722\n",
      "Epoch 6/100\n",
      "728008/728008 [==============================] - 1s 1us/step - loss: 16.2895 - val_loss: 15.8688\n",
      "Epoch 7/100\n",
      "728008/728008 [==============================] - 1s 1us/step - loss: 13.1609 - val_loss: 13.0251\n",
      "Epoch 8/100\n",
      "728008/728008 [==============================] - 1s 1us/step - loss: 10.8304 - val_loss: 10.8837\n",
      "Epoch 9/100\n",
      "728008/728008 [==============================] - 1s 1us/step - loss: 9.0868 - val_loss: 9.2629\n",
      "Epoch 10/100\n",
      "728008/728008 [==============================] - 1s 1us/step - loss: 7.7780 - val_loss: 8.0306\n",
      "Epoch 11/100\n",
      "728008/728008 [==============================] - 1s 1us/step - loss: 6.7928 - val_loss: 7.0913\n",
      "Epoch 12/100\n",
      "728008/728008 [==============================] - 1s 1us/step - loss: 6.0491 - val_loss: 6.3716\n",
      "Epoch 13/100\n",
      "728008/728008 [==============================] - 1s 1us/step - loss: 5.4857 - val_loss: 5.8184\n",
      "Epoch 14/100\n",
      "728008/728008 [==============================] - 1s 1us/step - loss: 5.0574 - val_loss: 5.3917\n",
      "Epoch 15/100\n",
      "728008/728008 [==============================] - 1s 1us/step - loss: 4.7304 - val_loss: 5.0605\n",
      "Epoch 16/100\n",
      "728008/728008 [==============================] - 1s 1us/step - loss: 4.4795 - val_loss: 4.8027\n",
      "Epoch 17/100\n",
      "728008/728008 [==============================] - 1s 1us/step - loss: 4.2859 - val_loss: 4.6009\n",
      "Epoch 18/100\n",
      "728008/728008 [==============================] - 1s 1us/step - loss: 4.1354 - val_loss: 4.4417\n",
      "Epoch 19/100\n",
      "728008/728008 [==============================] - 1s 1us/step - loss: 4.0176 - val_loss: 4.3153\n",
      "Epoch 20/100\n",
      "728008/728008 [==============================] - 1s 1us/step - loss: 3.9244 - val_loss: 4.2142\n",
      "Epoch 21/100\n",
      "728008/728008 [==============================] - 1s 1us/step - loss: 3.8500 - val_loss: 4.1327\n",
      "Epoch 22/100\n",
      "728008/728008 [==============================] - 1s 1us/step - loss: 3.7899 - val_loss: 4.0662\n",
      "Epoch 23/100\n",
      "728008/728008 [==============================] - 1s 1us/step - loss: 3.7407 - val_loss: 4.0116\n",
      "Epoch 24/100\n",
      "728008/728008 [==============================] - 1s 1us/step - loss: 3.6999 - val_loss: 3.9662\n",
      "Epoch 25/100\n",
      "728008/728008 [==============================] - 1s 1us/step - loss: 3.6656 - val_loss: 3.9282\n",
      "Epoch 26/100\n",
      "728008/728008 [==============================] - 1s 1us/step - loss: 3.6363 - val_loss: 3.8960\n",
      "Epoch 27/100\n",
      "728008/728008 [==============================] - 1s 1us/step - loss: 3.6109 - val_loss: 3.8684\n",
      "Epoch 28/100\n",
      "728008/728008 [==============================] - 1s 1us/step - loss: 3.5887 - val_loss: 3.8446\n",
      "Epoch 29/100\n",
      "728008/728008 [==============================] - 1s 1us/step - loss: 3.5689 - val_loss: 3.8236\n",
      "Epoch 30/100\n",
      "728008/728008 [==============================] - 1s 1us/step - loss: 3.5511 - val_loss: 3.8052\n",
      "Epoch 31/100\n",
      "728008/728008 [==============================] - 1s 1us/step - loss: 3.5349 - val_loss: 3.7888\n",
      "Epoch 32/100\n",
      "728008/728008 [==============================] - 1s 1us/step - loss: 3.5200 - val_loss: 3.7738\n",
      "Epoch 33/100\n",
      "728008/728008 [==============================] - 1s 1us/step - loss: 3.5063 - val_loss: 3.7601\n",
      "Epoch 34/100\n",
      "728008/728008 [==============================] - 1s 1us/step - loss: 3.4934 - val_loss: 3.7477\n",
      "Epoch 35/100\n",
      "728008/728008 [==============================] - 1s 1us/step - loss: 3.4814 - val_loss: 3.7364\n",
      "Epoch 36/100\n",
      "728008/728008 [==============================] - 1s 1us/step - loss: 3.4700 - val_loss: 3.7258\n",
      "Epoch 37/100\n",
      "728008/728008 [==============================] - 1s 1us/step - loss: 3.4592 - val_loss: 3.7160\n",
      "Epoch 38/100\n",
      "728008/728008 [==============================] - 1s 1us/step - loss: 3.4490 - val_loss: 3.7067\n",
      "Epoch 39/100\n",
      "728008/728008 [==============================] - 1s 1us/step - loss: 3.4392 - val_loss: 3.6981\n",
      "Epoch 40/100\n",
      "728008/728008 [==============================] - 1s 1us/step - loss: 3.4298 - val_loss: 3.6899\n",
      "Epoch 41/100\n",
      "728008/728008 [==============================] - 1s 1us/step - loss: 3.4209 - val_loss: 3.6822\n",
      "Epoch 42/100\n",
      "728008/728008 [==============================] - 1s 1us/step - loss: 3.4123 - val_loss: 3.6749\n",
      "Epoch 43/100\n",
      "728008/728008 [==============================] - 1s 1us/step - loss: 3.4040 - val_loss: 3.6679\n",
      "Epoch 44/100\n",
      "728008/728008 [==============================] - 1s 1us/step - loss: 3.3960 - val_loss: 3.6613\n",
      "Epoch 45/100\n",
      "728008/728008 [==============================] - 1s 1us/step - loss: 3.3883 - val_loss: 3.6551\n",
      "Epoch 46/100\n",
      "728008/728008 [==============================] - 1s 1us/step - loss: 3.3809 - val_loss: 3.6490\n",
      "Epoch 47/100\n",
      "728008/728008 [==============================] - 1s 1us/step - loss: 3.3737 - val_loss: 3.6432\n",
      "Epoch 48/100\n",
      "728008/728008 [==============================] - 1s 1us/step - loss: 3.3667 - val_loss: 3.6375\n",
      "Epoch 49/100\n",
      "728008/728008 [==============================] - 1s 1us/step - loss: 3.3600 - val_loss: 3.6322\n",
      "Epoch 50/100\n",
      "728008/728008 [==============================] - 1s 1us/step - loss: 3.3535 - val_loss: 3.6270\n",
      "Epoch 51/100\n",
      "728008/728008 [==============================] - 1s 1us/step - loss: 3.3472 - val_loss: 3.6220\n",
      "Epoch 52/100\n",
      "728008/728008 [==============================] - 1s 1us/step - loss: 3.3411 - val_loss: 3.6172\n",
      "Epoch 53/100\n",
      "728008/728008 [==============================] - 1s 1us/step - loss: 3.3351 - val_loss: 3.6126\n",
      "Epoch 54/100\n",
      "728008/728008 [==============================] - 1s 1us/step - loss: 3.3294 - val_loss: 3.6080\n",
      "Epoch 55/100\n",
      "728008/728008 [==============================] - 1s 1us/step - loss: 3.3238 - val_loss: 3.6036\n",
      "Epoch 56/100\n",
      "728008/728008 [==============================] - 1s 1us/step - loss: 3.3184 - val_loss: 3.5994\n",
      "Epoch 57/100\n",
      "728008/728008 [==============================] - 1s 1us/step - loss: 3.3131 - val_loss: 3.5953\n",
      "Epoch 58/100\n",
      "728008/728008 [==============================] - 1s 1us/step - loss: 3.3080 - val_loss: 3.5913\n",
      "Epoch 59/100\n",
      "728008/728008 [==============================] - 1s 1us/step - loss: 3.3030 - val_loss: 3.5875\n",
      "Epoch 60/100\n",
      "728008/728008 [==============================] - 1s 1us/step - loss: 3.2982 - val_loss: 3.5836\n",
      "Epoch 61/100\n",
      "728008/728008 [==============================] - 1s 1us/step - loss: 3.2934 - val_loss: 3.5799\n",
      "Epoch 62/100\n",
      "728008/728008 [==============================] - 1s 1us/step - loss: 3.2888 - val_loss: 3.5764\n",
      "Epoch 63/100\n",
      "728008/728008 [==============================] - 1s 1us/step - loss: 3.2844 - val_loss: 3.5729\n",
      "Epoch 64/100\n",
      "728008/728008 [==============================] - 1s 1us/step - loss: 3.2800 - val_loss: 3.5695\n",
      "Epoch 65/100\n",
      "728008/728008 [==============================] - 1s 1us/step - loss: 3.2758 - val_loss: 3.5662\n",
      "Epoch 66/100\n",
      "728008/728008 [==============================] - 1s 1us/step - loss: 3.2717 - val_loss: 3.5630\n",
      "Epoch 67/100\n",
      "728008/728008 [==============================] - 1s 1us/step - loss: 3.2676 - val_loss: 3.5598\n",
      "Epoch 68/100\n",
      "728008/728008 [==============================] - 1s 1us/step - loss: 3.2637 - val_loss: 3.5568\n",
      "Epoch 69/100\n",
      "728008/728008 [==============================] - 1s 1us/step - loss: 3.2599 - val_loss: 3.5537\n",
      "Epoch 70/100\n",
      "728008/728008 [==============================] - 1s 1us/step - loss: 3.2561 - val_loss: 3.5508\n",
      "Epoch 71/100\n",
      "728008/728008 [==============================] - 1s 1us/step - loss: 3.2525 - val_loss: 3.5479\n",
      "Epoch 72/100\n",
      "728008/728008 [==============================] - 1s 1us/step - loss: 3.2490 - val_loss: 3.5452\n",
      "Epoch 73/100\n",
      "728008/728008 [==============================] - 1s 1us/step - loss: 3.2455 - val_loss: 3.5424\n",
      "Epoch 74/100\n",
      "728008/728008 [==============================] - 1s 1us/step - loss: 3.2421 - val_loss: 3.5397\n",
      "Epoch 75/100\n",
      "728008/728008 [==============================] - 1s 1us/step - loss: 3.2388 - val_loss: 3.5371\n",
      "Epoch 76/100\n",
      "728008/728008 [==============================] - 1s 1us/step - loss: 3.2356 - val_loss: 3.5345\n",
      "Epoch 77/100\n",
      "728008/728008 [==============================] - 1s 1us/step - loss: 3.2324 - val_loss: 3.5320\n",
      "Epoch 78/100\n",
      "728008/728008 [==============================] - 1s 1us/step - loss: 3.2294 - val_loss: 3.5295\n",
      "Epoch 79/100\n",
      "728008/728008 [==============================] - 1s 1us/step - loss: 3.2263 - val_loss: 3.5270\n",
      "Epoch 80/100\n",
      "728008/728008 [==============================] - 1s 1us/step - loss: 3.2234 - val_loss: 3.5247\n",
      "Epoch 81/100\n",
      "728008/728008 [==============================] - 1s 1us/step - loss: 3.2205 - val_loss: 3.5224\n",
      "Epoch 82/100\n",
      "728008/728008 [==============================] - 1s 1us/step - loss: 3.2177 - val_loss: 3.5201\n",
      "Epoch 83/100\n",
      "728008/728008 [==============================] - 1s 1us/step - loss: 3.2150 - val_loss: 3.5178\n",
      "Epoch 84/100\n",
      "728008/728008 [==============================] - 1s 1us/step - loss: 3.2123 - val_loss: 3.5156\n",
      "Epoch 85/100\n",
      "728008/728008 [==============================] - 1s 1us/step - loss: 3.2096 - val_loss: 3.5134\n",
      "Epoch 86/100\n",
      "728008/728008 [==============================] - 1s 1us/step - loss: 3.2071 - val_loss: 3.5113\n",
      "Epoch 87/100\n",
      "728008/728008 [==============================] - 1s 1us/step - loss: 3.2046 - val_loss: 3.5092\n",
      "Epoch 88/100\n",
      "728008/728008 [==============================] - 1s 1us/step - loss: 3.2021 - val_loss: 3.5071\n",
      "Epoch 89/100\n",
      "728008/728008 [==============================] - 1s 1us/step - loss: 3.1997 - val_loss: 3.5051\n",
      "Epoch 90/100\n",
      "728008/728008 [==============================] - 1s 1us/step - loss: 3.1973 - val_loss: 3.5031\n",
      "Epoch 91/100\n",
      "728008/728008 [==============================] - 1s 1us/step - loss: 3.1950 - val_loss: 3.5011\n",
      "Epoch 92/100\n",
      "728008/728008 [==============================] - 1s 1us/step - loss: 3.1927 - val_loss: 3.4991\n",
      "Epoch 93/100\n",
      "728008/728008 [==============================] - 1s 1us/step - loss: 3.1905 - val_loss: 3.4972\n",
      "Epoch 94/100\n",
      "728008/728008 [==============================] - 1s 1us/step - loss: 3.1883 - val_loss: 3.4953\n",
      "Epoch 95/100\n",
      "728008/728008 [==============================] - 1s 1us/step - loss: 3.1862 - val_loss: 3.4935\n",
      "Epoch 96/100\n",
      "728008/728008 [==============================] - 1s 1us/step - loss: 3.1841 - val_loss: 3.4917\n",
      "Epoch 97/100\n",
      "728008/728008 [==============================] - 1s 1us/step - loss: 3.1821 - val_loss: 3.4899\n",
      "Epoch 98/100\n",
      "728008/728008 [==============================] - 1s 1us/step - loss: 3.1800 - val_loss: 3.4881\n",
      "Epoch 99/100\n",
      "728008/728008 [==============================] - 1s 1us/step - loss: 3.1781 - val_loss: 3.4864\n",
      "Epoch 100/100\n",
      "728008/728008 [==============================] - 1s 1us/step - loss: 3.1761 - val_loss: 3.4847\n"
     ]
    }
   ],
   "source": [
    "h = nn.fit(X_train, y_train, 10_000, epochs=100, validation_data=(X_valid, y_valid),\n",
    "           verbose=1)"
   ]
  },
  {
   "cell_type": "code",
   "execution_count": 216,
   "metadata": {},
   "outputs": [],
   "source": [
    "nn.optimizer.lr=1e-4"
   ]
  },
  {
   "cell_type": "code",
   "execution_count": 217,
   "metadata": {},
   "outputs": [
    {
     "name": "stdout",
     "output_type": "stream",
     "text": [
      "Train on 728008 samples, validate on 180849 samples\n",
      "Epoch 1/20\n",
      "728008/728008 [==============================] - 1s 1us/step - loss: 3.1742 - val_loss: 3.4830\n",
      "Epoch 2/20\n",
      "728008/728008 [==============================] - 1s 1us/step - loss: 3.1724 - val_loss: 3.4813\n",
      "Epoch 3/20\n",
      "728008/728008 [==============================] - 1s 1us/step - loss: 3.1706 - val_loss: 3.4796\n",
      "Epoch 4/20\n",
      "728008/728008 [==============================] - 1s 1us/step - loss: 3.1688 - val_loss: 3.4779\n",
      "Epoch 5/20\n",
      "728008/728008 [==============================] - 1s 1us/step - loss: 3.1670 - val_loss: 3.4764\n",
      "Epoch 6/20\n",
      "728008/728008 [==============================] - 1s 1us/step - loss: 3.1653 - val_loss: 3.4748\n",
      "Epoch 7/20\n",
      "728008/728008 [==============================] - 1s 1us/step - loss: 3.1636 - val_loss: 3.4732\n",
      "Epoch 8/20\n",
      "728008/728008 [==============================] - 1s 1us/step - loss: 3.1619 - val_loss: 3.4717\n",
      "Epoch 9/20\n",
      "728008/728008 [==============================] - 1s 1us/step - loss: 3.1603 - val_loss: 3.4700\n",
      "Epoch 10/20\n",
      "728008/728008 [==============================] - 1s 1us/step - loss: 3.1587 - val_loss: 3.4685\n",
      "Epoch 11/20\n",
      "728008/728008 [==============================] - 1s 1us/step - loss: 3.1571 - val_loss: 3.4670\n",
      "Epoch 12/20\n",
      "728008/728008 [==============================] - 1s 1us/step - loss: 3.1556 - val_loss: 3.4657\n",
      "Epoch 13/20\n",
      "728008/728008 [==============================] - 1s 1us/step - loss: 3.1540 - val_loss: 3.4642\n",
      "Epoch 14/20\n",
      "728008/728008 [==============================] - 1s 1us/step - loss: 3.1525 - val_loss: 3.4628\n",
      "Epoch 15/20\n",
      "728008/728008 [==============================] - 1s 1us/step - loss: 3.1511 - val_loss: 3.4613\n",
      "Epoch 16/20\n",
      "728008/728008 [==============================] - 1s 1us/step - loss: 3.1496 - val_loss: 3.4599\n",
      "Epoch 17/20\n",
      "728008/728008 [==============================] - 1s 1us/step - loss: 3.1482 - val_loss: 3.4585\n",
      "Epoch 18/20\n",
      "728008/728008 [==============================] - 1s 1us/step - loss: 3.1468 - val_loss: 3.4572\n",
      "Epoch 19/20\n",
      "728008/728008 [==============================] - 1s 1us/step - loss: 3.1454 - val_loss: 3.4558\n",
      "Epoch 20/20\n",
      "728008/728008 [==============================] - 1s 1us/step - loss: 3.1441 - val_loss: 3.4544\n"
     ]
    },
    {
     "data": {
      "text/plain": [
       "<keras.callbacks.History at 0x7fdacef6fc18>"
      ]
     },
     "execution_count": 217,
     "metadata": {},
     "output_type": "execute_result"
    }
   ],
   "source": [
    "nn.fit(X_train, y_train, 10_000, epochs=20, validation_data=(X_valid, y_valid),\n",
    "           verbose=1)"
   ]
  },
  {
   "cell_type": "code",
   "execution_count": 212,
   "metadata": {},
   "outputs": [
    {
     "name": "stdout",
     "output_type": "stream",
     "text": [
      "180849/180849 [==============================] - 8s 42us/step\n"
     ]
    },
    {
     "data": {
      "text/plain": [
       "3.4795644690935355"
      ]
     },
     "execution_count": 212,
     "metadata": {},
     "output_type": "execute_result"
    }
   ],
   "source": [
    "nn.evaluate(X_valid, y_valid)"
   ]
  },
  {
   "cell_type": "code",
   "execution_count": 218,
   "metadata": {},
   "outputs": [],
   "source": [
    "nn = Sequential([\n",
    "    Dense(256, input_shape=(22,), activation='relu'),\n",
    "    Dense(1, activation='linear')\n",
    "])"
   ]
  },
  {
   "cell_type": "code",
   "execution_count": 219,
   "metadata": {},
   "outputs": [],
   "source": [
    "nn.compile(Adam(1e-3), 'mse')"
   ]
  },
  {
   "cell_type": "code",
   "execution_count": 220,
   "metadata": {},
   "outputs": [
    {
     "name": "stdout",
     "output_type": "stream",
     "text": [
      "Train on 728008 samples, validate on 180849 samples\n",
      "Epoch 1/20\n",
      "728008/728008 [==============================] - 4s 5us/step - loss: 9.1148 - val_loss: 3.3697\n",
      "Epoch 2/20\n",
      "728008/728008 [==============================] - 4s 5us/step - loss: 2.8341 - val_loss: 3.0477\n",
      "Epoch 3/20\n",
      "728008/728008 [==============================] - 4s 5us/step - loss: 2.6524 - val_loss: 2.9593\n",
      "Epoch 4/20\n",
      "728008/728008 [==============================] - 4s 5us/step - loss: 2.5806 - val_loss: 2.9718\n",
      "Epoch 5/20\n",
      "728008/728008 [==============================] - 4s 5us/step - loss: 2.5322 - val_loss: 2.9573\n",
      "Epoch 6/20\n",
      "728008/728008 [==============================] - 4s 5us/step - loss: 2.4949 - val_loss: 2.8919\n",
      "Epoch 7/20\n",
      "728008/728008 [==============================] - 4s 5us/step - loss: 2.4619 - val_loss: 2.9038\n",
      "Epoch 8/20\n",
      "728008/728008 [==============================] - 4s 5us/step - loss: 2.4326 - val_loss: 2.9055\n",
      "Epoch 9/20\n",
      "728008/728008 [==============================] - 4s 5us/step - loss: 2.4087 - val_loss: 2.9244\n",
      "Epoch 10/20\n",
      "728008/728008 [==============================] - 4s 5us/step - loss: 2.3845 - val_loss: 2.8918\n",
      "Epoch 11/20\n",
      "728008/728008 [==============================] - 4s 5us/step - loss: 2.3647 - val_loss: 2.8782\n",
      "Epoch 12/20\n",
      "728008/728008 [==============================] - 4s 5us/step - loss: 2.3466 - val_loss: 2.9107\n",
      "Epoch 13/20\n",
      "728008/728008 [==============================] - 4s 5us/step - loss: 2.3319 - val_loss: 2.8951\n",
      "Epoch 14/20\n",
      "728008/728008 [==============================] - 4s 5us/step - loss: 2.3174 - val_loss: 2.9103\n",
      "Epoch 15/20\n",
      "728008/728008 [==============================] - 4s 5us/step - loss: 2.3037 - val_loss: 2.8836\n",
      "Epoch 16/20\n",
      "728008/728008 [==============================] - 4s 5us/step - loss: 2.2919 - val_loss: 2.8997\n",
      "Epoch 17/20\n",
      "728008/728008 [==============================] - 4s 5us/step - loss: 2.2813 - val_loss: 2.9060\n",
      "Epoch 18/20\n",
      "728008/728008 [==============================] - 4s 5us/step - loss: 2.2719 - val_loss: 2.9212\n",
      "Epoch 19/20\n",
      "728008/728008 [==============================] - 4s 5us/step - loss: 2.2634 - val_loss: 2.9525\n",
      "Epoch 20/20\n",
      "728008/728008 [==============================] - 4s 5us/step - loss: 2.2534 - val_loss: 2.9067\n"
     ]
    },
    {
     "data": {
      "text/plain": [
       "<keras.callbacks.History at 0x7fdacc0b0c88>"
      ]
     },
     "execution_count": 220,
     "metadata": {},
     "output_type": "execute_result"
    }
   ],
   "source": [
    "nn.fit(X_train, y_train, 1024, epochs=20, validation_data=(X_valid, y_valid),\n",
    "       verbose=1)"
   ]
  },
  {
   "cell_type": "code",
   "execution_count": 221,
   "metadata": {},
   "outputs": [],
   "source": [
    "nn = Sequential([\n",
    "    Dense(256, input_shape=(22,), activation='relu'),\n",
    "    Dropout(0.3),\n",
    "    Dense(1, activation='linear')\n",
    "])"
   ]
  },
  {
   "cell_type": "code",
   "execution_count": 222,
   "metadata": {},
   "outputs": [],
   "source": [
    "nn.compile(Adam(1e-3), 'mse')"
   ]
  },
  {
   "cell_type": "code",
   "execution_count": 223,
   "metadata": {},
   "outputs": [
    {
     "name": "stdout",
     "output_type": "stream",
     "text": [
      "Train on 728008 samples, validate on 180849 samples\n",
      "Epoch 1/20\n",
      "728008/728008 [==============================] - 4s 6us/step - loss: 9.3080 - val_loss: 3.4853\n",
      "Epoch 2/20\n",
      "728008/728008 [==============================] - 4s 6us/step - loss: 3.4758 - val_loss: 3.0932\n",
      "Epoch 3/20\n",
      "728008/728008 [==============================] - 4s 6us/step - loss: 3.2129 - val_loss: 3.0253\n",
      "Epoch 4/20\n",
      "728008/728008 [==============================] - 4s 6us/step - loss: 3.1162 - val_loss: 2.9765\n",
      "Epoch 5/20\n",
      "728008/728008 [==============================] - 4s 6us/step - loss: 3.0556 - val_loss: 2.9563\n",
      "Epoch 6/20\n",
      "728008/728008 [==============================] - 4s 6us/step - loss: 3.0292 - val_loss: 2.9401\n",
      "Epoch 7/20\n",
      "728008/728008 [==============================] - 4s 6us/step - loss: 3.0022 - val_loss: 2.9595\n",
      "Epoch 8/20\n",
      "728008/728008 [==============================] - 4s 6us/step - loss: 2.9747 - val_loss: 2.9306\n",
      "Epoch 9/20\n",
      "728008/728008 [==============================] - 4s 6us/step - loss: 2.9595 - val_loss: 2.9277\n",
      "Epoch 10/20\n",
      "728008/728008 [==============================] - 4s 6us/step - loss: 2.9447 - val_loss: 2.9283\n",
      "Epoch 11/20\n",
      "728008/728008 [==============================] - 4s 6us/step - loss: 2.9251 - val_loss: 2.9544\n",
      "Epoch 12/20\n",
      "728008/728008 [==============================] - 4s 6us/step - loss: 2.9143 - val_loss: 2.9168\n",
      "Epoch 13/20\n",
      "728008/728008 [==============================] - 4s 6us/step - loss: 2.8990 - val_loss: 2.9497\n",
      "Epoch 14/20\n",
      "728008/728008 [==============================] - 4s 6us/step - loss: 2.8820 - val_loss: 2.9035\n",
      "Epoch 15/20\n",
      "728008/728008 [==============================] - 4s 6us/step - loss: 2.8729 - val_loss: 2.8926\n",
      "Epoch 16/20\n",
      "728008/728008 [==============================] - 4s 6us/step - loss: 2.8647 - val_loss: 2.8889\n",
      "Epoch 17/20\n",
      "728008/728008 [==============================] - 4s 6us/step - loss: 2.8596 - val_loss: 2.8838\n",
      "Epoch 18/20\n",
      "728008/728008 [==============================] - 4s 6us/step - loss: 2.8479 - val_loss: 2.8885\n",
      "Epoch 19/20\n",
      "728008/728008 [==============================] - 4s 6us/step - loss: 2.8410 - val_loss: 2.8918\n",
      "Epoch 20/20\n",
      "728008/728008 [==============================] - 4s 6us/step - loss: 2.8371 - val_loss: 2.9175\n"
     ]
    },
    {
     "data": {
      "text/plain": [
       "<keras.callbacks.History at 0x7fda9811e438>"
      ]
     },
     "execution_count": 223,
     "metadata": {},
     "output_type": "execute_result"
    }
   ],
   "source": [
    "nn.fit(X_train, y_train, 1024, epochs=20, validation_data=(X_valid, y_valid),\n",
    "       verbose=1)"
   ]
  },
  {
   "cell_type": "code",
   "execution_count": null,
   "metadata": {},
   "outputs": [],
   "source": []
  }
 ],
 "metadata": {
  "kernelspec": {
   "display_name": "Python 3",
   "language": "python",
   "name": "python3"
  },
  "language_info": {
   "codemirror_mode": {
    "name": "ipython",
    "version": 3
   },
   "file_extension": ".py",
   "mimetype": "text/x-python",
   "name": "python",
   "nbconvert_exporter": "python",
   "pygments_lexer": "ipython3",
   "version": "3.6.5"
  },
  "toc": {
   "base_numbering": 1,
   "nav_menu": {},
   "number_sections": true,
   "sideBar": false,
   "skip_h1_title": true,
   "title_cell": "Table of Contents",
   "title_sidebar": "Contents",
   "toc_cell": false,
   "toc_position": {},
   "toc_section_display": true,
   "toc_window_display": false
  }
 },
 "nbformat": 4,
 "nbformat_minor": 2
}
