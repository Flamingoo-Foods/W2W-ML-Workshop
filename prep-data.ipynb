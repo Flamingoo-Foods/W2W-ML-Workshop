{
 "cells": [
  {
   "cell_type": "markdown",
   "metadata": {
    "toc": true
   },
   "source": [
    "<h1>Table of Contents<span class=\"tocSkip\"></span></h1>\n",
    "<div class=\"toc\"><ul class=\"toc-item\"><li><span><a href=\"#Load-and-preprocess-the-data\" data-toc-modified-id=\"Load-and-preprocess-the-data-1\"><span class=\"toc-item-num\">1&nbsp;&nbsp;</span>Load and preprocess the data</a></span></li><li><span><a href=\"#Split-into-train-and-test-datasets\" data-toc-modified-id=\"Split-into-train-and-test-datasets-2\"><span class=\"toc-item-num\">2&nbsp;&nbsp;</span>Split into train and test datasets</a></span></li></ul></div>"
   ]
  },
  {
   "cell_type": "markdown",
   "metadata": {},
   "source": [
    "# Preprocessing for Post-Processing data\n",
    "\n",
    "The raw data was already interpolated by Sebastian Lerch."
   ]
  },
  {
   "cell_type": "code",
   "execution_count": 1,
   "metadata": {},
   "outputs": [],
   "source": [
    "import xarray as xr\n",
    "import numpy as np\n",
    "import pandas as pd\n",
    "from pathlib import Path\n",
    "from collections import OrderedDict"
   ]
  },
  {
   "cell_type": "code",
   "execution_count": 2,
   "metadata": {},
   "outputs": [],
   "source": [
    "RAWDATA = Path('/project/meteo/w2w/C7/ppnn_data/')\n",
    "AUXDATA = RAWDATA / 'auxiliary/interpolated_to_stations/'\n",
    "PATH = Path('/local/S.Rasp/ML-Workshop-Data'); PATH.mkdir(exist_ok=True)"
   ]
  },
  {
   "cell_type": "code",
   "execution_count": 3,
   "metadata": {},
   "outputs": [],
   "source": [
    "# Define aux variable dictionary\n",
    "aux_dict = OrderedDict()\n",
    "aux_dict['data_aux_geo_interpolated.nc'] = ['orog', \n",
    "                                            'station_alt', \n",
    "                                            'station_lat', \n",
    "                                            'station_lon']\n",
    "aux_dict['data_aux_pl500_interpolated_00UTC.nc'] = ['u_pl500_fc',\n",
    "                                                    'v_pl500_fc',\n",
    "                                                    'gh_pl500_fc']\n",
    "aux_dict['data_aux_pl850_interpolated_00UTC.nc'] = ['u_pl850_fc',\n",
    "                                                    'v_pl850_fc',\n",
    "                                                    'q_pl850_fc']\n",
    "aux_dict['data_aux_surface_interpolated_00UTC.nc'] = ['cape_fc',\n",
    "                                                      'sp_fc',\n",
    "                                                      'tcc_fc']\n",
    "aux_dict['data_aux_surface_more_interpolated_part1_00UTC.nc']  = [\n",
    "    'sshf_fc', 'slhf_fc', 'u10_fc','v10_fc'\n",
    "]\n",
    "aux_dict['data_aux_surface_more_interpolated_part2_00UTC.nc']  = [\n",
    "    'ssr_fc', 'str_fc', 'd2m_fc','sm_fc'\n",
    "]"
   ]
  },
  {
   "cell_type": "markdown",
   "metadata": {},
   "source": [
    "## Load and preprocess the data"
   ]
  },
  {
   "cell_type": "code",
   "execution_count": 4,
   "metadata": {},
   "outputs": [],
   "source": [
    "ds = xr.open_dataset(RAWDATA / 'data_interpolated_00UTC.nc')"
   ]
  },
  {
   "cell_type": "code",
   "execution_count": 5,
   "metadata": {},
   "outputs": [
    {
     "data": {
      "text/plain": [
       "<xarray.Dataset>\n",
       "Dimensions:      (member: 50, station: 537, time: 3653)\n",
       "Coordinates:\n",
       "  * station      (station) float64 3.0 44.0 71.0 73.0 78.0 91.0 102.0 125.0 ...\n",
       "  * member       (member) int32 1 2 3 4 5 6 7 8 9 10 11 12 13 14 15 16 17 18 ...\n",
       "  * time         (time) datetime64[ns] 2007-01-03 2007-01-04 2007-01-05 ...\n",
       "Data variables:\n",
       "    t2m_fc       (time, member, station) float32 ...\n",
       "    t2m_obs      (time, station) float32 ...\n",
       "    station_alt  (station) float32 ...\n",
       "    station_lat  (station) float32 ...\n",
       "    station_lon  (station) float32 ...\n",
       "    station_id   (station) float32 ...\n",
       "    station_loc  (station) |S36 ..."
      ]
     },
     "execution_count": 5,
     "metadata": {},
     "output_type": "execute_result"
    }
   ],
   "source": [
    "ds"
   ]
  },
  {
   "cell_type": "code",
   "execution_count": 6,
   "metadata": {},
   "outputs": [
    {
     "data": {
      "text/plain": [
       "(3653, 537)"
      ]
     },
     "execution_count": 6,
     "metadata": {},
     "output_type": "execute_result"
    }
   ],
   "source": [
    "target = ds['t2m_obs']; target.shape"
   ]
  },
  {
   "cell_type": "code",
   "execution_count": 7,
   "metadata": {},
   "outputs": [],
   "source": [
    "ntime = len(ds.time); ntime\n",
    "dates = ds['time']\n",
    "date_array = np.repeat(np.array(dates), len(ds.station)).reshape(-1)"
   ]
  },
  {
   "cell_type": "code",
   "execution_count": 8,
   "metadata": {},
   "outputs": [
    {
     "data": {
      "text/plain": [
       "array([3.0000e+00, 4.4000e+01, 7.1000e+01, ..., 1.5207e+04, 1.5444e+04,\n",
       "       1.5555e+04])"
      ]
     },
     "execution_count": 8,
     "metadata": {},
     "output_type": "execute_result"
    }
   ],
   "source": [
    "stations = np.tile(np.array(ds.station), len(ds.time)); stations"
   ]
  },
  {
   "cell_type": "code",
   "execution_count": 9,
   "metadata": {},
   "outputs": [],
   "source": [
    "df = pd.DataFrame(data=np.array(ds['t2m_obs']).reshape(-1), \n",
    "                  columns=['t2m_obs'])"
   ]
  },
  {
   "cell_type": "code",
   "execution_count": 10,
   "metadata": {},
   "outputs": [],
   "source": [
    "df['time'] = date_array\n",
    "df['station'] = stations.astype('int')\n",
    "df['t2m_fc_mean'] = np.array(ds['t2m_fc'].mean('member')).reshape(-1)"
   ]
  },
  {
   "cell_type": "code",
   "execution_count": 11,
   "metadata": {},
   "outputs": [],
   "source": [
    "for aux_fn, var_list in aux_dict.items():\n",
    "    ds = xr.open_dataset(AUXDATA / aux_fn)\n",
    "    for var in var_list:\n",
    "        data = ds[var]\n",
    "        if 'geo' in aux_fn: \n",
    "            df[var] = np.tile(data, ntime)\n",
    "        else:\n",
    "            df[var + '_mean'] = np.array(ds[var].mean('member')).reshape(-1)\n",
    "    ds.close()"
   ]
  },
  {
   "cell_type": "code",
   "execution_count": 12,
   "metadata": {},
   "outputs": [
    {
     "data": {
      "text/html": [
       "<div>\n",
       "<style scoped>\n",
       "    .dataframe tbody tr th:only-of-type {\n",
       "        vertical-align: middle;\n",
       "    }\n",
       "\n",
       "    .dataframe tbody tr th {\n",
       "        vertical-align: top;\n",
       "    }\n",
       "\n",
       "    .dataframe thead th {\n",
       "        text-align: right;\n",
       "    }\n",
       "</style>\n",
       "<table border=\"1\" class=\"dataframe\">\n",
       "  <thead>\n",
       "    <tr style=\"text-align: right;\">\n",
       "      <th></th>\n",
       "      <th>t2m_obs</th>\n",
       "      <th>time</th>\n",
       "      <th>station</th>\n",
       "      <th>t2m_fc_mean</th>\n",
       "      <th>orog</th>\n",
       "      <th>station_alt</th>\n",
       "      <th>station_lat</th>\n",
       "      <th>station_lon</th>\n",
       "      <th>u_pl500_fc_mean</th>\n",
       "      <th>v_pl500_fc_mean</th>\n",
       "      <th>...</th>\n",
       "      <th>sp_fc_mean</th>\n",
       "      <th>tcc_fc_mean</th>\n",
       "      <th>sshf_fc_mean</th>\n",
       "      <th>slhf_fc_mean</th>\n",
       "      <th>u10_fc_mean</th>\n",
       "      <th>v10_fc_mean</th>\n",
       "      <th>ssr_fc_mean</th>\n",
       "      <th>str_fc_mean</th>\n",
       "      <th>d2m_fc_mean</th>\n",
       "      <th>sm_fc_mean</th>\n",
       "    </tr>\n",
       "  </thead>\n",
       "  <tbody>\n",
       "    <tr>\n",
       "      <th>0</th>\n",
       "      <td>5.5</td>\n",
       "      <td>2007-01-03</td>\n",
       "      <td>3</td>\n",
       "      <td>3.616448</td>\n",
       "      <td>107.439461</td>\n",
       "      <td>202.0</td>\n",
       "      <td>50.782700</td>\n",
       "      <td>6.0941</td>\n",
       "      <td>10.333423</td>\n",
       "      <td>-27.884222</td>\n",
       "      <td>...</td>\n",
       "      <td>101263.789062</td>\n",
       "      <td>46.793514</td>\n",
       "      <td>9866006.0</td>\n",
       "      <td>-6164262.5</td>\n",
       "      <td>5.054003</td>\n",
       "      <td>-0.848896</td>\n",
       "      <td>1861487.000</td>\n",
       "      <td>-7590969.50</td>\n",
       "      <td>275.956665</td>\n",
       "      <td>318.990753</td>\n",
       "    </tr>\n",
       "    <tr>\n",
       "      <th>1</th>\n",
       "      <td>NaN</td>\n",
       "      <td>2007-01-03</td>\n",
       "      <td>44</td>\n",
       "      <td>5.326972</td>\n",
       "      <td>19.397774</td>\n",
       "      <td>44.0</td>\n",
       "      <td>52.933498</td>\n",
       "      <td>8.2370</td>\n",
       "      <td>11.717821</td>\n",
       "      <td>-23.355730</td>\n",
       "      <td>...</td>\n",
       "      <td>101706.960938</td>\n",
       "      <td>50.656349</td>\n",
       "      <td>10608149.0</td>\n",
       "      <td>-6289582.5</td>\n",
       "      <td>5.666816</td>\n",
       "      <td>-2.543470</td>\n",
       "      <td>1745525.000</td>\n",
       "      <td>-8024813.50</td>\n",
       "      <td>275.589539</td>\n",
       "      <td>329.971558</td>\n",
       "    </tr>\n",
       "    <tr>\n",
       "      <th>2</th>\n",
       "      <td>NaN</td>\n",
       "      <td>2007-01-03</td>\n",
       "      <td>71</td>\n",
       "      <td>1.330994</td>\n",
       "      <td>604.885010</td>\n",
       "      <td>759.0</td>\n",
       "      <td>48.215599</td>\n",
       "      <td>8.9784</td>\n",
       "      <td>5.802729</td>\n",
       "      <td>-23.275192</td>\n",
       "      <td>...</td>\n",
       "      <td>95306.609375</td>\n",
       "      <td>99.445724</td>\n",
       "      <td>6686426.0</td>\n",
       "      <td>-3214789.5</td>\n",
       "      <td>6.217418</td>\n",
       "      <td>-1.659253</td>\n",
       "      <td>1484513.500</td>\n",
       "      <td>-3518493.75</td>\n",
       "      <td>273.963257</td>\n",
       "      <td>330.582886</td>\n",
       "    </tr>\n",
       "    <tr>\n",
       "      <th>3</th>\n",
       "      <td>NaN</td>\n",
       "      <td>2007-01-03</td>\n",
       "      <td>73</td>\n",
       "      <td>0.931550</td>\n",
       "      <td>461.441803</td>\n",
       "      <td>340.0</td>\n",
       "      <td>48.615898</td>\n",
       "      <td>13.0506</td>\n",
       "      <td>9.302703</td>\n",
       "      <td>-15.081739</td>\n",
       "      <td>...</td>\n",
       "      <td>96477.117188</td>\n",
       "      <td>94.537903</td>\n",
       "      <td>10196744.0</td>\n",
       "      <td>-4350500.5</td>\n",
       "      <td>6.793214</td>\n",
       "      <td>-0.926134</td>\n",
       "      <td>1445791.875</td>\n",
       "      <td>-4134411.50</td>\n",
       "      <td>273.610229</td>\n",
       "      <td>320.794128</td>\n",
       "    </tr>\n",
       "    <tr>\n",
       "      <th>4</th>\n",
       "      <td>2.9</td>\n",
       "      <td>2007-01-03</td>\n",
       "      <td>78</td>\n",
       "      <td>4.601282</td>\n",
       "      <td>47.632523</td>\n",
       "      <td>65.0</td>\n",
       "      <td>52.485298</td>\n",
       "      <td>7.9126</td>\n",
       "      <td>10.355705</td>\n",
       "      <td>-24.361713</td>\n",
       "      <td>...</td>\n",
       "      <td>101463.531250</td>\n",
       "      <td>48.161633</td>\n",
       "      <td>9816424.0</td>\n",
       "      <td>-6129773.5</td>\n",
       "      <td>5.389324</td>\n",
       "      <td>-1.514338</td>\n",
       "      <td>1738551.375</td>\n",
       "      <td>-7482309.00</td>\n",
       "      <td>275.529633</td>\n",
       "      <td>325.635437</td>\n",
       "    </tr>\n",
       "  </tbody>\n",
       "</table>\n",
       "<p>5 rows × 25 columns</p>\n",
       "</div>"
      ],
      "text/plain": [
       "   t2m_obs       time  station  t2m_fc_mean        orog  station_alt  \\\n",
       "0      5.5 2007-01-03        3     3.616448  107.439461        202.0   \n",
       "1      NaN 2007-01-03       44     5.326972   19.397774         44.0   \n",
       "2      NaN 2007-01-03       71     1.330994  604.885010        759.0   \n",
       "3      NaN 2007-01-03       73     0.931550  461.441803        340.0   \n",
       "4      2.9 2007-01-03       78     4.601282   47.632523         65.0   \n",
       "\n",
       "   station_lat  station_lon  u_pl500_fc_mean  v_pl500_fc_mean     ...      \\\n",
       "0    50.782700       6.0941        10.333423       -27.884222     ...       \n",
       "1    52.933498       8.2370        11.717821       -23.355730     ...       \n",
       "2    48.215599       8.9784         5.802729       -23.275192     ...       \n",
       "3    48.615898      13.0506         9.302703       -15.081739     ...       \n",
       "4    52.485298       7.9126        10.355705       -24.361713     ...       \n",
       "\n",
       "      sp_fc_mean  tcc_fc_mean  sshf_fc_mean  slhf_fc_mean  u10_fc_mean  \\\n",
       "0  101263.789062    46.793514     9866006.0    -6164262.5     5.054003   \n",
       "1  101706.960938    50.656349    10608149.0    -6289582.5     5.666816   \n",
       "2   95306.609375    99.445724     6686426.0    -3214789.5     6.217418   \n",
       "3   96477.117188    94.537903    10196744.0    -4350500.5     6.793214   \n",
       "4  101463.531250    48.161633     9816424.0    -6129773.5     5.389324   \n",
       "\n",
       "   v10_fc_mean  ssr_fc_mean  str_fc_mean  d2m_fc_mean  sm_fc_mean  \n",
       "0    -0.848896  1861487.000  -7590969.50   275.956665  318.990753  \n",
       "1    -2.543470  1745525.000  -8024813.50   275.589539  329.971558  \n",
       "2    -1.659253  1484513.500  -3518493.75   273.963257  330.582886  \n",
       "3    -0.926134  1445791.875  -4134411.50   273.610229  320.794128  \n",
       "4    -1.514338  1738551.375  -7482309.00   275.529633  325.635437  \n",
       "\n",
       "[5 rows x 25 columns]"
      ]
     },
     "execution_count": 12,
     "metadata": {},
     "output_type": "execute_result"
    }
   ],
   "source": [
    "df.head()"
   ]
  },
  {
   "cell_type": "code",
   "execution_count": 13,
   "metadata": {},
   "outputs": [],
   "source": [
    "df.to_csv(PATH / 'pp_all.csv', index=False)"
   ]
  },
  {
   "cell_type": "markdown",
   "metadata": {},
   "source": [
    "## Split into train and test datasets"
   ]
  },
  {
   "cell_type": "code",
   "execution_count": 14,
   "metadata": {},
   "outputs": [],
   "source": [
    "df_train = df[(df.time >= '2011-01-01') & (df.time < '2016-01-01')]"
   ]
  },
  {
   "cell_type": "code",
   "execution_count": 15,
   "metadata": {},
   "outputs": [
    {
     "data": {
      "text/plain": [
       "980562"
      ]
     },
     "execution_count": 15,
     "metadata": {},
     "output_type": "execute_result"
    }
   ],
   "source": [
    "len(df_train)"
   ]
  },
  {
   "cell_type": "code",
   "execution_count": 32,
   "metadata": {},
   "outputs": [],
   "source": [
    "df_test = df[(df.time >= '2016-01-01') & (df.time < '2017-01-01')]"
   ]
  },
  {
   "cell_type": "code",
   "execution_count": 35,
   "metadata": {},
   "outputs": [
    {
     "name": "stderr",
     "output_type": "stream",
     "text": [
      "/home/s/S.Rasp/miniconda3/lib/python3.6/site-packages/ipykernel_launcher.py:1: SettingWithCopyWarning: \n",
      "A value is trying to be set on a copy of a slice from a DataFrame\n",
      "\n",
      "See the caveats in the documentation: http://pandas.pydata.org/pandas-docs/stable/indexing.html#indexing-view-versus-copy\n",
      "  \"\"\"Entry point for launching an IPython kernel.\n"
     ]
    }
   ],
   "source": [
    "df_test.dropna(subset=['t2m_obs'], inplace=True)"
   ]
  },
  {
   "cell_type": "code",
   "execution_count": 36,
   "metadata": {},
   "outputs": [
    {
     "data": {
      "text/plain": [
       "182218"
      ]
     },
     "execution_count": 36,
     "metadata": {},
     "output_type": "execute_result"
    }
   ],
   "source": [
    "len(df_test)"
   ]
  },
  {
   "cell_type": "code",
   "execution_count": 41,
   "metadata": {},
   "outputs": [],
   "source": [
    "df_train.index = range(len(df_train))"
   ]
  },
  {
   "cell_type": "code",
   "execution_count": 42,
   "metadata": {},
   "outputs": [],
   "source": [
    "df_train.to_csv(PATH / 'pp_train.csv')"
   ]
  },
  {
   "cell_type": "code",
   "execution_count": 37,
   "metadata": {},
   "outputs": [],
   "source": [
    "df_test.index = range(len(df_test))"
   ]
  },
  {
   "cell_type": "code",
   "execution_count": 38,
   "metadata": {},
   "outputs": [],
   "source": [
    "df_solution = df_test['t2m_obs']"
   ]
  },
  {
   "cell_type": "code",
   "execution_count": 39,
   "metadata": {},
   "outputs": [],
   "source": [
    "df_solution.to_csv(PATH / 'pp_solution.csv')"
   ]
  },
  {
   "cell_type": "code",
   "execution_count": 40,
   "metadata": {},
   "outputs": [],
   "source": [
    "df_test.drop('t2m_obs', axis=1).to_csv(PATH / 'pp_test.csv')"
   ]
  },
  {
   "cell_type": "code",
   "execution_count": 49,
   "metadata": {},
   "outputs": [
    {
     "name": "stdout",
     "output_type": "stream",
     "text": [
      "total 714M\r\n",
      "-rw-r--r-- 1 S.Rasp ls-craig 440M Jul 26 15:29 pp_all.csv\r\n",
      "-rw-r--r-- 1 S.Rasp ls-craig 4.5M Jul 26 16:23 pp_sample_submission.csv\r\n",
      "-rw-r--r-- 1 S.Rasp ls-craig 1.9M Jul 26 15:46 pp_solution.csv\r\n",
      "-rw-r--r-- 1 S.Rasp ls-craig  42M Jul 26 15:46 pp_test.csv\r\n",
      "-rw-r--r-- 1 S.Rasp ls-craig 226M Jul 26 15:48 pp_train.csv\r\n"
     ]
    }
   ],
   "source": [
    "!ls -lh $PATH"
   ]
  },
  {
   "cell_type": "code",
   "execution_count": 43,
   "metadata": {},
   "outputs": [
    {
     "data": {
      "text/plain": [
       "0    4.3\n",
       "1    3.3\n",
       "2   -0.8\n",
       "3    3.2\n",
       "4    3.5\n",
       "Name: t2m_obs, dtype: float32"
      ]
     },
     "execution_count": 43,
     "metadata": {},
     "output_type": "execute_result"
    }
   ],
   "source": [
    "df_solution.head()"
   ]
  },
  {
   "cell_type": "code",
   "execution_count": 44,
   "metadata": {},
   "outputs": [],
   "source": [
    "sample = df_solution.copy()"
   ]
  },
  {
   "cell_type": "code",
   "execution_count": 46,
   "metadata": {},
   "outputs": [],
   "source": [
    "sample[:] = np.random.rand(len(sample))"
   ]
  },
  {
   "cell_type": "code",
   "execution_count": 48,
   "metadata": {},
   "outputs": [],
   "source": [
    "sample.to_csv(PATH / 'pp_sample_submission.csv')"
   ]
  },
  {
   "cell_type": "code",
   "execution_count": null,
   "metadata": {},
   "outputs": [],
   "source": []
  }
 ],
 "metadata": {
  "kernelspec": {
   "display_name": "Python 3",
   "language": "python",
   "name": "python3"
  },
  "language_info": {
   "codemirror_mode": {
    "name": "ipython",
    "version": 3
   },
   "file_extension": ".py",
   "mimetype": "text/x-python",
   "name": "python",
   "nbconvert_exporter": "python",
   "pygments_lexer": "ipython3",
   "version": "3.6.5"
  },
  "toc": {
   "base_numbering": 1,
   "nav_menu": {},
   "number_sections": true,
   "sideBar": true,
   "skip_h1_title": true,
   "title_cell": "Table of Contents",
   "title_sidebar": "Contents",
   "toc_cell": true,
   "toc_position": {},
   "toc_section_display": true,
   "toc_window_display": false
  }
 },
 "nbformat": 4,
 "nbformat_minor": 2
}
