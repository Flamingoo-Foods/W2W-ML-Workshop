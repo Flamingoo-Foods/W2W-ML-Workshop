{
 "cells": [
  {
   "cell_type": "markdown",
   "metadata": {},
   "source": [
    "# Notebook 3: Neural networks with Keras\n",
    "\n",
    "On to the most exciting machine learning technique: Neural networks. as you will see they are just as easy to use as the sklearn methods."
   ]
  },
  {
   "cell_type": "code",
   "execution_count": 1,
   "metadata": {},
   "outputs": [],
   "source": [
    "import pickle\n",
    "import matplotlib.pyplot as plt\n",
    "%matplotlib inline\n",
    "import numpy as np\n",
    "import pandas as pd\n",
    "import seaborn as sns"
   ]
  },
  {
   "cell_type": "code",
   "execution_count": 2,
   "metadata": {},
   "outputs": [],
   "source": [
    "# Load the data\n",
    "with open('./data/preproc_data.pkl', 'rb') as f:\n",
    "    X_train, y_train, X_valid, y_valid, X_test = pickle.load(f)\n",
    "with open('./data/df_train.pkl', 'rb') as f:\n",
    "    df_train = pickle.load(f)"
   ]
  },
  {
   "cell_type": "markdown",
   "metadata": {},
   "source": [
    "## Linear regression: The Keras way"
   ]
  },
  {
   "cell_type": "code",
   "execution_count": 3,
   "metadata": {},
   "outputs": [
    {
     "name": "stderr",
     "output_type": "stream",
     "text": [
      "Using TensorFlow backend.\n"
     ]
    }
   ],
   "source": [
    "from keras.models import Sequential\n",
    "from keras.layers import *\n",
    "from keras.optimizers import SGD, Adam"
   ]
  },
  {
   "cell_type": "code",
   "execution_count": 4,
   "metadata": {},
   "outputs": [
    {
     "data": {
      "text/plain": [
       "(728008, 22)"
      ]
     },
     "execution_count": 4,
     "metadata": {},
     "output_type": "execute_result"
    }
   ],
   "source": [
    "X_train.shape"
   ]
  },
  {
   "cell_type": "code",
   "execution_count": 33,
   "metadata": {},
   "outputs": [],
   "source": [
    "ln = Sequential([Dense(1, input_shape=(22,), activation='linear')])"
   ]
  },
  {
   "cell_type": "code",
   "execution_count": 34,
   "metadata": {},
   "outputs": [
    {
     "name": "stdout",
     "output_type": "stream",
     "text": [
      "_________________________________________________________________\n",
      "Layer (type)                 Output Shape              Param #   \n",
      "=================================================================\n",
      "dense_5 (Dense)              (None, 1)                 23        \n",
      "=================================================================\n",
      "Total params: 23\n",
      "Trainable params: 23\n",
      "Non-trainable params: 0\n",
      "_________________________________________________________________\n"
     ]
    }
   ],
   "source": [
    "ln.summary()"
   ]
  },
  {
   "cell_type": "code",
   "execution_count": 35,
   "metadata": {},
   "outputs": [],
   "source": [
    "ln.compile(Adam(1e-1), 'mse')"
   ]
  },
  {
   "cell_type": "code",
   "execution_count": 36,
   "metadata": {},
   "outputs": [
    {
     "name": "stdout",
     "output_type": "stream",
     "text": [
      "Train on 728008 samples, validate on 180849 samples\n",
      "Epoch 1/12\n",
      "728008/728008 [==============================] - 1s 1us/step - loss: 27.4319 - val_loss: 6.8245\n",
      "Epoch 2/12\n",
      "728008/728008 [==============================] - 1s 1us/step - loss: 3.8454 - val_loss: 3.5604\n",
      "Epoch 3/12\n",
      "728008/728008 [==============================] - 1s 1us/step - loss: 3.1538 - val_loss: 3.4450\n",
      "Epoch 4/12\n",
      "728008/728008 [==============================] - 1s 1us/step - loss: 3.0922 - val_loss: 3.3622\n",
      "Epoch 5/12\n",
      "728008/728008 [==============================] - 1s 1us/step - loss: 3.0536 - val_loss: 3.3181\n",
      "Epoch 6/12\n",
      "728008/728008 [==============================] - 1s 1us/step - loss: 3.0309 - val_loss: 3.2888\n",
      "Epoch 7/12\n",
      "728008/728008 [==============================] - 1s 1us/step - loss: 3.0183 - val_loss: 3.2647\n",
      "Epoch 8/12\n",
      "728008/728008 [==============================] - 1s 1us/step - loss: 3.0108 - val_loss: 3.2571\n",
      "Epoch 9/12\n",
      "728008/728008 [==============================] - 1s 1us/step - loss: 3.0076 - val_loss: 3.2457\n",
      "Epoch 10/12\n",
      "728008/728008 [==============================] - 1s 1us/step - loss: 3.0105 - val_loss: 3.2460\n",
      "Epoch 11/12\n",
      "728008/728008 [==============================] - 1s 1us/step - loss: 3.0086 - val_loss: 3.2362\n",
      "Epoch 12/12\n",
      "728008/728008 [==============================] - 1s 1us/step - loss: 3.0055 - val_loss: 3.2519\n"
     ]
    },
    {
     "data": {
      "text/plain": [
       "<keras.callbacks.History at 0x7f0ffc5d7f28>"
      ]
     },
     "execution_count": 36,
     "metadata": {},
     "output_type": "execute_result"
    }
   ],
   "source": [
    "ln.fit(X_train, y_train, 10_000, epochs=12, validation_data=(X_valid, y_valid))"
   ]
  },
  {
   "cell_type": "code",
   "execution_count": 39,
   "metadata": {},
   "outputs": [
    {
     "name": "stdout",
     "output_type": "stream",
     "text": [
      "180849/180849 [==============================] - 0s 1us/step\n"
     ]
    },
    {
     "data": {
      "text/plain": [
       "3.2519269126155113"
      ]
     },
     "execution_count": 39,
     "metadata": {},
     "output_type": "execute_result"
    }
   ],
   "source": [
    "ln.evaluate(X_valid, y_valid, 10000)"
   ]
  },
  {
   "cell_type": "markdown",
   "metadata": {},
   "source": [
    "Recall that with the sklearn linear regression algorithm we got a score of around 3.24. This indicates that we are doing pretty much the same here. But we can do better!"
   ]
  },
  {
   "cell_type": "markdown",
   "metadata": {},
   "source": [
    "## Neural network with a hidden layer"
   ]
  },
  {
   "cell_type": "code",
   "execution_count": 52,
   "metadata": {},
   "outputs": [],
   "source": [
    "nn = Sequential([\n",
    "    Dense(256, input_shape=(22,), activation='relu'),\n",
    "    Dense(1, activation='linear')\n",
    "])"
   ]
  },
  {
   "cell_type": "code",
   "execution_count": 53,
   "metadata": {},
   "outputs": [
    {
     "name": "stdout",
     "output_type": "stream",
     "text": [
      "_________________________________________________________________\n",
      "Layer (type)                 Output Shape              Param #   \n",
      "=================================================================\n",
      "dense_17 (Dense)             (None, 256)               5888      \n",
      "_________________________________________________________________\n",
      "dense_18 (Dense)             (None, 1)                 257       \n",
      "=================================================================\n",
      "Total params: 6,145\n",
      "Trainable params: 6,145\n",
      "Non-trainable params: 0\n",
      "_________________________________________________________________\n"
     ]
    }
   ],
   "source": [
    "nn.summary()"
   ]
  },
  {
   "cell_type": "code",
   "execution_count": 41,
   "metadata": {},
   "outputs": [],
   "source": [
    "nn.compile(Adam(1e-3), 'mse')"
   ]
  },
  {
   "cell_type": "code",
   "execution_count": 43,
   "metadata": {},
   "outputs": [
    {
     "name": "stdout",
     "output_type": "stream",
     "text": [
      "Train on 728008 samples, validate on 180849 samples\n",
      "Epoch 1/12\n",
      "728008/728008 [==============================] - 4s 6us/step - loss: 9.0466 - val_loss: 3.3911\n",
      "Epoch 2/12\n",
      "728008/728008 [==============================] - 4s 5us/step - loss: 2.8325 - val_loss: 3.0486\n",
      "Epoch 3/12\n",
      "728008/728008 [==============================] - 4s 6us/step - loss: 2.6490 - val_loss: 2.9720\n",
      "Epoch 4/12\n",
      "728008/728008 [==============================] - 4s 5us/step - loss: 2.5792 - val_loss: 2.9627\n",
      "Epoch 5/12\n",
      "728008/728008 [==============================] - 4s 5us/step - loss: 2.5340 - val_loss: 2.9400\n",
      "Epoch 6/12\n",
      "728008/728008 [==============================] - 4s 5us/step - loss: 2.4965 - val_loss: 2.9030\n",
      "Epoch 7/12\n",
      "728008/728008 [==============================] - 4s 6us/step - loss: 2.4643 - val_loss: 2.9304\n",
      "Epoch 8/12\n",
      "728008/728008 [==============================] - 4s 6us/step - loss: 2.4347 - val_loss: 2.9048\n",
      "Epoch 9/12\n",
      "728008/728008 [==============================] - 4s 6us/step - loss: 2.4104 - val_loss: 2.9234\n",
      "Epoch 10/12\n",
      "728008/728008 [==============================] - 4s 5us/step - loss: 2.3846 - val_loss: 2.8706\n",
      "Epoch 11/12\n",
      "728008/728008 [==============================] - 4s 6us/step - loss: 2.3649 - val_loss: 2.8880\n",
      "Epoch 12/12\n",
      "728008/728008 [==============================] - 4s 6us/step - loss: 2.3439 - val_loss: 2.8833\n"
     ]
    },
    {
     "data": {
      "text/plain": [
       "<keras.callbacks.History at 0x7f0ffc384978>"
      ]
     },
     "execution_count": 43,
     "metadata": {},
     "output_type": "execute_result"
    }
   ],
   "source": [
    "nn.fit(X_train, y_train, 1024, epochs=12, validation_data=(X_valid, y_valid))"
   ]
  },
  {
   "cell_type": "markdown",
   "metadata": {},
   "source": [
    "## ADVANCED TECHNIQUE ALERT: Embeddings"
   ]
  },
  {
   "cell_type": "code",
   "execution_count": 58,
   "metadata": {},
   "outputs": [],
   "source": [
    "split_date = '2015-01-01'"
   ]
  },
  {
   "cell_type": "code",
   "execution_count": 59,
   "metadata": {},
   "outputs": [],
   "source": [
    "stations_train = df_train.station[df_train.time < split_date]\n",
    "stations_valid = df_train.station[df_train.time >= split_date]"
   ]
  },
  {
   "cell_type": "code",
   "execution_count": 67,
   "metadata": {},
   "outputs": [],
   "source": [
    "stations = df_train.station"
   ]
  },
  {
   "cell_type": "code",
   "execution_count": 68,
   "metadata": {},
   "outputs": [],
   "source": [
    "unique_stations = stations.unique()"
   ]
  },
  {
   "cell_type": "code",
   "execution_count": 69,
   "metadata": {},
   "outputs": [],
   "source": [
    "stat2id = {s: i for i, s in enumerate(unique_stations)}"
   ]
  },
  {
   "cell_type": "code",
   "execution_count": 70,
   "metadata": {},
   "outputs": [],
   "source": [
    "ids = stations.apply(lambda x: stat2id[x])"
   ]
  },
  {
   "cell_type": "code",
   "execution_count": 72,
   "metadata": {},
   "outputs": [],
   "source": [
    "ids_train = ids[df_train.time < split_date]\n",
    "ids_valid = ids[df_train.time >= split_date]"
   ]
  },
  {
   "cell_type": "code",
   "execution_count": 73,
   "metadata": {},
   "outputs": [],
   "source": [
    "from keras.models import Model"
   ]
  },
  {
   "cell_type": "code",
   "execution_count": 95,
   "metadata": {},
   "outputs": [],
   "source": [
    "features_in = Input(shape=(22,))\n",
    "id_in = Input(shape=(1,))\n",
    "emb = Embedding(len(unique_stations), 2)(id_in)\n",
    "emb = Flatten()(emb)\n",
    "x = Concatenate()([features_in, emb])\n",
    "x = Dense(100, activation='relu')(x)\n",
    "#x = Dropout(0.2)(x)\n",
    "out = Dense(1, activation='linear')(x)\n",
    "model = Model(inputs=[features_in, id_in], outputs=out)"
   ]
  },
  {
   "cell_type": "code",
   "execution_count": 96,
   "metadata": {},
   "outputs": [
    {
     "name": "stdout",
     "output_type": "stream",
     "text": [
      "__________________________________________________________________________________________________\n",
      "Layer (type)                    Output Shape         Param #     Connected to                     \n",
      "==================================================================================================\n",
      "input_12 (InputLayer)           (None, 1)            0                                            \n",
      "__________________________________________________________________________________________________\n",
      "embedding_6 (Embedding)         (None, 1, 2)         1040        input_12[0][0]                   \n",
      "__________________________________________________________________________________________________\n",
      "input_11 (InputLayer)           (None, 22)           0                                            \n",
      "__________________________________________________________________________________________________\n",
      "flatten_6 (Flatten)             (None, 2)            0           embedding_6[0][0]                \n",
      "__________________________________________________________________________________________________\n",
      "concatenate_6 (Concatenate)     (None, 24)           0           input_11[0][0]                   \n",
      "                                                                 flatten_6[0][0]                  \n",
      "__________________________________________________________________________________________________\n",
      "dense_32 (Dense)                (None, 100)          2500        concatenate_6[0][0]              \n",
      "__________________________________________________________________________________________________\n",
      "dense_33 (Dense)                (None, 1)            101         dense_32[0][0]                   \n",
      "==================================================================================================\n",
      "Total params: 3,641\n",
      "Trainable params: 3,641\n",
      "Non-trainable params: 0\n",
      "__________________________________________________________________________________________________\n"
     ]
    }
   ],
   "source": [
    "model.summary()"
   ]
  },
  {
   "cell_type": "code",
   "execution_count": 97,
   "metadata": {},
   "outputs": [],
   "source": [
    "model.compile('adam', 'mse')"
   ]
  },
  {
   "cell_type": "code",
   "execution_count": 98,
   "metadata": {},
   "outputs": [
    {
     "name": "stdout",
     "output_type": "stream",
     "text": [
      "Train on 728008 samples, validate on 180849 samples\n",
      "Epoch 1/10\n",
      "728008/728008 [==============================] - 5s 7us/step - loss: 10.0533 - val_loss: 3.2571\n",
      "Epoch 2/10\n",
      "728008/728008 [==============================] - 5s 6us/step - loss: 2.7089 - val_loss: 2.8566\n",
      "Epoch 3/10\n",
      "728008/728008 [==============================] - 5s 6us/step - loss: 2.4836 - val_loss: 2.7187\n",
      "Epoch 4/10\n",
      "728008/728008 [==============================] - 5s 6us/step - loss: 2.3735 - val_loss: 2.6649\n",
      "Epoch 5/10\n",
      "728008/728008 [==============================] - 5s 7us/step - loss: 2.2991 - val_loss: 2.6173\n",
      "Epoch 6/10\n",
      "728008/728008 [==============================] - 5s 6us/step - loss: 2.2401 - val_loss: 2.5528\n",
      "Epoch 7/10\n",
      "728008/728008 [==============================] - 5s 7us/step - loss: 2.1935 - val_loss: 2.5359\n",
      "Epoch 8/10\n",
      "728008/728008 [==============================] - 5s 7us/step - loss: 2.1600 - val_loss: 2.5222\n",
      "Epoch 9/10\n",
      "728008/728008 [==============================] - 5s 6us/step - loss: 2.1313 - val_loss: 2.5012\n",
      "Epoch 10/10\n",
      "728008/728008 [==============================] - 5s 6us/step - loss: 2.1034 - val_loss: 2.5012\n"
     ]
    },
    {
     "data": {
      "text/plain": [
       "<keras.callbacks.History at 0x7f0db04d0978>"
      ]
     },
     "execution_count": 98,
     "metadata": {},
     "output_type": "execute_result"
    }
   ],
   "source": [
    "model.fit([X_train, ids_train], y_train, 1024, 10, \n",
    "          validation_data=([X_valid, ids_valid], y_valid))"
   ]
  },
  {
   "cell_type": "code",
   "execution_count": 99,
   "metadata": {},
   "outputs": [
    {
     "name": "stdout",
     "output_type": "stream",
     "text": [
      "Train on 728008 samples, validate on 180849 samples\n",
      "Epoch 1/10\n",
      "728008/728008 [==============================] - 5s 6us/step - loss: 2.0705 - val_loss: 2.4833\n",
      "Epoch 2/10\n",
      "728008/728008 [==============================] - 5s 6us/step - loss: 2.0423 - val_loss: 2.4512\n",
      "Epoch 3/10\n",
      "728008/728008 [==============================] - 5s 6us/step - loss: 2.0239 - val_loss: 2.4660\n",
      "Epoch 4/10\n",
      "728008/728008 [==============================] - 5s 6us/step - loss: 2.0111 - val_loss: 2.4331\n",
      "Epoch 5/10\n",
      "728008/728008 [==============================] - 5s 6us/step - loss: 2.0007 - val_loss: 2.4228\n",
      "Epoch 6/10\n",
      "728008/728008 [==============================] - 5s 6us/step - loss: 1.9915 - val_loss: 2.4276\n",
      "Epoch 7/10\n",
      "728008/728008 [==============================] - 5s 6us/step - loss: 1.9836 - val_loss: 2.4551\n",
      "Epoch 8/10\n",
      "728008/728008 [==============================] - 5s 6us/step - loss: 1.9767 - val_loss: 2.4499\n",
      "Epoch 9/10\n",
      "728008/728008 [==============================] - 5s 6us/step - loss: 1.9697 - val_loss: 2.4180\n",
      "Epoch 10/10\n",
      "728008/728008 [==============================] - 5s 6us/step - loss: 1.9650 - val_loss: 2.4252\n"
     ]
    },
    {
     "data": {
      "text/plain": [
       "<keras.callbacks.History at 0x7f0db04d0d68>"
      ]
     },
     "execution_count": 99,
     "metadata": {},
     "output_type": "execute_result"
    }
   ],
   "source": [
    "model.fit([X_train, ids_train], y_train, 1024, 10, \n",
    "          validation_data=([X_valid, ids_valid], y_valid))"
   ]
  },
  {
   "cell_type": "code",
   "execution_count": null,
   "metadata": {},
   "outputs": [],
   "source": []
  }
 ],
 "metadata": {
  "kernelspec": {
   "display_name": "Python 3",
   "language": "python",
   "name": "python3"
  },
  "language_info": {
   "codemirror_mode": {
    "name": "ipython",
    "version": 3
   },
   "file_extension": ".py",
   "mimetype": "text/x-python",
   "name": "python",
   "nbconvert_exporter": "python",
   "pygments_lexer": "ipython3",
   "version": "3.6.5"
  },
  "toc": {
   "base_numbering": 1,
   "nav_menu": {},
   "number_sections": true,
   "sideBar": false,
   "skip_h1_title": true,
   "title_cell": "Table of Contents",
   "title_sidebar": "Contents",
   "toc_cell": false,
   "toc_position": {},
   "toc_section_display": true,
   "toc_window_display": false
  }
 },
 "nbformat": 4,
 "nbformat_minor": 2
}
